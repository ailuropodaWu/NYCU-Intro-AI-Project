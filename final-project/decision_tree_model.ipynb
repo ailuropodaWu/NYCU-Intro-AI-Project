{
 "cells": [
  {
   "cell_type": "code",
   "execution_count": 9,
   "metadata": {},
   "outputs": [
    {
     "name": "stdout",
     "output_type": "stream",
     "text": [
      "0.7580789709526069\n",
      "Accuracy: 0.744\n",
      "Precision: 0.597\n",
      "Recall: 0.601\n",
      "ROC-AUC: 0.706\n",
      "Accuracy: 0.746\n",
      "Precision: 0.599\n",
      "Recall: 0.599\n",
      "ROC-AUC: 0.706\n"
     ]
    }
   ],
   "source": [
    "import pandas as pd\n",
    "from sklearn.tree import DecisionTreeClassifier\n",
    "from sklearn.metrics import roc_auc_score, accuracy_score, precision_score, recall_score\n",
    "from sklearn.model_selection import train_test_split\n",
    "def evaluate_model(model):\n",
    "    final_proba = model.predict_proba(test)\n",
    "    final_proba = final_proba[:, 1]\n",
    "    final_preds = model.predict(test)\n",
    "    print(f'Accuracy:', f'{accuracy_score(actual, final_preds):.3f}')\n",
    "    print(f'Precision:', f'{precision_score(actual, final_preds):.3f}')\n",
    "    print(f'Recall:', f'{recall_score(actual, final_preds):.3f}')\n",
    "    print(f'ROC-AUC:', f'{roc_auc_score(actual, final_proba):.3f}')\n",
    "\n",
    "model = DecisionTreeClassifier()\n",
    "train = pd.read_pickle('./feature/feat_v1.pkl')\n",
    "train = train.drop(columns=['group_by_subsection_name', 'feature_subsection_name'])\n",
    "X = train.drop(columns='is_popular')\n",
    "y = train['is_popular']\n",
    "X_train, X_test, y_train, y_test = train_test_split(X, y, test_size=0.3, random_state=42)\n",
    "\n",
    "test = pd.read_pickle('./feature/feat_test_v1.pkl')\n",
    "test = test.drop(columns=['group_by_subsection_name', 'feature_subsection_name'])\n",
    "actual = test['is_popular']\n",
    "test = test.drop(columns='is_popular')\n",
    "model.fit(X_train, y_train)\n",
    "print(model.score(X_test, y_test))\n",
    "evaluate_model(model)\n",
    "model.fit(X, y)\n",
    "evaluate_model(model)"
   ]
  }
 ],
 "metadata": {
  "kernelspec": {
   "display_name": "base",
   "language": "python",
   "name": "python3"
  },
  "language_info": {
   "codemirror_mode": {
    "name": "ipython",
    "version": 3
   },
   "file_extension": ".py",
   "mimetype": "text/x-python",
   "name": "python",
   "nbconvert_exporter": "python",
   "pygments_lexer": "ipython3",
   "version": "3.9.13"
  },
  "orig_nbformat": 4
 },
 "nbformat": 4,
 "nbformat_minor": 2
}
