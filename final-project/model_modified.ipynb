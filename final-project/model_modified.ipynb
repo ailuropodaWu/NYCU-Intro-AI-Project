{
 "cells": [
  {
   "cell_type": "code",
   "execution_count": 1,
   "metadata": {},
   "outputs": [],
   "source": [
    "import pandas as pd\n",
    "import numpy as np\n",
    "import matplotlib.pyplot as plt\n",
    "import seaborn as sns\n",
    "import pickle\n",
    "import joblib\n",
    "import sklearn.metrics\n",
    "from sklearn.preprocessing import StandardScaler\n",
    "from sklearn.model_selection import train_test_split, GridSearchCV, cross_val_score\n",
    "from sklearn.pipeline import Pipeline\n",
    "from sklearn.linear_model import LogisticRegression\n",
    "from sklearn.metrics import (confusion_matrix, classification_report,  roc_auc_score, \n",
    "accuracy_score, precision_score, recall_score, f1_score, auc, precision_recall_curve, average_precision_score)\n",
    "from sklearn.ensemble import (RandomForestClassifier)\n",
    "from sklearn.svm import SVC\n",
    "import xgboost\n",
    "from xgboost import XGBClassifier"
   ]
  },
  {
   "cell_type": "code",
   "execution_count": 2,
   "metadata": {},
   "outputs": [],
   "source": [
    "pd.set_option('display.max_rows', 400)\n",
    "pd.set_option('max_colwidth', 120)\n",
    "pd.set_option('display.max_columns', None)"
   ]
  },
  {
   "cell_type": "code",
   "execution_count": 12,
   "metadata": {},
   "outputs": [
    {
     "name": "stderr",
     "output_type": "stream",
     "text": [
      "c:\\Users\\kaun9\\AppData\\Local\\Programs\\Python\\Python311\\Lib\\site-packages\\xgboost\\sklearn.py:1395: UserWarning: `use_label_encoder` is deprecated in 1.7.0.\n",
      "  warnings.warn(\"`use_label_encoder` is deprecated in 1.7.0.\")\n"
     ]
    }
   ],
   "source": [
    "models = {'rf': RandomForestClassifier(random_state=42),\n",
    "          'xgb': XGBClassifier(seed=42, use_label_encoder=False, eval_metric='auc'),\n",
    "          'xgb_v1': XGBClassifier(seed=42, use_label_encoder=False, eval_metric='auc'),\n",
    "          'xgb_v1_03': XGBClassifier(seed=42, use_label_encoder=False, eval_metric='auc')}"
   ]
  },
  {
   "cell_type": "code",
   "execution_count": 4,
   "metadata": {},
   "outputs": [],
   "source": [
    "class CustomTransformer():\n",
    "    def __init__(self, func):\n",
    "        self.func = func\n",
    "\n",
    "    def transform(self, input_df, **transform_params):\n",
    "        return self.func(input_df)\n",
    "\n",
    "    def fit(self, X, y=None, **fit_params):\n",
    "        return self\n",
    "\n",
    "# This function takes a dataframe as input and returns a scaled version\n",
    "def scale_df(input_df):\n",
    "    ss = StandardScaler()\n",
    "    feature_names = input_df.columns\n",
    "    input_df = ss.fit_transform(input_df)\n",
    "    input_df = pd.DataFrame(input_df, columns=feature_names)\n",
    "    return input_df"
   ]
  },
  {
   "cell_type": "code",
   "execution_count": 5,
   "metadata": {},
   "outputs": [],
   "source": [
    "init_list = []\n",
    "gs_list = []\n",
    "\n",
    "# Function to run model -- input scaler and model\n",
    "def run_model(mod, mod_params={}, grid_search=False):\n",
    "    \n",
    "    # Initial dictionary to hold model results\n",
    "    results = {}\n",
    "    \n",
    "    pipe = Pipeline([\n",
    "            ('ss', CustomTransformer(scale_df)),\n",
    "            (mod, models[mod])\n",
    "            ])\n",
    "    if grid_search:\n",
    "        # Instantiate list to store gridsearch results\n",
    "        gs = GridSearchCV(pipe, param_grid=mod_params, cv=3, verbose=1, scoring='roc_auc', n_jobs=-1)\n",
    "        gs.fit(X_train, y_train)\n",
    "        pipe = gs.best_estimator_\n",
    "        \n",
    "    else:\n",
    "        pipe.fit(X_train, y_train)\n",
    "    # Retrieve metrics\n",
    "    predictions = pipe.predict(X_test)\n",
    "    tn, fp, fn, tp = confusion_matrix(y_test, predictions).ravel()\n",
    "    y_test_pred_prob = pipe.predict_proba(X_test)[:,1]\n",
    "    y_train_pred_prob = pipe.predict_proba(X_train)[:,1]\n",
    "    \n",
    "    results['model'] = mod\n",
    "    results['train_auc'] = roc_auc_score(y_train, y_train_pred_prob)\n",
    "    results['test_auc'] = roc_auc_score(y_test, y_test_pred_prob)\n",
    "    results['precision'] = precision_score(y_test, predictions)\n",
    "    results['specificity'] = tn / (tn + fp)\n",
    "    results['recall'] = recall_score(y_test, predictions)\n",
    "    results['f_score'] = f1_score(y_test, predictions)\n",
    "    \n",
    "    if grid_search:\n",
    "        gs_list.append(results)\n",
    "        print('### BEST PARAMS ###')\n",
    "        display(pipe[1])\n",
    "        \n",
    "    else:\n",
    "        init_list.append(results)\n",
    "    \n",
    "    print('### METRICS ###')\n",
    "    display(results)\n",
    "    \n",
    "    print(f\"True Negatives: {tn}\")\n",
    "    print(f\"False Positives: {fp}\")\n",
    "    print(f\"False Negatives: {fn}\")\n",
    "    print(f\"True Positives: {tp}\")\n",
    "    \n",
    "    return pipe"
   ]
  },
  {
   "cell_type": "code",
   "execution_count": 6,
   "metadata": {},
   "outputs": [],
   "source": [
    "def evaluate_model(model):\n",
    "    final_proba = model.predict_proba(test)\n",
    "    final_proba = final_proba[:, 1]\n",
    "    final_preds = model.predict(test)\n",
    "    print(f'Accuracy:', f'{accuracy_score(final_actual, final_preds):.3f}')\n",
    "    print(f'Precision:', f'{precision_score(final_actual, final_preds):.3f}')\n",
    "    print(f'Recall:', f'{recall_score(final_actual, final_preds):.3f}')\n",
    "    print(f'ROC-AUC:', f'{roc_auc_score(final_actual, final_proba):.3f}')"
   ]
  },
  {
   "cell_type": "code",
   "execution_count": 18,
   "metadata": {},
   "outputs": [
    {
     "name": "stdout",
     "output_type": "stream",
     "text": [
      "### METRICS ###\n"
     ]
    },
    {
     "data": {
      "text/plain": [
       "{'model': 'rf',\n",
       " 'train_auc': 0.9998967887426946,\n",
       " 'test_auc': 0.8473006835753296,\n",
       " 'precision': 0.7346938775510204,\n",
       " 'specificity': 0.9173339613754121,\n",
       " 'recall': 0.5436241610738255,\n",
       " 'f_score': 0.6248794599807136}"
      ]
     },
     "metadata": {},
     "output_type": "display_data"
    },
    {
     "name": "stdout",
     "output_type": "stream",
     "text": [
      "True Negatives: 3895\n",
      "False Positives: 351\n",
      "False Negatives: 816\n",
      "True Positives: 972\n"
     ]
    }
   ],
   "source": [
    "rf = run_model('rf')"
   ]
  },
  {
   "cell_type": "code",
   "execution_count": 19,
   "metadata": {},
   "outputs": [
    {
     "data": {
      "text/html": [
       "<div>\n",
       "<style scoped>\n",
       "    .dataframe tbody tr th:only-of-type {\n",
       "        vertical-align: middle;\n",
       "    }\n",
       "\n",
       "    .dataframe tbody tr th {\n",
       "        vertical-align: top;\n",
       "    }\n",
       "\n",
       "    .dataframe thead th {\n",
       "        text-align: right;\n",
       "    }\n",
       "</style>\n",
       "<table border=\"1\" class=\"dataframe\">\n",
       "  <thead>\n",
       "    <tr style=\"text-align: right;\">\n",
       "      <th></th>\n",
       "      <th>model</th>\n",
       "      <th>train_auc</th>\n",
       "      <th>test_auc</th>\n",
       "      <th>precision</th>\n",
       "      <th>specificity</th>\n",
       "      <th>recall</th>\n",
       "      <th>f_score</th>\n",
       "    </tr>\n",
       "  </thead>\n",
       "  <tbody>\n",
       "    <tr>\n",
       "      <th>0</th>\n",
       "      <td>rf</td>\n",
       "      <td>0.999897</td>\n",
       "      <td>0.847301</td>\n",
       "      <td>0.734694</td>\n",
       "      <td>0.917334</td>\n",
       "      <td>0.543624</td>\n",
       "      <td>0.624879</td>\n",
       "    </tr>\n",
       "  </tbody>\n",
       "</table>\n",
       "</div>"
      ],
      "text/plain": [
       "  model  train_auc  test_auc  precision  specificity    recall   f_score\n",
       "0    rf   0.999897  0.847301   0.734694     0.917334  0.543624  0.624879"
      ]
     },
     "execution_count": 19,
     "metadata": {},
     "output_type": "execute_result"
    }
   ],
   "source": [
    "pd.DataFrame(init_list).sort_values(by='test_auc', ascending=False).reset_index(drop=True)"
   ]
  },
  {
   "cell_type": "code",
   "execution_count": null,
   "metadata": {},
   "outputs": [],
   "source": [
    "rf_params = {'rf__n_estimators': [100, 200, 300, 400, 500],\n",
    "             'rf__max_depth': [10, 20, 30, 40, 50, 60],\n",
    "             'rf__min_samples_leaf': [i for i in range(2, 18)],\n",
    "            }\n",
    "rf_gs =  run_model('rf', mod_params=rf_params, grid_search=True)\n",
    "joblib.dump(rf_gs[1], \"./model/rf_modified_v1.joblib\")"
   ]
  },
  {
   "attachments": {},
   "cell_type": "markdown",
   "metadata": {},
   "source": [
    "# Random Forest Model\n"
   ]
  },
  {
   "attachments": {},
   "cell_type": "markdown",
   "metadata": {},
   "source": [
    "- UNModified Version1<br/>\n",
    "Choose the first 40 feature with the higher correlation with is_popular"
   ]
  },
  {
   "cell_type": "code",
   "execution_count": 8,
   "metadata": {},
   "outputs": [],
   "source": [
    "X_graph = []\n",
    "y_graph = []"
   ]
  },
  {
   "cell_type": "code",
   "execution_count": 13,
   "metadata": {},
   "outputs": [
    {
     "name": "stdout",
     "output_type": "stream",
     "text": [
      "### METRICS ###\n"
     ]
    },
    {
     "data": {
      "text/plain": [
       "{'model': 'rf',\n",
       " 'train_auc': 0.9999999648146146,\n",
       " 'test_auc': 0.8861427964945664,\n",
       " 'precision': 0.757903324495207,\n",
       " 'specificity': 0.9088535667664901,\n",
       " 'recall': 0.6249579549276825,\n",
       " 'f_score': 0.6850400958613697}"
      ]
     },
     "metadata": {},
     "output_type": "display_data"
    },
    {
     "name": "stdout",
     "output_type": "stream",
     "text": [
      "True Negatives: 11836\n",
      "False Positives: 1187\n",
      "False Negatives: 2230\n",
      "True Positives: 3716\n",
      "Fitting 3 folds for each of 1 candidates, totalling 3 fits\n",
      "### BEST PARAMS ###\n"
     ]
    },
    {
     "data": {
      "text/html": [
       "<style>#sk-container-id-1 {color: black;background-color: white;}#sk-container-id-1 pre{padding: 0;}#sk-container-id-1 div.sk-toggleable {background-color: white;}#sk-container-id-1 label.sk-toggleable__label {cursor: pointer;display: block;width: 100%;margin-bottom: 0;padding: 0.3em;box-sizing: border-box;text-align: center;}#sk-container-id-1 label.sk-toggleable__label-arrow:before {content: \"▸\";float: left;margin-right: 0.25em;color: #696969;}#sk-container-id-1 label.sk-toggleable__label-arrow:hover:before {color: black;}#sk-container-id-1 div.sk-estimator:hover label.sk-toggleable__label-arrow:before {color: black;}#sk-container-id-1 div.sk-toggleable__content {max-height: 0;max-width: 0;overflow: hidden;text-align: left;background-color: #f0f8ff;}#sk-container-id-1 div.sk-toggleable__content pre {margin: 0.2em;color: black;border-radius: 0.25em;background-color: #f0f8ff;}#sk-container-id-1 input.sk-toggleable__control:checked~div.sk-toggleable__content {max-height: 200px;max-width: 100%;overflow: auto;}#sk-container-id-1 input.sk-toggleable__control:checked~label.sk-toggleable__label-arrow:before {content: \"▾\";}#sk-container-id-1 div.sk-estimator input.sk-toggleable__control:checked~label.sk-toggleable__label {background-color: #d4ebff;}#sk-container-id-1 div.sk-label input.sk-toggleable__control:checked~label.sk-toggleable__label {background-color: #d4ebff;}#sk-container-id-1 input.sk-hidden--visually {border: 0;clip: rect(1px 1px 1px 1px);clip: rect(1px, 1px, 1px, 1px);height: 1px;margin: -1px;overflow: hidden;padding: 0;position: absolute;width: 1px;}#sk-container-id-1 div.sk-estimator {font-family: monospace;background-color: #f0f8ff;border: 1px dotted black;border-radius: 0.25em;box-sizing: border-box;margin-bottom: 0.5em;}#sk-container-id-1 div.sk-estimator:hover {background-color: #d4ebff;}#sk-container-id-1 div.sk-parallel-item::after {content: \"\";width: 100%;border-bottom: 1px solid gray;flex-grow: 1;}#sk-container-id-1 div.sk-label:hover label.sk-toggleable__label {background-color: #d4ebff;}#sk-container-id-1 div.sk-serial::before {content: \"\";position: absolute;border-left: 1px solid gray;box-sizing: border-box;top: 0;bottom: 0;left: 50%;z-index: 0;}#sk-container-id-1 div.sk-serial {display: flex;flex-direction: column;align-items: center;background-color: white;padding-right: 0.2em;padding-left: 0.2em;position: relative;}#sk-container-id-1 div.sk-item {position: relative;z-index: 1;}#sk-container-id-1 div.sk-parallel {display: flex;align-items: stretch;justify-content: center;background-color: white;position: relative;}#sk-container-id-1 div.sk-item::before, #sk-container-id-1 div.sk-parallel-item::before {content: \"\";position: absolute;border-left: 1px solid gray;box-sizing: border-box;top: 0;bottom: 0;left: 50%;z-index: -1;}#sk-container-id-1 div.sk-parallel-item {display: flex;flex-direction: column;z-index: 1;position: relative;background-color: white;}#sk-container-id-1 div.sk-parallel-item:first-child::after {align-self: flex-end;width: 50%;}#sk-container-id-1 div.sk-parallel-item:last-child::after {align-self: flex-start;width: 50%;}#sk-container-id-1 div.sk-parallel-item:only-child::after {width: 0;}#sk-container-id-1 div.sk-dashed-wrapped {border: 1px dashed gray;margin: 0 0.4em 0.5em 0.4em;box-sizing: border-box;padding-bottom: 0.4em;background-color: white;}#sk-container-id-1 div.sk-label label {font-family: monospace;font-weight: bold;display: inline-block;line-height: 1.2em;}#sk-container-id-1 div.sk-label-container {text-align: center;}#sk-container-id-1 div.sk-container {/* jupyter's `normalize.less` sets `[hidden] { display: none; }` but bootstrap.min.css set `[hidden] { display: none !important; }` so we also need the `!important` here to be able to override the default hidden behavior on the sphinx rendered scikit-learn.org. See: https://github.com/scikit-learn/scikit-learn/issues/21755 */display: inline-block !important;position: relative;}#sk-container-id-1 div.sk-text-repr-fallback {display: none;}</style><div id=\"sk-container-id-1\" class=\"sk-top-container\"><div class=\"sk-text-repr-fallback\"><pre>RandomForestClassifier(max_depth=20, min_samples_leaf=2, n_estimators=300,\n",
       "                       random_state=42)</pre><b>In a Jupyter environment, please rerun this cell to show the HTML representation or trust the notebook. <br />On GitHub, the HTML representation is unable to render, please try loading this page with nbviewer.org.</b></div><div class=\"sk-container\" hidden><div class=\"sk-item\"><div class=\"sk-estimator sk-toggleable\"><input class=\"sk-toggleable__control sk-hidden--visually\" id=\"sk-estimator-id-1\" type=\"checkbox\" checked><label for=\"sk-estimator-id-1\" class=\"sk-toggleable__label sk-toggleable__label-arrow\">RandomForestClassifier</label><div class=\"sk-toggleable__content\"><pre>RandomForestClassifier(max_depth=20, min_samples_leaf=2, n_estimators=300,\n",
       "                       random_state=42)</pre></div></div></div></div></div>"
      ],
      "text/plain": [
       "RandomForestClassifier(max_depth=20, min_samples_leaf=2, n_estimators=300,\n",
       "                       random_state=42)"
      ]
     },
     "metadata": {},
     "output_type": "display_data"
    },
    {
     "name": "stdout",
     "output_type": "stream",
     "text": [
      "### METRICS ###\n"
     ]
    },
    {
     "data": {
      "text/plain": [
       "{'model': 'rf',\n",
       " 'train_auc': 0.9945258882383992,\n",
       " 'test_auc': 0.8893295178891113,\n",
       " 'precision': 0.7667644593461861,\n",
       " 'specificity': 0.9145358212393457,\n",
       " 'recall': 0.6153716784392869,\n",
       " 'f_score': 0.6827766374323568}"
      ]
     },
     "metadata": {},
     "output_type": "display_data"
    },
    {
     "name": "stdout",
     "output_type": "stream",
     "text": [
      "True Negatives: 11910\n",
      "False Positives: 1113\n",
      "False Negatives: 2287\n",
      "True Positives: 3659\n",
      "Accuracy: 0.806\n",
      "Precision: 0.761\n",
      "Recall: 0.566\n",
      "ROC-AUC: 0.879\n",
      " \n",
      "Accuracy: 0.810\n",
      "Precision: 0.772\n",
      "Recall: 0.568\n",
      "ROC-AUC: 0.882\n"
     ]
    }
   ],
   "source": [
    "train = pd.read_pickle('./feature/feat_v1.pkl')\n",
    "X = train.drop(columns=['is_popular','n_comment','group_by_subsection_name','feature_subsection_name'])\n",
    "y = train['is_popular']\n",
    "X_train, X_test, y_train, y_test = train_test_split(X, y, test_size=0.3, random_state=42)\n",
    "X_graph.append(X_test)\n",
    "y_graph.append(y_test)\n",
    "feature_names = X_train.columns\n",
    "\n",
    "rf_v1 = run_model('rf')\n",
    "rf_v1_param = { \n",
    "              'rf__n_estimators': [300],\n",
    "             'rf__max_depth': [20],\n",
    "             'rf__min_samples_leaf': [2],\n",
    "            }\n",
    "rf_gs_v1 = run_model('rf', mod_params=rf_v1_param, grid_search=True)\n",
    "test = pd.read_pickle('./feature/feat_test_v1.pkl')\n",
    "test = test._get_numeric_data()\n",
    "\n",
    "final_actual = test['is_popular']\n",
    "test = test.drop(columns=['is_popular'])\n",
    "test = test.drop(columns=['feature_subsection_name'])\n",
    "test = test.drop(columns=['n_comment'])\n",
    "test = test.drop(columns=['group_by_subsection_name'])\n",
    "\n",
    "evaluate_model(rf_gs_v1)\n",
    "rf_gs_v1.fit(X, y)\n",
    "print(' ')\n",
    "evaluate_model(rf_gs_v1)"
   ]
  },
  {
   "attachments": {},
   "cell_type": "markdown",
   "metadata": {},
   "source": [
    "- UNModified Version2<br/>\n",
    "The dataset has 30% is_popular data, as same as the modified dataset."
   ]
  },
  {
   "cell_type": "code",
   "execution_count": null,
   "metadata": {},
   "outputs": [],
   "source": [
    "train = pd.read_pickle('./feature/feat_v2.pkl')\n",
    "X = train.drop(columns=['is_popular','n_comment','group_by_subsection_name','feature_subsection_name'])\n",
    "y = train['is_popular']\n",
    "X_train, X_test, y_train, y_test = train_test_split(X, y, test_size=0.3, random_state=42)\n",
    "X_graph.append(X_test)\n",
    "y_graph.append(y_test)\n",
    "feature_names = X_train.columns\n",
    "\n",
    "rf_v2 = run_model('rf')\n",
    "rf_v2_param = { \n",
    "              'rf__n_estimators': [300],\n",
    "             'rf__max_depth': [25],\n",
    "             'rf__min_samples_leaf': [2],\n",
    "            }\n",
    "rf_gs_v2 = run_model('rf', mod_params=rf_v2_param, grid_search=True)\n",
    "test = pd.read_pickle('./feature/feat_test_v2.pkl')\n",
    "test = test._get_numeric_data()\n",
    "\n",
    "final_actual = test['is_popular']\n",
    "test = test.drop(columns=['is_popular'])\n",
    "test = test.drop(columns=['feature_subsection_name'])\n",
    "test = test.drop(columns=['n_comment'])\n",
    "test = test.drop(columns=['group_by_subsection_name'])\n",
    "\n",
    "evaluate_model(rf_gs_v2)\n",
    "rf_gs_v2.fit(X, y)\n",
    "print(' ')\n",
    "evaluate_model(rf_gs_v2)"
   ]
  },
  {
   "attachments": {},
   "cell_type": "markdown",
   "metadata": {},
   "source": [
    "- Modified Version1<br/>\n",
    "Choose the first 40 feature with the higher correlation with is_popular"
   ]
  },
  {
   "cell_type": "code",
   "execution_count": 16,
   "metadata": {},
   "outputs": [
    {
     "name": "stdout",
     "output_type": "stream",
     "text": [
      "### METRICS ###\n"
     ]
    },
    {
     "data": {
      "text/plain": [
       "{'model': 'rf',\n",
       " 'train_auc': 0.9999143583927594,\n",
       " 'test_auc': 0.8459441627387693,\n",
       " 'precision': 0.7375669472073451,\n",
       " 'specificity': 0.91921808761187,\n",
       " 'recall': 0.5391498881431768,\n",
       " 'f_score': 0.6229402261712439}"
      ]
     },
     "metadata": {},
     "output_type": "display_data"
    },
    {
     "name": "stdout",
     "output_type": "stream",
     "text": [
      "True Negatives: 3903\n",
      "False Positives: 343\n",
      "False Negatives: 824\n",
      "True Positives: 964\n",
      "Fitting 3 folds for each of 1 candidates, totalling 3 fits\n",
      "### BEST PARAMS ###\n"
     ]
    },
    {
     "data": {
      "text/html": [
       "<style>#sk-container-id-4 {color: black;background-color: white;}#sk-container-id-4 pre{padding: 0;}#sk-container-id-4 div.sk-toggleable {background-color: white;}#sk-container-id-4 label.sk-toggleable__label {cursor: pointer;display: block;width: 100%;margin-bottom: 0;padding: 0.3em;box-sizing: border-box;text-align: center;}#sk-container-id-4 label.sk-toggleable__label-arrow:before {content: \"▸\";float: left;margin-right: 0.25em;color: #696969;}#sk-container-id-4 label.sk-toggleable__label-arrow:hover:before {color: black;}#sk-container-id-4 div.sk-estimator:hover label.sk-toggleable__label-arrow:before {color: black;}#sk-container-id-4 div.sk-toggleable__content {max-height: 0;max-width: 0;overflow: hidden;text-align: left;background-color: #f0f8ff;}#sk-container-id-4 div.sk-toggleable__content pre {margin: 0.2em;color: black;border-radius: 0.25em;background-color: #f0f8ff;}#sk-container-id-4 input.sk-toggleable__control:checked~div.sk-toggleable__content {max-height: 200px;max-width: 100%;overflow: auto;}#sk-container-id-4 input.sk-toggleable__control:checked~label.sk-toggleable__label-arrow:before {content: \"▾\";}#sk-container-id-4 div.sk-estimator input.sk-toggleable__control:checked~label.sk-toggleable__label {background-color: #d4ebff;}#sk-container-id-4 div.sk-label input.sk-toggleable__control:checked~label.sk-toggleable__label {background-color: #d4ebff;}#sk-container-id-4 input.sk-hidden--visually {border: 0;clip: rect(1px 1px 1px 1px);clip: rect(1px, 1px, 1px, 1px);height: 1px;margin: -1px;overflow: hidden;padding: 0;position: absolute;width: 1px;}#sk-container-id-4 div.sk-estimator {font-family: monospace;background-color: #f0f8ff;border: 1px dotted black;border-radius: 0.25em;box-sizing: border-box;margin-bottom: 0.5em;}#sk-container-id-4 div.sk-estimator:hover {background-color: #d4ebff;}#sk-container-id-4 div.sk-parallel-item::after {content: \"\";width: 100%;border-bottom: 1px solid gray;flex-grow: 1;}#sk-container-id-4 div.sk-label:hover label.sk-toggleable__label {background-color: #d4ebff;}#sk-container-id-4 div.sk-serial::before {content: \"\";position: absolute;border-left: 1px solid gray;box-sizing: border-box;top: 0;bottom: 0;left: 50%;z-index: 0;}#sk-container-id-4 div.sk-serial {display: flex;flex-direction: column;align-items: center;background-color: white;padding-right: 0.2em;padding-left: 0.2em;position: relative;}#sk-container-id-4 div.sk-item {position: relative;z-index: 1;}#sk-container-id-4 div.sk-parallel {display: flex;align-items: stretch;justify-content: center;background-color: white;position: relative;}#sk-container-id-4 div.sk-item::before, #sk-container-id-4 div.sk-parallel-item::before {content: \"\";position: absolute;border-left: 1px solid gray;box-sizing: border-box;top: 0;bottom: 0;left: 50%;z-index: -1;}#sk-container-id-4 div.sk-parallel-item {display: flex;flex-direction: column;z-index: 1;position: relative;background-color: white;}#sk-container-id-4 div.sk-parallel-item:first-child::after {align-self: flex-end;width: 50%;}#sk-container-id-4 div.sk-parallel-item:last-child::after {align-self: flex-start;width: 50%;}#sk-container-id-4 div.sk-parallel-item:only-child::after {width: 0;}#sk-container-id-4 div.sk-dashed-wrapped {border: 1px dashed gray;margin: 0 0.4em 0.5em 0.4em;box-sizing: border-box;padding-bottom: 0.4em;background-color: white;}#sk-container-id-4 div.sk-label label {font-family: monospace;font-weight: bold;display: inline-block;line-height: 1.2em;}#sk-container-id-4 div.sk-label-container {text-align: center;}#sk-container-id-4 div.sk-container {/* jupyter's `normalize.less` sets `[hidden] { display: none; }` but bootstrap.min.css set `[hidden] { display: none !important; }` so we also need the `!important` here to be able to override the default hidden behavior on the sphinx rendered scikit-learn.org. See: https://github.com/scikit-learn/scikit-learn/issues/21755 */display: inline-block !important;position: relative;}#sk-container-id-4 div.sk-text-repr-fallback {display: none;}</style><div id=\"sk-container-id-4\" class=\"sk-top-container\"><div class=\"sk-text-repr-fallback\"><pre>RandomForestClassifier(max_depth=15, min_samples_leaf=7, n_estimators=300,\n",
       "                       random_state=42)</pre><b>In a Jupyter environment, please rerun this cell to show the HTML representation or trust the notebook. <br />On GitHub, the HTML representation is unable to render, please try loading this page with nbviewer.org.</b></div><div class=\"sk-container\" hidden><div class=\"sk-item\"><div class=\"sk-estimator sk-toggleable\"><input class=\"sk-toggleable__control sk-hidden--visually\" id=\"sk-estimator-id-4\" type=\"checkbox\" checked><label for=\"sk-estimator-id-4\" class=\"sk-toggleable__label sk-toggleable__label-arrow\">RandomForestClassifier</label><div class=\"sk-toggleable__content\"><pre>RandomForestClassifier(max_depth=15, min_samples_leaf=7, n_estimators=300,\n",
       "                       random_state=42)</pre></div></div></div></div></div>"
      ],
      "text/plain": [
       "RandomForestClassifier(max_depth=15, min_samples_leaf=7, n_estimators=300,\n",
       "                       random_state=42)"
      ]
     },
     "metadata": {},
     "output_type": "display_data"
    },
    {
     "name": "stdout",
     "output_type": "stream",
     "text": [
      "### METRICS ###\n"
     ]
    },
    {
     "data": {
      "text/plain": [
       "{'model': 'rf',\n",
       " 'train_auc': 0.9427084962223582,\n",
       " 'test_auc': 0.8512702704269105,\n",
       " 'precision': 0.7505863956215794,\n",
       " 'specificity': 0.9248704663212435,\n",
       " 'recall': 0.5369127516778524,\n",
       " 'f_score': 0.6260189109879362}"
      ]
     },
     "metadata": {},
     "output_type": "display_data"
    },
    {
     "name": "stdout",
     "output_type": "stream",
     "text": [
      "True Negatives: 3927\n",
      "False Positives: 319\n",
      "False Negatives: 828\n",
      "True Positives: 960\n",
      "Accuracy: 0.675\n",
      "Precision: 0.889\n",
      "Recall: 0.400\n",
      "ROC-AUC: 0.827\n",
      " \n",
      "Accuracy: 0.676\n",
      "Precision: 0.897\n",
      "Recall: 0.396\n",
      "ROC-AUC: 0.827\n"
     ]
    }
   ],
   "source": [
    "train = pd.read_pickle('./feature/feat_modified_v1.pkl')\n",
    "X = train.drop(columns=['is_popular','n_comment','group_by_subsection_name','feature_subsection_name'])\n",
    "y = train['is_popular']\n",
    "X_train, X_test, y_train, y_test = train_test_split(X, y, test_size=0.3, random_state=42)\n",
    "X_graph.append(X_test)\n",
    "y_graph.append(y_test)\n",
    "feature_names = X_train.columns\n",
    "\n",
    "rf_mod_v1 = run_model('rf')\n",
    "rf_mod_v1_param = { \n",
    "              'rf__n_estimators': [300],\n",
    "             'rf__max_depth': [15],\n",
    "             'rf__min_samples_leaf': [7],\n",
    "            }\n",
    "rf_gs_mod_v1 = run_model('rf', mod_params=rf_mod_v1_param, grid_search=True)\n",
    "test = pd.read_pickle('./feature/feat_test_modified_v1.pkl')\n",
    "test = test._get_numeric_data()\n",
    "\n",
    "final_actual = test['is_popular']\n",
    "test = test.drop(columns=['is_popular'])\n",
    "test = test.drop(columns=['feature_subsection_name'])\n",
    "test = test.drop(columns=['n_comment'])\n",
    "test = test.drop(columns=['group_by_subsection_name'])\n",
    "\n",
    "evaluate_model(rf_gs_mod_v1)\n",
    "rf_gs_mod_v1.fit(X, y)\n",
    "print(' ')\n",
    "evaluate_model(rf_gs_mod_v1)"
   ]
  },
  {
   "attachments": {},
   "cell_type": "markdown",
   "metadata": {},
   "source": [
    "- Modified Version2<br/>"
   ]
  },
  {
   "cell_type": "code",
   "execution_count": null,
   "metadata": {},
   "outputs": [],
   "source": [
    "train = pd.read_pickle('./feature/feat_modified_v2.pkl')\n",
    "X = train.drop(columns=['is_popular','n_comment','group_by_subsection_name','feature_subsection_name'])\n",
    "y = train['is_popular']\n",
    "X_train, X_test, y_train, y_test = train_test_split(X, y, test_size=0.3, random_state=42)\n",
    "X_graph.append(X_test)\n",
    "y_graph.append(y_test)\n",
    "feature_names = X_train.columns\n",
    "\n",
    "rf_mod_v2 = run_model('rf')\n",
    "rf_mod_v2_param = { \n",
    "              'rf__n_estimators': [300],\n",
    "             'rf__max_depth': [15],\n",
    "             'rf__min_samples_leaf': [1],\n",
    "            }\n",
    "rf_gs_mod_v2 = run_model('rf', mod_params=rf_mod_v2_param, grid_search=True)\n",
    "test = pd.read_pickle('./feature/feat_test_modified_v2.pkl')\n",
    "test = test._get_numeric_data()\n",
    "\n",
    "final_actual = test['is_popular']\n",
    "test = test.drop(columns=['is_popular'])\n",
    "test = test.drop(columns=['feature_subsection_name'])\n",
    "test = test.drop(columns=['n_comment'])\n",
    "test = test.drop(columns=['group_by_subsection_name'])\n",
    "\n",
    "evaluate_model(rf_gs_mod_v2)\n",
    "rf_gs_mod_v2.fit(X, y)\n",
    "print(' ')\n",
    "evaluate_model(rf_gs_mod_v2)"
   ]
  },
  {
   "attachments": {},
   "cell_type": "markdown",
   "metadata": {},
   "source": [
    "- Modified Version1.03<br/>"
   ]
  },
  {
   "cell_type": "code",
   "execution_count": 17,
   "metadata": {},
   "outputs": [
    {
     "name": "stdout",
     "output_type": "stream",
     "text": [
      "### METRICS ###\n"
     ]
    },
    {
     "data": {
      "text/plain": [
       "{'model': 'rf',\n",
       " 'train_auc': 0.9998967887426946,\n",
       " 'test_auc': 0.8473006835753296,\n",
       " 'precision': 0.7346938775510204,\n",
       " 'specificity': 0.9173339613754121,\n",
       " 'recall': 0.5436241610738255,\n",
       " 'f_score': 0.6248794599807136}"
      ]
     },
     "metadata": {},
     "output_type": "display_data"
    },
    {
     "name": "stdout",
     "output_type": "stream",
     "text": [
      "True Negatives: 3895\n",
      "False Positives: 351\n",
      "False Negatives: 816\n",
      "True Positives: 972\n",
      "Fitting 3 folds for each of 1 candidates, totalling 3 fits\n",
      "### BEST PARAMS ###\n"
     ]
    },
    {
     "data": {
      "text/html": [
       "<style>#sk-container-id-5 {color: black;background-color: white;}#sk-container-id-5 pre{padding: 0;}#sk-container-id-5 div.sk-toggleable {background-color: white;}#sk-container-id-5 label.sk-toggleable__label {cursor: pointer;display: block;width: 100%;margin-bottom: 0;padding: 0.3em;box-sizing: border-box;text-align: center;}#sk-container-id-5 label.sk-toggleable__label-arrow:before {content: \"▸\";float: left;margin-right: 0.25em;color: #696969;}#sk-container-id-5 label.sk-toggleable__label-arrow:hover:before {color: black;}#sk-container-id-5 div.sk-estimator:hover label.sk-toggleable__label-arrow:before {color: black;}#sk-container-id-5 div.sk-toggleable__content {max-height: 0;max-width: 0;overflow: hidden;text-align: left;background-color: #f0f8ff;}#sk-container-id-5 div.sk-toggleable__content pre {margin: 0.2em;color: black;border-radius: 0.25em;background-color: #f0f8ff;}#sk-container-id-5 input.sk-toggleable__control:checked~div.sk-toggleable__content {max-height: 200px;max-width: 100%;overflow: auto;}#sk-container-id-5 input.sk-toggleable__control:checked~label.sk-toggleable__label-arrow:before {content: \"▾\";}#sk-container-id-5 div.sk-estimator input.sk-toggleable__control:checked~label.sk-toggleable__label {background-color: #d4ebff;}#sk-container-id-5 div.sk-label input.sk-toggleable__control:checked~label.sk-toggleable__label {background-color: #d4ebff;}#sk-container-id-5 input.sk-hidden--visually {border: 0;clip: rect(1px 1px 1px 1px);clip: rect(1px, 1px, 1px, 1px);height: 1px;margin: -1px;overflow: hidden;padding: 0;position: absolute;width: 1px;}#sk-container-id-5 div.sk-estimator {font-family: monospace;background-color: #f0f8ff;border: 1px dotted black;border-radius: 0.25em;box-sizing: border-box;margin-bottom: 0.5em;}#sk-container-id-5 div.sk-estimator:hover {background-color: #d4ebff;}#sk-container-id-5 div.sk-parallel-item::after {content: \"\";width: 100%;border-bottom: 1px solid gray;flex-grow: 1;}#sk-container-id-5 div.sk-label:hover label.sk-toggleable__label {background-color: #d4ebff;}#sk-container-id-5 div.sk-serial::before {content: \"\";position: absolute;border-left: 1px solid gray;box-sizing: border-box;top: 0;bottom: 0;left: 50%;z-index: 0;}#sk-container-id-5 div.sk-serial {display: flex;flex-direction: column;align-items: center;background-color: white;padding-right: 0.2em;padding-left: 0.2em;position: relative;}#sk-container-id-5 div.sk-item {position: relative;z-index: 1;}#sk-container-id-5 div.sk-parallel {display: flex;align-items: stretch;justify-content: center;background-color: white;position: relative;}#sk-container-id-5 div.sk-item::before, #sk-container-id-5 div.sk-parallel-item::before {content: \"\";position: absolute;border-left: 1px solid gray;box-sizing: border-box;top: 0;bottom: 0;left: 50%;z-index: -1;}#sk-container-id-5 div.sk-parallel-item {display: flex;flex-direction: column;z-index: 1;position: relative;background-color: white;}#sk-container-id-5 div.sk-parallel-item:first-child::after {align-self: flex-end;width: 50%;}#sk-container-id-5 div.sk-parallel-item:last-child::after {align-self: flex-start;width: 50%;}#sk-container-id-5 div.sk-parallel-item:only-child::after {width: 0;}#sk-container-id-5 div.sk-dashed-wrapped {border: 1px dashed gray;margin: 0 0.4em 0.5em 0.4em;box-sizing: border-box;padding-bottom: 0.4em;background-color: white;}#sk-container-id-5 div.sk-label label {font-family: monospace;font-weight: bold;display: inline-block;line-height: 1.2em;}#sk-container-id-5 div.sk-label-container {text-align: center;}#sk-container-id-5 div.sk-container {/* jupyter's `normalize.less` sets `[hidden] { display: none; }` but bootstrap.min.css set `[hidden] { display: none !important; }` so we also need the `!important` here to be able to override the default hidden behavior on the sphinx rendered scikit-learn.org. See: https://github.com/scikit-learn/scikit-learn/issues/21755 */display: inline-block !important;position: relative;}#sk-container-id-5 div.sk-text-repr-fallback {display: none;}</style><div id=\"sk-container-id-5\" class=\"sk-top-container\"><div class=\"sk-text-repr-fallback\"><pre>RandomForestClassifier(max_depth=20, min_samples_leaf=6, n_estimators=300,\n",
       "                       random_state=42)</pre><b>In a Jupyter environment, please rerun this cell to show the HTML representation or trust the notebook. <br />On GitHub, the HTML representation is unable to render, please try loading this page with nbviewer.org.</b></div><div class=\"sk-container\" hidden><div class=\"sk-item\"><div class=\"sk-estimator sk-toggleable\"><input class=\"sk-toggleable__control sk-hidden--visually\" id=\"sk-estimator-id-5\" type=\"checkbox\" checked><label for=\"sk-estimator-id-5\" class=\"sk-toggleable__label sk-toggleable__label-arrow\">RandomForestClassifier</label><div class=\"sk-toggleable__content\"><pre>RandomForestClassifier(max_depth=20, min_samples_leaf=6, n_estimators=300,\n",
       "                       random_state=42)</pre></div></div></div></div></div>"
      ],
      "text/plain": [
       "RandomForestClassifier(max_depth=20, min_samples_leaf=6, n_estimators=300,\n",
       "                       random_state=42)"
      ]
     },
     "metadata": {},
     "output_type": "display_data"
    },
    {
     "name": "stdout",
     "output_type": "stream",
     "text": [
      "### METRICS ###\n"
     ]
    },
    {
     "data": {
      "text/plain": [
       "{'model': 'rf',\n",
       " 'train_auc': 0.9648102452744619,\n",
       " 'test_auc': 0.8537037359019832,\n",
       " 'precision': 0.7452326468344775,\n",
       " 'specificity': 0.9213377296278851,\n",
       " 'recall': 0.546420581655481,\n",
       " 'f_score': 0.6305259761213294}"
      ]
     },
     "metadata": {},
     "output_type": "display_data"
    },
    {
     "name": "stdout",
     "output_type": "stream",
     "text": [
      "True Negatives: 3912\n",
      "False Positives: 334\n",
      "False Negatives: 811\n",
      "True Positives: 977\n",
      "Accuracy: 0.678\n",
      "Precision: 0.886\n",
      "Recall: 0.408\n",
      "ROC-AUC: 0.827\n",
      " \n",
      "Accuracy: 0.676\n",
      "Precision: 0.892\n",
      "Recall: 0.398\n",
      "ROC-AUC: 0.827\n"
     ]
    }
   ],
   "source": [
    "train = pd.read_pickle('./feature/feat_modified_v1_0.3.pkl')\n",
    "X = train.drop(columns=['is_popular','n_comment','group_by_subsection_name','feature_subsection_name'])\n",
    "y = train['is_popular']\n",
    "X_train, X_test, y_train, y_test = train_test_split(X, y, test_size=0.3, random_state=42)\n",
    "X_graph.append(X_test)\n",
    "y_graph.append(y_test)\n",
    "feature_names = X_train.columns\n",
    "\n",
    "rf_mod_v1_03 = run_model('rf')\n",
    "rf_mod_v1_03_param = { \n",
    "              'rf__n_estimators': [300],\n",
    "             'rf__max_depth': [20],\n",
    "             'rf__min_samples_leaf': [6],\n",
    "            }\n",
    "rf_gs_mod_v1_03 = run_model('rf', mod_params=rf_mod_v1_03_param, grid_search=True)\n",
    "test = pd.read_pickle('./feature/feat_test_modified_v1_0.3.pkl')\n",
    "test = test._get_numeric_data()\n",
    "\n",
    "final_actual = test['is_popular']\n",
    "test = test.drop(columns=['is_popular'])\n",
    "test = test.drop(columns=['feature_subsection_name'])\n",
    "test = test.drop(columns=['n_comment'])\n",
    "test = test.drop(columns=['group_by_subsection_name'])\n",
    "\n",
    "evaluate_model(rf_gs_mod_v1_03)\n",
    "rf_gs_mod_v1_03.fit(X, y)\n",
    "print(' ')\n",
    "evaluate_model(rf_gs_mod_v1_03)"
   ]
  },
  {
   "attachments": {},
   "cell_type": "markdown",
   "metadata": {},
   "source": [
    "# XGBoost Model"
   ]
  },
  {
   "attachments": {},
   "cell_type": "markdown",
   "metadata": {},
   "source": [
    "- Modified Version1<br/>\n",
    "Choose the first 40 feature with the higher correlation with is_popular"
   ]
  },
  {
   "cell_type": "code",
   "execution_count": 54,
   "metadata": {},
   "outputs": [],
   "source": [
    "X_graph = []\n",
    "y_graph = []"
   ]
  },
  {
   "cell_type": "code",
   "execution_count": 56,
   "metadata": {},
   "outputs": [
    {
     "name": "stdout",
     "output_type": "stream",
     "text": [
      "### METRICS ###\n"
     ]
    },
    {
     "data": {
      "text/plain": [
       "{'model': 'xgb',\n",
       " 'train_auc': 0.9750533631900492,\n",
       " 'test_auc': 0.8394286871918404,\n",
       " 'precision': 0.7098214285714286,\n",
       " 'specificity': 0.9081488459726802,\n",
       " 'recall': 0.5335570469798657,\n",
       " 'f_score': 0.6091954022988506}"
      ]
     },
     "metadata": {},
     "output_type": "display_data"
    },
    {
     "name": "stdout",
     "output_type": "stream",
     "text": [
      "True Negatives: 3856\n",
      "False Positives: 390\n",
      "False Negatives: 834\n",
      "True Positives: 954\n",
      "Fitting 3 folds for each of 1 candidates, totalling 3 fits\n"
     ]
    },
    {
     "name": "stderr",
     "output_type": "stream",
     "text": [
      "c:\\Users\\88690\\anaconda3\\lib\\site-packages\\xgboost\\sklearn.py:1395: UserWarning: `use_label_encoder` is deprecated in 1.7.0.\n",
      "  warnings.warn(\"`use_label_encoder` is deprecated in 1.7.0.\")\n",
      "c:\\Users\\88690\\anaconda3\\lib\\site-packages\\xgboost\\sklearn.py:1395: UserWarning: `use_label_encoder` is deprecated in 1.7.0.\n",
      "  warnings.warn(\"`use_label_encoder` is deprecated in 1.7.0.\")\n"
     ]
    },
    {
     "name": "stdout",
     "output_type": "stream",
     "text": [
      "### BEST PARAMS ###\n"
     ]
    },
    {
     "data": {
      "text/plain": [
       "XGBClassifier(base_score=None, booster=None, callbacks=None,\n",
       "              colsample_bylevel=None, colsample_bynode=None,\n",
       "              colsample_bytree=None, early_stopping_rounds=None,\n",
       "              enable_categorical=False, eval_metric='auc', feature_types=None,\n",
       "              gamma=1.0, gpu_id=None, grow_policy=None, importance_type=None,\n",
       "              interaction_constraints=None, learning_rate=0.1, max_bin=None,\n",
       "              max_cat_threshold=None, max_cat_to_onehot=None,\n",
       "              max_delta_step=None, max_depth=5, max_leaves=None,\n",
       "              min_child_weight=None, missing=nan, monotone_constraints=None,\n",
       "              n_estimators=100, n_jobs=None, num_parallel_tree=None,\n",
       "              predictor=None, random_state=None, ...)"
      ]
     },
     "metadata": {},
     "output_type": "display_data"
    },
    {
     "name": "stdout",
     "output_type": "stream",
     "text": [
      "### METRICS ###\n"
     ]
    },
    {
     "data": {
      "text/plain": [
       "{'model': 'xgb',\n",
       " 'train_auc': 0.8957814876576966,\n",
       " 'test_auc': 0.8495945256016716,\n",
       " 'precision': 0.7450826121164438,\n",
       " 'specificity': 0.9236928874234573,\n",
       " 'recall': 0.5296420581655481,\n",
       " 'f_score': 0.6191565871199739}"
      ]
     },
     "metadata": {},
     "output_type": "display_data"
    },
    {
     "name": "stdout",
     "output_type": "stream",
     "text": [
      "True Negatives: 3922\n",
      "False Positives: 324\n",
      "False Negatives: 841\n",
      "True Positives: 947\n",
      "Accuracy: 0.675\n",
      "Precision: 0.899\n",
      "Recall: 0.393\n",
      "ROC-AUC: 0.823\n",
      " \n",
      "Accuracy: 0.679\n",
      "Precision: 0.898\n",
      "Recall: 0.403\n",
      "ROC-AUC: 0.826\n"
     ]
    }
   ],
   "source": [
    "train = pd.read_pickle('./feature/feat_modified_v1.pkl')\n",
    "X = train.drop(columns=['is_popular','n_comment','group_by_subsection_name','feature_subsection_name'])\n",
    "y = train['is_popular']\n",
    "X_train, X_test, y_train, y_test = train_test_split(X, y, test_size=0.3, random_state=42)\n",
    "X_graph.append(X_test)\n",
    "y_graph.append(y_test)\n",
    "feature_names = X_train.columns\n",
    "\n",
    "xgb_v1 = run_model('xgb')\n",
    "xgb_v1_param = { \n",
    "              'xgb__learning_rate' : [0.1], \n",
    "              'xgb__max_depth' : [5],\n",
    "              'xgb__n_estimators' : [100], \n",
    "              'xgb__reg_alpha' : [1.8], \n",
    "              'xgb__reg_lambda' : [3.0], \n",
    "              'xgb__gamma' : [1.0],\n",
    "            }\n",
    "xgb_gs_v1 = run_model('xgb', mod_params=xgb_v1_param, grid_search=True)\n",
    "test = pd.read_pickle('./feature/feat_test_modified_v1.pkl')\n",
    "test = test._get_numeric_data()\n",
    "\n",
    "final_actual = test['is_popular']\n",
    "test = test.drop(columns=['is_popular'])\n",
    "test = test.drop(columns=['feature_subsection_name'])\n",
    "test = test.drop(columns=['n_comment'])\n",
    "test = test.drop(columns=['group_by_subsection_name'])\n",
    "\n",
    "evaluate_model(xgb_gs_v1)\n",
    "xgb_gs_v1.fit(X, y)\n",
    "print(' ')\n",
    "evaluate_model(xgb_gs_v1)\n"
   ]
  },
  {
   "attachments": {},
   "cell_type": "markdown",
   "metadata": {},
   "source": [
    "- Modified Version2</br>\n",
    "The dataset has 30% is_popular data, as same as the unmodified dataset."
   ]
  },
  {
   "cell_type": "code",
   "execution_count": 57,
   "metadata": {},
   "outputs": [
    {
     "name": "stdout",
     "output_type": "stream",
     "text": [
      "### METRICS ###\n"
     ]
    },
    {
     "data": {
      "text/plain": [
       "{'model': 'xgb',\n",
       " 'train_auc': 0.9812659580551263,\n",
       " 'test_auc': 0.8361775683601674,\n",
       " 'precision': 0.7004437869822485,\n",
       " 'specificity': 0.9046161092793217,\n",
       " 'recall': 0.5296420581655481,\n",
       " 'f_score': 0.6031847133757963}"
      ]
     },
     "metadata": {},
     "output_type": "display_data"
    },
    {
     "name": "stdout",
     "output_type": "stream",
     "text": [
      "True Negatives: 3841\n",
      "False Positives: 405\n",
      "False Negatives: 841\n",
      "True Positives: 947\n",
      "Fitting 3 folds for each of 1 candidates, totalling 3 fits\n"
     ]
    },
    {
     "name": "stderr",
     "output_type": "stream",
     "text": [
      "c:\\Users\\88690\\anaconda3\\lib\\site-packages\\xgboost\\sklearn.py:1395: UserWarning: `use_label_encoder` is deprecated in 1.7.0.\n",
      "  warnings.warn(\"`use_label_encoder` is deprecated in 1.7.0.\")\n",
      "c:\\Users\\88690\\anaconda3\\lib\\site-packages\\xgboost\\sklearn.py:1395: UserWarning: `use_label_encoder` is deprecated in 1.7.0.\n",
      "  warnings.warn(\"`use_label_encoder` is deprecated in 1.7.0.\")\n"
     ]
    },
    {
     "name": "stdout",
     "output_type": "stream",
     "text": [
      "### BEST PARAMS ###\n"
     ]
    },
    {
     "data": {
      "text/plain": [
       "XGBClassifier(base_score=None, booster=None, callbacks=None,\n",
       "              colsample_bylevel=None, colsample_bynode=None,\n",
       "              colsample_bytree=None, early_stopping_rounds=None,\n",
       "              enable_categorical=False, eval_metric='auc', feature_types=None,\n",
       "              gamma=3.0, gpu_id=None, grow_policy=None, importance_type=None,\n",
       "              interaction_constraints=None, learning_rate=0.1, max_bin=None,\n",
       "              max_cat_threshold=None, max_cat_to_onehot=None,\n",
       "              max_delta_step=None, max_depth=5, max_leaves=None,\n",
       "              min_child_weight=None, missing=nan, monotone_constraints=None,\n",
       "              n_estimators=200, n_jobs=None, num_parallel_tree=None,\n",
       "              predictor=None, random_state=None, ...)"
      ]
     },
     "metadata": {},
     "output_type": "display_data"
    },
    {
     "name": "stdout",
     "output_type": "stream",
     "text": [
      "### METRICS ###\n"
     ]
    },
    {
     "data": {
      "text/plain": [
       "{'model': 'xgb',\n",
       " 'train_auc': 0.9078018478405325,\n",
       " 'test_auc': 0.8514977512721541,\n",
       " 'precision': 0.7408844065166796,\n",
       " 'specificity': 0.9213377296278851,\n",
       " 'recall': 0.5341163310961968,\n",
       " 'f_score': 0.620734481637959}"
      ]
     },
     "metadata": {},
     "output_type": "display_data"
    },
    {
     "name": "stdout",
     "output_type": "stream",
     "text": [
      "True Negatives: 3912\n",
      "False Positives: 334\n",
      "False Negatives: 833\n",
      "True Positives: 955\n",
      "Accuracy: 0.680\n",
      "Precision: 0.900\n",
      "Recall: 0.405\n",
      "ROC-AUC: 0.827\n",
      " \n",
      "Accuracy: 0.682\n",
      "Precision: 0.902\n",
      "Recall: 0.406\n",
      "ROC-AUC: 0.826\n"
     ]
    }
   ],
   "source": [
    "train = pd.read_pickle('./feature/feat_modified_v1_0.3.pkl')\n",
    "X = train.drop(columns=['is_popular','n_comment','group_by_subsection_name','feature_subsection_name'])\n",
    "y = train['is_popular']\n",
    "X_train, X_test, y_train, y_test = train_test_split(X, y, test_size=0.3, random_state=42)\n",
    "X_graph.append(X_test)\n",
    "y_graph.append(y_test)\n",
    "feature_names = X_train.columns\n",
    "\n",
    "xgb_v1_03 = run_model('xgb')\n",
    "xgb_v1_03_param = { \n",
    "              'xgb__learning_rate' : [0.1], \n",
    "              'xgb__max_depth' : [5],\n",
    "              'xgb__n_estimators' : [200], \n",
    "              'xgb__reg_alpha' : [1.8], \n",
    "              'xgb__reg_lambda' : [0.1], \n",
    "              'xgb__gamma' : [3.0],\n",
    "            }\n",
    "xgb_gs_v1_03 = run_model('xgb', mod_params=xgb_v1_03_param, grid_search=True)\n",
    "\n",
    "test = pd.read_pickle('./feature/feat_test_modified_v1_0.3.pkl')\n",
    "test = test._get_numeric_data()\n",
    "\n",
    "final_actual = test['is_popular']\n",
    "test = test.drop(columns=['is_popular'])\n",
    "test = test.drop(columns=['feature_subsection_name'])\n",
    "test = test.drop(columns=['n_comment'])\n",
    "test = test.drop(columns=['group_by_subsection_name'])\n",
    "\n",
    "evaluate_model(xgb_gs_v1_03)\n",
    "xgb_gs_v1_03.fit(X, y)\n",
    "print(' ')\n",
    "evaluate_model(xgb_gs_v1_03)\n"
   ]
  },
  {
   "cell_type": "code",
   "execution_count": 70,
   "metadata": {},
   "outputs": [
    {
     "name": "stderr",
     "output_type": "stream",
     "text": [
      "c:\\Users\\88690\\anaconda3\\lib\\site-packages\\xgboost\\sklearn.py:1395: UserWarning: `use_label_encoder` is deprecated in 1.7.0.\n",
      "  warnings.warn(\"`use_label_encoder` is deprecated in 1.7.0.\")\n",
      "c:\\Users\\88690\\anaconda3\\lib\\site-packages\\xgboost\\sklearn.py:1395: UserWarning: `use_label_encoder` is deprecated in 1.7.0.\n",
      "  warnings.warn(\"`use_label_encoder` is deprecated in 1.7.0.\")\n"
     ]
    },
    {
     "name": "stdout",
     "output_type": "stream",
     "text": [
      "Fitting 3 folds for each of 1 candidates, totalling 3 fits\n",
      "### BEST PARAMS ###\n"
     ]
    },
    {
     "data": {
      "text/plain": [
       "XGBClassifier(base_score=None, booster=None, callbacks=None,\n",
       "              colsample_bylevel=None, colsample_bynode=None,\n",
       "              colsample_bytree=None, early_stopping_rounds=None,\n",
       "              enable_categorical=False, eval_metric='auc', feature_types=None,\n",
       "              gamma=3.0, gpu_id=None, grow_policy=None, importance_type=None,\n",
       "              interaction_constraints=None, learning_rate=0.1, max_bin=None,\n",
       "              max_cat_threshold=None, max_cat_to_onehot=None,\n",
       "              max_delta_step=None, max_depth=5, max_leaves=None,\n",
       "              min_child_weight=None, missing=nan, monotone_constraints=None,\n",
       "              n_estimators=200, n_jobs=None, num_parallel_tree=None,\n",
       "              predictor=None, random_state=None, ...)"
      ]
     },
     "metadata": {},
     "output_type": "display_data"
    },
    {
     "name": "stdout",
     "output_type": "stream",
     "text": [
      "### METRICS ###\n"
     ]
    },
    {
     "data": {
      "text/plain": [
       "{'model': 'xgb',\n",
       " 'train_auc': 0.9078018478405325,\n",
       " 'test_auc': 0.8514977512721541,\n",
       " 'precision': 0.7408844065166796,\n",
       " 'specificity': 0.9213377296278851,\n",
       " 'recall': 0.5341163310961968,\n",
       " 'f_score': 0.620734481637959}"
      ]
     },
     "metadata": {},
     "output_type": "display_data"
    },
    {
     "name": "stdout",
     "output_type": "stream",
     "text": [
      "True Negatives: 3912\n",
      "False Positives: 334\n",
      "False Negatives: 833\n",
      "True Positives: 955\n"
     ]
    }
   ],
   "source": [
    "\n",
    "xgb_params = { \n",
    "              'xgb__learning_rate' : [0.1, 0.2, 0.3], \n",
    "              'xgb__max_depth' : [3, 5], \n",
    "              'xgb__n_estimators' : [100, 200, 300], \n",
    "              'xgb__reg_alpha' : [0.1, 1.0, 1.8, 2.0], \n",
    "              'xgb__reg_lambda' : [0.1, 1.0, 2.0, 2.4, 3.0], \n",
    "              'xgb__gamma' : [1.0, 2.0, 2.5, 3.0], \n",
    "            }\n",
    "xgb_gs = run_model('xgb', mod_params=xgb_params, grid_search=True)\n",
    "#xgb_gs[1].save_model('./model/xgb_modified_v1_0.3.json')"
   ]
  },
  {
   "cell_type": "code",
   "execution_count": 40,
   "metadata": {},
   "outputs": [
    {
     "data": {
      "text/html": [
       "<div>\n",
       "<style scoped>\n",
       "    .dataframe tbody tr th:only-of-type {\n",
       "        vertical-align: middle;\n",
       "    }\n",
       "\n",
       "    .dataframe tbody tr th {\n",
       "        vertical-align: top;\n",
       "    }\n",
       "\n",
       "    .dataframe thead th {\n",
       "        text-align: right;\n",
       "    }\n",
       "</style>\n",
       "<table border=\"1\" class=\"dataframe\">\n",
       "  <thead>\n",
       "    <tr style=\"text-align: right;\">\n",
       "      <th></th>\n",
       "      <th>model</th>\n",
       "      <th>train_auc</th>\n",
       "      <th>test_auc</th>\n",
       "      <th>precision</th>\n",
       "      <th>specificity</th>\n",
       "      <th>recall</th>\n",
       "      <th>f_score</th>\n",
       "    </tr>\n",
       "  </thead>\n",
       "  <tbody>\n",
       "    <tr>\n",
       "      <th>1</th>\n",
       "      <td>xgb</td>\n",
       "      <td>0.907802</td>\n",
       "      <td>0.851498</td>\n",
       "      <td>0.740884</td>\n",
       "      <td>0.921338</td>\n",
       "      <td>0.534116</td>\n",
       "      <td>0.620734</td>\n",
       "    </tr>\n",
       "    <tr>\n",
       "      <th>0</th>\n",
       "      <td>xgb</td>\n",
       "      <td>0.895781</td>\n",
       "      <td>0.849595</td>\n",
       "      <td>0.745083</td>\n",
       "      <td>0.923693</td>\n",
       "      <td>0.529642</td>\n",
       "      <td>0.619157</td>\n",
       "    </tr>\n",
       "  </tbody>\n",
       "</table>\n",
       "</div>"
      ],
      "text/plain": [
       "  model  train_auc  test_auc  precision  specificity    recall   f_score\n",
       "1   xgb   0.907802  0.851498   0.740884     0.921338  0.534116  0.620734\n",
       "0   xgb   0.895781  0.849595   0.745083     0.923693  0.529642  0.619157"
      ]
     },
     "execution_count": 40,
     "metadata": {},
     "output_type": "execute_result"
    }
   ],
   "source": [
    "gs_df = pd.DataFrame(gs_list)\n",
    "gs_df.sort_values(by='test_auc', ascending=False)"
   ]
  },
  {
   "cell_type": "code",
   "execution_count": 58,
   "metadata": {},
   "outputs": [],
   "source": [
    "gs_dict = {\n",
    "    xgb_gs_v1: 'XGBoostClassfier_v1',\n",
    "    xgb_gs_v1_03: 'XGBoostClassfier_v1_0.3'\n",
    "    #rf_gs: 'RandomForest',\n",
    "}"
   ]
  },
  {
   "cell_type": "code",
   "execution_count": 60,
   "metadata": {},
   "outputs": [],
   "source": [
    "def roc_curve_plotter(model_dict, plot_top=False):\n",
    "    fig, ax = plt.subplots(1, 1, figsize=(12,10))\n",
    "    axes = {}\n",
    "    for i, m in enumerate(model_dict.keys()):\n",
    "        axes[f'ax{i}'] = sklearn.metrics.RocCurveDisplay.from_estimator(m, X_graph[i], y_graph[i], ax=ax, name=model_dict[m])\n",
    "    if plot_top:\n",
    "        for i, a in enumerate(axes):\n",
    "            if i != 0:\n",
    "                axes[a].line_.set_color('gray')\n",
    "                axes[a].line_.set_alpha(0.25)\n",
    "                \n",
    "    plt.plot([0, 1], [0, 1], color='black', lw=2, linestyle='--', label='Random Guess')\n",
    "    plt.title('ROC-AUC Curve', fontsize=22)\n",
    "    plt.xlabel('False Positive Rate', fontsize=12)\n",
    "    plt.ylabel('True Positive Rate', fontsize=12)\n",
    "    plt.legend(fontsize=12)"
   ]
  },
  {
   "cell_type": "code",
   "execution_count": 61,
   "metadata": {},
   "outputs": [
    {
     "data": {
      "image/png": "[encoded data removed]",
      "text/plain": [
       "<Figure size 1200x1000 with 1 Axes>"
      ]
     },
     "metadata": {},
     "output_type": "display_data"
    }
   ],
   "source": [
    "roc_curve_plotter(gs_dict, True)"
   ]
  }
 ],
 "metadata": {
  "kernelspec": {
   "display_name": "Python 3",
   "language": "python",
   "name": "python3"
  },
  "language_info": {
   "codemirror_mode": {
    "name": "ipython",
    "version": 3
   },
   "file_extension": ".py",
   "mimetype": "text/x-python",
   "name": "python",
   "nbconvert_exporter": "python",
   "pygments_lexer": "ipython3",
   "version": "3.11.3"
  },
  "orig_nbformat": 4
 },
 "nbformat": 4,
 "nbformat_minor": 2
}
