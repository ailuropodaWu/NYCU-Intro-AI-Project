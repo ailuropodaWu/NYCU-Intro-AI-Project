{
 "cells": [
  {
   "cell_type": "code",
   "execution_count": 10,
   "metadata": {},
   "outputs": [],
   "source": [
    "import pandas as pd\n",
    "import numpy as np\n",
    "import matplotlib.pyplot as plt\n",
    "import seaborn as sns\n",
    "import pickle\n",
    "import joblib\n",
    "import sklearn.metrics\n",
    "from sklearn.preprocessing import StandardScaler\n",
    "from sklearn.model_selection import train_test_split, GridSearchCV, cross_val_score\n",
    "from sklearn.pipeline import Pipeline\n",
    "from sklearn.linear_model import LogisticRegression\n",
    "from sklearn.metrics import (confusion_matrix, classification_report,  roc_auc_score, \n",
    "accuracy_score, precision_score, recall_score, f1_score, auc, precision_recall_curve, average_precision_score)\n",
    "from sklearn.ensemble import (RandomForestClassifier)\n",
    "from sklearn.svm import SVC\n",
    "import xgboost\n",
    "from xgboost import XGBClassifier"
   ]
  },
  {
   "cell_type": "code",
   "execution_count": 11,
   "metadata": {},
   "outputs": [],
   "source": [
    "pd.set_option('display.max_rows', 400)\n",
    "pd.set_option('max_colwidth', 120)\n",
    "pd.set_option('display.max_columns', None)"
   ]
  },
  {
   "cell_type": "code",
   "execution_count": 12,
   "metadata": {},
   "outputs": [
    {
     "name": "stderr",
     "output_type": "stream",
     "text": [
      "c:\\Users\\88690\\anaconda3\\lib\\site-packages\\xgboost\\sklearn.py:1395: UserWarning: `use_label_encoder` is deprecated in 1.7.0.\n",
      "  warnings.warn(\"`use_label_encoder` is deprecated in 1.7.0.\")\n"
     ]
    }
   ],
   "source": [
    "models = {'rf': RandomForestClassifier(random_state=42),\n",
    "          'xgb': XGBClassifier(seed=42, use_label_encoder=False, eval_metric='auc'),\n",
    "          'xgb_v1': XGBClassifier(seed=42, use_label_encoder=False, eval_metric='auc'),\n",
    "          'xgb_v1_03': XGBClassifier(seed=42, use_label_encoder=False, eval_metric='auc')}"
   ]
  },
  {
   "cell_type": "code",
   "execution_count": 13,
   "metadata": {},
   "outputs": [],
   "source": [
    "class CustomTransformer():\n",
    "    def __init__(self, func):\n",
    "        self.func = func\n",
    "\n",
    "    def transform(self, input_df, **transform_params):\n",
    "        return self.func(input_df)\n",
    "\n",
    "    def fit(self, X, y=None, **fit_params):\n",
    "        return self\n",
    "\n",
    "# This function takes a dataframe as input and returns a scaled version\n",
    "def scale_df(input_df):\n",
    "    ss = StandardScaler()\n",
    "    feature_names = input_df.columns\n",
    "    input_df = ss.fit_transform(input_df)\n",
    "    input_df = pd.DataFrame(input_df, columns=feature_names)\n",
    "    return input_df"
   ]
  },
  {
   "cell_type": "code",
   "execution_count": 14,
   "metadata": {},
   "outputs": [],
   "source": [
    "init_list = []\n",
    "gs_list = []\n",
    "\n",
    "# Function to run model -- input scaler and model\n",
    "def run_model(mod, mod_params={}, grid_search=False):\n",
    "    \n",
    "    # Initial dictionary to hold model results\n",
    "    results = {}\n",
    "    \n",
    "    pipe = Pipeline([\n",
    "            ('ss', CustomTransformer(scale_df)),\n",
    "            (mod, models[mod])\n",
    "            ])\n",
    "    if grid_search:\n",
    "        # Instantiate list to store gridsearch results\n",
    "        gs = GridSearchCV(pipe, param_grid=mod_params, cv=3, verbose=1, scoring='roc_auc', n_jobs=-1)\n",
    "        gs.fit(X_train, y_train)\n",
    "        pipe = gs.best_estimator_\n",
    "        \n",
    "    else:\n",
    "        pipe.fit(X_train, y_train)\n",
    "    # Retrieve metrics\n",
    "    predictions = pipe.predict(X_test)\n",
    "    tn, fp, fn, tp = confusion_matrix(y_test, predictions).ravel()\n",
    "    y_test_pred_prob = pipe.predict_proba(X_test)[:,1]\n",
    "    y_train_pred_prob = pipe.predict_proba(X_train)[:,1]\n",
    "    \n",
    "    results['model'] = mod\n",
    "    results['train_auc'] = roc_auc_score(y_train, y_train_pred_prob)\n",
    "    results['test_auc'] = roc_auc_score(y_test, y_test_pred_prob)\n",
    "    results['precision'] = precision_score(y_test, predictions)\n",
    "    results['specificity'] = tn / (tn + fp)\n",
    "    results['recall'] = recall_score(y_test, predictions)\n",
    "    results['f_score'] = f1_score(y_test, predictions)\n",
    "    \n",
    "    if grid_search:\n",
    "        gs_list.append(results)\n",
    "        print('### BEST PARAMS ###')\n",
    "        display(pipe[1])\n",
    "        \n",
    "    else:\n",
    "        init_list.append(results)\n",
    "    \n",
    "    print('### METRICS ###')\n",
    "    display(results)\n",
    "    \n",
    "    print(f\"True Negatives: {tn}\")\n",
    "    print(f\"False Positives: {fp}\")\n",
    "    print(f\"False Negatives: {fn}\")\n",
    "    print(f\"True Positives: {tp}\")\n",
    "    \n",
    "    return pipe"
   ]
  },
  {
   "cell_type": "code",
   "execution_count": 15,
   "metadata": {},
   "outputs": [],
   "source": [
    "def evaluate_model(model):\n",
    "    final_proba = model.predict_proba(test)\n",
    "    final_proba = final_proba[:, 1]\n",
    "    final_preds = model.predict(test)\n",
    "    print(f'Accuracy:', f'{accuracy_score(final_actual, final_preds):.3f}')\n",
    "    print(f'Precision:', f'{precision_score(final_actual, final_preds):.3f}')\n",
    "    print(f'Recall:', f'{recall_score(final_actual, final_preds):.3f}')\n",
    "    print(f'ROC-AUC:', f'{roc_auc_score(final_actual, final_proba):.3f}')"
   ]
  },
  {
   "cell_type": "code",
   "execution_count": 16,
   "metadata": {},
   "outputs": [
    {
     "data": {
      "text/plain": [
       "'rf_params = {\\'rf__n_estimators\\': [100, 200, 300, 400, 500],\\n             \\'rf__max_depth\\': [10, 20, 30, 40, 50, 60],\\n             \\'rf__min_samples_leaf\\': [i for i in range(2, 18)],\\n            }\\nrf_gs =  run_model(\\'rf\\', mod_params=rf_params, grid_search=True)\\n#joblib.dump(rf_gs[1], \"./model/rf_modified.joblib\")'"
      ]
     },
     "execution_count": 16,
     "metadata": {},
     "output_type": "execute_result"
    }
   ],
   "source": [
    "\"\"\"rf_params = {'rf__n_estimators': [100, 200, 300, 400, 500],\n",
    "             'rf__max_depth': [10, 20, 30, 40, 50, 60],\n",
    "             'rf__min_samples_leaf': [i for i in range(2, 18)],\n",
    "            }\n",
    "rf_gs =  run_model('rf', mod_params=rf_params, grid_search=True)\n",
    "#joblib.dump(rf_gs[1], \"./model/rf_modified.joblib\")\"\"\""
   ]
  },
  {
   "attachments": {},
   "cell_type": "markdown",
   "metadata": {},
   "source": [
    "# Random Forest Model\n"
   ]
  },
  {
   "attachments": {},
   "cell_type": "markdown",
   "metadata": {},
   "source": [
    "- UNModified Version1<br/>\n",
    "Choose the first 40 feature with the higher correlation with is_popular"
   ]
  },
  {
   "cell_type": "code",
   "execution_count": 17,
   "metadata": {},
   "outputs": [],
   "source": [
    "X_graph = []\n",
    "y_graph = []"
   ]
  },
  {
   "cell_type": "code",
   "execution_count": 18,
   "metadata": {},
   "outputs": [
    {
     "name": "stdout",
     "output_type": "stream",
     "text": [
      "### METRICS ###\n"
     ]
    },
    {
     "data": {
      "text/plain": [
       "{'model': 'rf',\n",
       " 'train_auc': 0.9999999648146146,\n",
       " 'test_auc': 0.8861427964945664,\n",
       " 'precision': 0.757903324495207,\n",
       " 'specificity': 0.9088535667664901,\n",
       " 'recall': 0.6249579549276825,\n",
       " 'f_score': 0.6850400958613697}"
      ]
     },
     "metadata": {},
     "output_type": "display_data"
    },
    {
     "name": "stdout",
     "output_type": "stream",
     "text": [
      "True Negatives: 11836\n",
      "False Positives: 1187\n",
      "False Negatives: 2230\n",
      "True Positives: 3716\n",
      "Fitting 3 folds for each of 1 candidates, totalling 3 fits\n",
      "### BEST PARAMS ###\n"
     ]
    },
    {
     "data": {
      "text/plain": [
       "RandomForestClassifier(max_depth=20, min_samples_leaf=2, n_estimators=300,\n",
       "                       random_state=42)"
      ]
     },
     "metadata": {},
     "output_type": "display_data"
    },
    {
     "name": "stdout",
     "output_type": "stream",
     "text": [
      "### METRICS ###\n"
     ]
    },
    {
     "data": {
      "text/plain": [
       "{'model': 'rf',\n",
       " 'train_auc': 0.9945258882383992,\n",
       " 'test_auc': 0.8893295178891113,\n",
       " 'precision': 0.7667644593461861,\n",
       " 'specificity': 0.9145358212393457,\n",
       " 'recall': 0.6153716784392869,\n",
       " 'f_score': 0.6827766374323568}"
      ]
     },
     "metadata": {},
     "output_type": "display_data"
    },
    {
     "name": "stdout",
     "output_type": "stream",
     "text": [
      "True Negatives: 11910\n",
      "False Positives: 1113\n",
      "False Negatives: 2287\n",
      "True Positives: 3659\n",
      "Accuracy: 0.806\n",
      "Precision: 0.761\n",
      "Recall: 0.566\n",
      "ROC-AUC: 0.879\n"
     ]
    },
    {
     "data": {
      "text/plain": [
       "\"\\nrf_gs_v1.fit(X, y)\\nprint(' ')\\nevaluate_model(rf_gs_v1)\\n\""
      ]
     },
     "execution_count": 18,
     "metadata": {},
     "output_type": "execute_result"
    }
   ],
   "source": [
    "train = pd.read_pickle('./feature/feat_v1.pkl')\n",
    "X = train.drop(columns=['is_popular','n_comment','group_by_subsection_name','feature_subsection_name'])\n",
    "y = train['is_popular']\n",
    "X_train, X_test, y_train, y_test = train_test_split(X, y, test_size=0.3, random_state=42)\n",
    "X_graph.append(X_test)\n",
    "y_graph.append(y_test)\n",
    "feature_names = X_train.columns\n",
    "\n",
    "rf_v1 = run_model('rf')\n",
    "rf_v1_param = { \n",
    "              'rf__n_estimators': [300],\n",
    "             'rf__max_depth': [20],\n",
    "             'rf__min_samples_leaf': [2],\n",
    "            }\n",
    "rf_gs_v1 = run_model('rf', mod_params=rf_v1_param, grid_search=True)\n",
    "test = pd.read_pickle('./feature/feat_test_v1.pkl')\n",
    "test = test._get_numeric_data()\n",
    "\n",
    "final_actual = test['is_popular']\n",
    "test = test.drop(columns=['is_popular'])\n",
    "test = test.drop(columns=['feature_subsection_name'])\n",
    "test = test.drop(columns=['n_comment'])\n",
    "test = test.drop(columns=['group_by_subsection_name'])\n",
    "evaluate_model(rf_gs_v1)\n",
    "\n",
    "\"\"\"\n",
    "rf_gs_v1.fit(X, y)\n",
    "print(' ')\n",
    "evaluate_model(rf_gs_v1)\n",
    "\"\"\""
   ]
  },
  {
   "cell_type": "code",
   "execution_count": 19,
   "metadata": {},
   "outputs": [
    {
     "data": {
      "text/plain": [
       "<AxesSubplot:>"
      ]
     },
     "execution_count": 19,
     "metadata": {},
     "output_type": "execute_result"
    },
    {
     "data": {
      "image/png": "[encoded data removed]",
      "text/plain": [
       "<Figure size 1000x1200 with 1 Axes>"
      ]
     },
     "metadata": {},
     "output_type": "display_data"
    }
   ],
   "source": [
    "plt.figure(figsize=(10,12))\n",
    "rf_feature_imp = pd.Series(rf_gs_v1[1][1].feature_importances_, index=X.columns).sort_values(ascending=False)\n",
    "rf_feature_imp.sort_values().plot(kind = 'barh')"
   ]
  },
  {
   "attachments": {},
   "cell_type": "markdown",
   "metadata": {},
   "source": [
    "- Unmodified Version2<br/>\n",
    "The dataset has 30% is_popular data, as same as the modified dataset."
   ]
  },
  {
   "cell_type": "code",
   "execution_count": 20,
   "metadata": {},
   "outputs": [
    {
     "name": "stdout",
     "output_type": "stream",
     "text": [
      "### METRICS ###\n"
     ]
    },
    {
     "data": {
      "text/plain": [
       "{'model': 'rf',\n",
       " 'train_auc': 1.0,\n",
       " 'test_auc': 0.86937673076168,\n",
       " 'precision': 0.7567805953693495,\n",
       " 'specificity': 0.9150296587319929,\n",
       " 'recall': 0.5731462925851704,\n",
       " 'f_score': 0.6522854699230257}"
      ]
     },
     "metadata": {},
     "output_type": "display_data"
    },
    {
     "name": "stdout",
     "output_type": "stream",
     "text": [
      "True Negatives: 11878\n",
      "False Positives: 1103\n",
      "False Negatives: 2556\n",
      "True Positives: 3432\n",
      "Fitting 3 folds for each of 1 candidates, totalling 3 fits\n",
      "### BEST PARAMS ###\n"
     ]
    },
    {
     "data": {
      "text/plain": [
       "RandomForestClassifier(max_depth=25, min_samples_leaf=2, n_estimators=300,\n",
       "                       random_state=42)"
      ]
     },
     "metadata": {},
     "output_type": "display_data"
    },
    {
     "name": "stdout",
     "output_type": "stream",
     "text": [
      "### METRICS ###\n"
     ]
    },
    {
     "data": {
      "text/plain": [
       "{'model': 'rf',\n",
       " 'train_auc': 0.9992118437351512,\n",
       " 'test_auc': 0.8714927801318169,\n",
       " 'precision': 0.7645997745208568,\n",
       " 'specificity': 0.9195747631153224,\n",
       " 'recall': 0.5662992651970608,\n",
       " 'f_score': 0.6506763887556366}"
      ]
     },
     "metadata": {},
     "output_type": "display_data"
    },
    {
     "name": "stdout",
     "output_type": "stream",
     "text": [
      "True Negatives: 11937\n",
      "False Positives: 1044\n",
      "False Negatives: 2597\n",
      "True Positives: 3391\n",
      "Accuracy: 0.796\n",
      "Precision: 0.754\n",
      "Recall: 0.530\n",
      "ROC-AUC: 0.864\n"
     ]
    },
    {
     "data": {
      "text/plain": [
       "\"\\nrf_gs_v2.fit(X, y)\\nprint(' ')\\nevaluate_model(rf_gs_v2)\\n\""
      ]
     },
     "execution_count": 20,
     "metadata": {},
     "output_type": "execute_result"
    }
   ],
   "source": [
    "train = pd.read_pickle('./feature/feat_v2.pkl')\n",
    "X = train.drop(columns=['is_popular'])\n",
    "y = train['is_popular']\n",
    "X_train, X_test, y_train, y_test = train_test_split(X, y, test_size=0.3, random_state=42)\n",
    "X_graph.append(X_test)\n",
    "y_graph.append(y_test)\n",
    "feature_names = X_train.columns\n",
    "\n",
    "rf_v2 = run_model('rf')\n",
    "rf_v2_param = { \n",
    "              'rf__n_estimators': [300],\n",
    "             'rf__max_depth': [25],\n",
    "             'rf__min_samples_leaf': [2],\n",
    "            }\n",
    "rf_gs_v2 = run_model('rf', mod_params=rf_v2_param, grid_search=True)\n",
    "test = pd.read_pickle('./feature/feat_test_v2.pkl')\n",
    "test = test._get_numeric_data()\n",
    "\n",
    "final_actual = test['is_popular']\n",
    "test = test.drop(columns=['is_popular'])\n",
    "evaluate_model(rf_gs_v2)\n",
    "\n",
    "\"\"\"\n",
    "rf_gs_v2.fit(X, y)\n",
    "print(' ')\n",
    "evaluate_model(rf_gs_v2)\n",
    "\"\"\""
   ]
  },
  {
   "attachments": {},
   "cell_type": "markdown",
   "metadata": {},
   "source": [
    "- Modified Version1<br/>\n",
    "Choose the first 40 feature with the higher correlation with is_popular"
   ]
  },
  {
   "cell_type": "code",
   "execution_count": 21,
   "metadata": {},
   "outputs": [
    {
     "name": "stdout",
     "output_type": "stream",
     "text": [
      "### METRICS ###\n"
     ]
    },
    {
     "data": {
      "text/plain": [
       "{'model': 'rf',\n",
       " 'train_auc': 0.9999143583927594,\n",
       " 'test_auc': 0.8459441627387693,\n",
       " 'precision': 0.7375669472073451,\n",
       " 'specificity': 0.91921808761187,\n",
       " 'recall': 0.5391498881431768,\n",
       " 'f_score': 0.6229402261712439}"
      ]
     },
     "metadata": {},
     "output_type": "display_data"
    },
    {
     "name": "stdout",
     "output_type": "stream",
     "text": [
      "True Negatives: 3903\n",
      "False Positives: 343\n",
      "False Negatives: 824\n",
      "True Positives: 964\n",
      "Fitting 3 folds for each of 1 candidates, totalling 3 fits\n",
      "### BEST PARAMS ###\n"
     ]
    },
    {
     "data": {
      "text/plain": [
       "RandomForestClassifier(max_depth=15, min_samples_leaf=7, n_estimators=300,\n",
       "                       random_state=42)"
      ]
     },
     "metadata": {},
     "output_type": "display_data"
    },
    {
     "name": "stdout",
     "output_type": "stream",
     "text": [
      "### METRICS ###\n"
     ]
    },
    {
     "data": {
      "text/plain": [
       "{'model': 'rf',\n",
       " 'train_auc': 0.9427084962223582,\n",
       " 'test_auc': 0.8512702704269105,\n",
       " 'precision': 0.7505863956215794,\n",
       " 'specificity': 0.9248704663212435,\n",
       " 'recall': 0.5369127516778524,\n",
       " 'f_score': 0.6260189109879362}"
      ]
     },
     "metadata": {},
     "output_type": "display_data"
    },
    {
     "name": "stdout",
     "output_type": "stream",
     "text": [
      "True Negatives: 3927\n",
      "False Positives: 319\n",
      "False Negatives: 828\n",
      "True Positives: 960\n",
      "Accuracy: 0.675\n",
      "Precision: 0.889\n",
      "Recall: 0.400\n",
      "ROC-AUC: 0.827\n"
     ]
    },
    {
     "data": {
      "text/plain": [
       "\"\\nrf_gs_mod_v1.fit(X, y)\\nprint(' ')\\nevaluate_model(rf_gs_mod_v1)\\n\""
      ]
     },
     "execution_count": 21,
     "metadata": {},
     "output_type": "execute_result"
    }
   ],
   "source": [
    "train = pd.read_pickle('./feature/feat_modified_v1.pkl')\n",
    "X = train.drop(columns=['is_popular','n_comment','group_by_subsection_name','feature_subsection_name'])\n",
    "y = train['is_popular']\n",
    "X_train, X_test, y_train, y_test = train_test_split(X, y, test_size=0.3, random_state=42)\n",
    "X_graph.append(X_test)\n",
    "y_graph.append(y_test)\n",
    "feature_names = X_train.columns\n",
    "\n",
    "rf_mod_v1 = run_model('rf')\n",
    "rf_mod_v1_param = { \n",
    "              'rf__n_estimators': [300],\n",
    "             'rf__max_depth': [15],\n",
    "             'rf__min_samples_leaf': [7],\n",
    "            }\n",
    "rf_gs_mod_v1 = run_model('rf', mod_params=rf_mod_v1_param, grid_search=True)\n",
    "test = pd.read_pickle('./feature/feat_test_modified_v1.pkl')\n",
    "test = test._get_numeric_data()\n",
    "\n",
    "final_actual = test['is_popular']\n",
    "test = test.drop(columns=['is_popular'])\n",
    "test = test.drop(columns=['feature_subsection_name'])\n",
    "test = test.drop(columns=['n_comment'])\n",
    "test = test.drop(columns=['group_by_subsection_name'])\n",
    "evaluate_model(rf_gs_mod_v1)\n",
    "\n",
    "\"\"\"\n",
    "rf_gs_mod_v1.fit(X, y)\n",
    "print(' ')\n",
    "evaluate_model(rf_gs_mod_v1)\n",
    "\"\"\""
   ]
  },
  {
   "attachments": {},
   "cell_type": "markdown",
   "metadata": {},
   "source": [
    "- Modified Version1.03<br/>"
   ]
  },
  {
   "cell_type": "code",
   "execution_count": 22,
   "metadata": {},
   "outputs": [
    {
     "name": "stdout",
     "output_type": "stream",
     "text": [
      "### METRICS ###\n"
     ]
    },
    {
     "data": {
      "text/plain": [
       "{'model': 'rf',\n",
       " 'train_auc': 0.9998967887426946,\n",
       " 'test_auc': 0.8473006835753296,\n",
       " 'precision': 0.7346938775510204,\n",
       " 'specificity': 0.9173339613754121,\n",
       " 'recall': 0.5436241610738255,\n",
       " 'f_score': 0.6248794599807136}"
      ]
     },
     "metadata": {},
     "output_type": "display_data"
    },
    {
     "name": "stdout",
     "output_type": "stream",
     "text": [
      "True Negatives: 3895\n",
      "False Positives: 351\n",
      "False Negatives: 816\n",
      "True Positives: 972\n",
      "Fitting 3 folds for each of 1 candidates, totalling 3 fits\n",
      "### BEST PARAMS ###\n"
     ]
    },
    {
     "data": {
      "text/plain": [
       "RandomForestClassifier(max_depth=20, min_samples_leaf=6, n_estimators=300,\n",
       "                       random_state=42)"
      ]
     },
     "metadata": {},
     "output_type": "display_data"
    },
    {
     "name": "stdout",
     "output_type": "stream",
     "text": [
      "### METRICS ###\n"
     ]
    },
    {
     "data": {
      "text/plain": [
       "{'model': 'rf',\n",
       " 'train_auc': 0.9648102452744619,\n",
       " 'test_auc': 0.8537037359019832,\n",
       " 'precision': 0.7452326468344775,\n",
       " 'specificity': 0.9213377296278851,\n",
       " 'recall': 0.546420581655481,\n",
       " 'f_score': 0.6305259761213294}"
      ]
     },
     "metadata": {},
     "output_type": "display_data"
    },
    {
     "name": "stdout",
     "output_type": "stream",
     "text": [
      "True Negatives: 3912\n",
      "False Positives: 334\n",
      "False Negatives: 811\n",
      "True Positives: 977\n",
      "Accuracy: 0.678\n",
      "Precision: 0.886\n",
      "Recall: 0.408\n",
      "ROC-AUC: 0.827\n",
      " \n",
      "Accuracy: 0.676\n",
      "Precision: 0.892\n",
      "Recall: 0.398\n",
      "ROC-AUC: 0.827\n"
     ]
    }
   ],
   "source": [
    "train = pd.read_pickle('./feature/feat_modified_v1_0.3.pkl')\n",
    "X = train.drop(columns=['is_popular','n_comment','group_by_subsection_name','feature_subsection_name'])\n",
    "y = train['is_popular']\n",
    "X_train, X_test, y_train, y_test = train_test_split(X, y, test_size=0.3, random_state=42)\n",
    "X_graph.append(X_test)\n",
    "y_graph.append(y_test)\n",
    "feature_names = X_train.columns\n",
    "\n",
    "rf_mod_v1_03 = run_model('rf')\n",
    "rf_mod_v1_03_param = { \n",
    "              'rf__n_estimators': [300],\n",
    "             'rf__max_depth': [20],\n",
    "             'rf__min_samples_leaf': [6],\n",
    "            }\n",
    "rf_gs_mod_v1_03 = run_model('rf', mod_params=rf_mod_v1_03_param, grid_search=True)\n",
    "test = pd.read_pickle('./feature/feat_test_modified_v1_0.3.pkl')\n",
    "test = test._get_numeric_data()\n",
    "\n",
    "final_actual = test['is_popular']\n",
    "test = test.drop(columns=['is_popular'])\n",
    "test = test.drop(columns=['feature_subsection_name'])\n",
    "test = test.drop(columns=['n_comment'])\n",
    "test = test.drop(columns=['group_by_subsection_name'])\n",
    "evaluate_model(rf_gs_mod_v1_03)\n",
    "\"\"\"\n",
    "rf_gs_mod_v1_03.fit(X, y)\n",
    "print(' ')\n",
    "evaluate_model(rf_gs_mod_v1_03)\n",
    "\"\"\""
   ]
  },
  {
   "attachments": {},
   "cell_type": "markdown",
   "metadata": {},
   "source": [
    "- Modified Version2<br/>"
   ]
  },
  {
   "cell_type": "code",
   "execution_count": 23,
   "metadata": {},
   "outputs": [
    {
     "name": "stdout",
     "output_type": "stream",
     "text": [
      "### METRICS ###\n"
     ]
    },
    {
     "data": {
      "text/plain": [
       "{'model': 'rf',\n",
       " 'train_auc': 0.9999998284473005,\n",
       " 'test_auc': 0.8429653496469678,\n",
       " 'precision': 0.7760589318600368,\n",
       " 'specificity': 0.8025974025974026,\n",
       " 'recall': 0.7132701421800948,\n",
       " 'f_score': 0.743340977244664}"
      ]
     },
     "metadata": {},
     "output_type": "display_data"
    },
    {
     "name": "stdout",
     "output_type": "stream",
     "text": [
      "True Negatives: 2472\n",
      "False Positives: 608\n",
      "False Negatives: 847\n",
      "True Positives: 2107\n",
      "Fitting 3 folds for each of 1 candidates, totalling 3 fits\n",
      "### BEST PARAMS ###\n"
     ]
    },
    {
     "data": {
      "text/plain": [
       "RandomForestClassifier(max_depth=15, n_estimators=300, random_state=42)"
      ]
     },
     "metadata": {},
     "output_type": "display_data"
    },
    {
     "name": "stdout",
     "output_type": "stream",
     "text": [
      "### METRICS ###\n"
     ]
    },
    {
     "data": {
      "text/plain": [
       "{'model': 'rf',\n",
       " 'train_auc': 0.982928881698207,\n",
       " 'test_auc': 0.8465188078678262,\n",
       " 'precision': 0.7809094325441563,\n",
       " 'specificity': 0.8107142857142857,\n",
       " 'recall': 0.7034529451591063,\n",
       " 'f_score': 0.7401602849510239}"
      ]
     },
     "metadata": {},
     "output_type": "display_data"
    },
    {
     "name": "stdout",
     "output_type": "stream",
     "text": [
      "True Negatives: 2497\n",
      "False Positives: 583\n",
      "False Negatives: 876\n",
      "True Positives: 2078\n",
      "Accuracy: 0.755\n",
      "Precision: 0.785\n",
      "Recall: 0.701\n",
      "ROC-AUC: 0.846\n"
     ]
    },
    {
     "data": {
      "text/plain": [
       "\"\\nrf_gs_mod_v2.fit(X, y)\\nprint(' ')\\nevaluate_model(rf_gs_mod_v2)\\n\""
      ]
     },
     "execution_count": 23,
     "metadata": {},
     "output_type": "execute_result"
    }
   ],
   "source": [
    "train = pd.read_pickle('./feature/feat_modified_v2.pkl')\n",
    "X = train.drop(columns=['is_popular'])\n",
    "y = train['is_popular']\n",
    "X_train, X_test, y_train, y_test = train_test_split(X, y, test_size=0.3, random_state=42)\n",
    "X_graph.append(X_test)\n",
    "y_graph.append(y_test)\n",
    "feature_names = X_train.columns\n",
    "\n",
    "rf_mod_v2 = run_model('rf')\n",
    "rf_mod_v2_param = { \n",
    "              'rf__n_estimators': [300],\n",
    "             'rf__max_depth': [15],\n",
    "             'rf__min_samples_leaf': [1],\n",
    "            }\n",
    "rf_gs_mod_v2 = run_model('rf', mod_params=rf_mod_v2_param, grid_search=True)\n",
    "test = pd.read_pickle('./feature/feat_test_modified_v2.pkl')\n",
    "test = test._get_numeric_data()\n",
    "\n",
    "final_actual = test['is_popular']\n",
    "test = test.drop(columns=['is_popular'])\n",
    "\n",
    "evaluate_model(rf_gs_mod_v2)\n",
    "\"\"\"\n",
    "rf_gs_mod_v2.fit(X, y)\n",
    "print(' ')\n",
    "evaluate_model(rf_gs_mod_v2)\n",
    "\"\"\""
   ]
  },
  {
   "attachments": {},
   "cell_type": "markdown",
   "metadata": {},
   "source": [
    "# XGBoost Model"
   ]
  },
  {
   "attachments": {},
   "cell_type": "markdown",
   "metadata": {},
   "source": [
    "- Unmodified Version1"
   ]
  },
  {
   "cell_type": "code",
   "execution_count": 24,
   "metadata": {},
   "outputs": [
    {
     "name": "stdout",
     "output_type": "stream",
     "text": [
      "### METRICS ###\n"
     ]
    },
    {
     "data": {
      "text/plain": [
       "{'model': 'xgb',\n",
       " 'train_auc': 0.9445394233524427,\n",
       " 'test_auc': 0.8819288813429236,\n",
       " 'precision': 0.7268457636671051,\n",
       " 'specificity': 0.8883513783306458,\n",
       " 'recall': 0.6506895391860074,\n",
       " 'f_score': 0.6866625255124679}"
      ]
     },
     "metadata": {},
     "output_type": "display_data"
    },
    {
     "name": "stdout",
     "output_type": "stream",
     "text": [
      "True Negatives: 11569\n",
      "False Positives: 1454\n",
      "False Negatives: 2077\n",
      "True Positives: 3869\n",
      "Fitting 3 folds for each of 1 candidates, totalling 3 fits\n"
     ]
    },
    {
     "name": "stderr",
     "output_type": "stream",
     "text": [
      "c:\\Users\\88690\\anaconda3\\lib\\site-packages\\xgboost\\sklearn.py:1395: UserWarning: `use_label_encoder` is deprecated in 1.7.0.\n",
      "  warnings.warn(\"`use_label_encoder` is deprecated in 1.7.0.\")\n",
      "c:\\Users\\88690\\anaconda3\\lib\\site-packages\\xgboost\\sklearn.py:1395: UserWarning: `use_label_encoder` is deprecated in 1.7.0.\n",
      "  warnings.warn(\"`use_label_encoder` is deprecated in 1.7.0.\")\n"
     ]
    },
    {
     "name": "stdout",
     "output_type": "stream",
     "text": [
      "### BEST PARAMS ###\n"
     ]
    },
    {
     "data": {
      "text/plain": [
       "XGBClassifier(base_score=None, booster=None, callbacks=None,\n",
       "              colsample_bylevel=None, colsample_bynode=None,\n",
       "              colsample_bytree=None, early_stopping_rounds=None,\n",
       "              enable_categorical=False, eval_metric='auc', feature_types=None,\n",
       "              gamma=2.5, gpu_id=None, grow_policy=None, importance_type=None,\n",
       "              interaction_constraints=None, learning_rate=0.1, max_bin=None,\n",
       "              max_cat_threshold=None, max_cat_to_onehot=None,\n",
       "              max_delta_step=None, max_depth=5, max_leaves=None,\n",
       "              min_child_weight=None, missing=nan, monotone_constraints=None,\n",
       "              n_estimators=300, n_jobs=None, num_parallel_tree=None,\n",
       "              predictor=None, random_state=None, ...)"
      ]
     },
     "metadata": {},
     "output_type": "display_data"
    },
    {
     "name": "stdout",
     "output_type": "stream",
     "text": [
      "### METRICS ###\n"
     ]
    },
    {
     "data": {
      "text/plain": [
       "{'model': 'xgb',\n",
       " 'train_auc': 0.9225078726361484,\n",
       " 'test_auc': 0.8847406677502627,\n",
       " 'precision': 0.7348139711465452,\n",
       " 'specificity': 0.8927282500191968,\n",
       " 'recall': 0.6510258997645476,\n",
       " 'f_score': 0.6903870162297129}"
      ]
     },
     "metadata": {},
     "output_type": "display_data"
    },
    {
     "name": "stdout",
     "output_type": "stream",
     "text": [
      "True Negatives: 11626\n",
      "False Positives: 1397\n",
      "False Negatives: 2075\n",
      "True Positives: 3871\n",
      "Accuracy: 0.808\n",
      "Precision: 0.738\n",
      "Recall: 0.610\n",
      "ROC-AUC: 0.880\n"
     ]
    },
    {
     "data": {
      "text/plain": [
       "\"\\nxgb_gs_v1.fit(X, y)\\nprint(' ')\\nevaluate_model(xgb_gs_v1)\\n\""
      ]
     },
     "execution_count": 24,
     "metadata": {},
     "output_type": "execute_result"
    }
   ],
   "source": [
    "train = pd.read_pickle('./feature/feat_v1.pkl')\n",
    "X = train.drop(columns=['is_popular','n_comment','group_by_subsection_name','feature_subsection_name'])\n",
    "y = train['is_popular']\n",
    "X_train, X_test, y_train, y_test = train_test_split(X, y, test_size=0.3, random_state=42)\n",
    "X_graph.append(X_test)\n",
    "y_graph.append(y_test)\n",
    "feature_names = X_train.columns\n",
    "\n",
    "xgb = run_model('xgb')\n",
    "xgb_v1_param = { \n",
    "              'xgb__learning_rate' : [0.1], \n",
    "              'xgb__max_depth' : [5],\n",
    "              'xgb__n_estimators' : [300], \n",
    "              'xgb__reg_alpha' : [1.0], \n",
    "              'xgb__reg_lambda' : [1.0], \n",
    "              'xgb__gamma' : [2.5],\n",
    "            }\n",
    "xgb_gs_v1 = run_model('xgb', mod_params=xgb_v1_param, grid_search=True)\n",
    "test = pd.read_pickle('./feature/feat_test_v1.pkl')\n",
    "test = test._get_numeric_data()\n",
    "\n",
    "final_actual = test['is_popular']\n",
    "test = test.drop(columns=['is_popular'])\n",
    "test = test.drop(columns=['feature_subsection_name'])\n",
    "test = test.drop(columns=['n_comment'])\n",
    "test = test.drop(columns=['group_by_subsection_name'])\n",
    "\n",
    "evaluate_model(xgb_gs_v1)\n",
    "\"\"\"\n",
    "xgb_gs_v1.fit(X, y)\n",
    "print(' ')\n",
    "evaluate_model(xgb_gs_v1)\n",
    "\"\"\""
   ]
  },
  {
   "attachments": {},
   "cell_type": "markdown",
   "metadata": {},
   "source": [
    "- Unmodified Version2"
   ]
  },
  {
   "cell_type": "code",
   "execution_count": 25,
   "metadata": {},
   "outputs": [
    {
     "name": "stdout",
     "output_type": "stream",
     "text": [
      "### METRICS ###\n"
     ]
    },
    {
     "data": {
      "text/plain": [
       "{'model': 'xgb',\n",
       " 'train_auc': 0.9389483633869015,\n",
       " 'test_auc': 0.8670054653641308,\n",
       " 'precision': 0.7253210272873194,\n",
       " 'specificity': 0.8945381711732532,\n",
       " 'recall': 0.6037074148296593,\n",
       " 'f_score': 0.6589500546846518}"
      ]
     },
     "metadata": {},
     "output_type": "display_data"
    },
    {
     "name": "stdout",
     "output_type": "stream",
     "text": [
      "True Negatives: 11612\n",
      "False Positives: 1369\n",
      "False Negatives: 2373\n",
      "True Positives: 3615\n",
      "Fitting 3 folds for each of 1 candidates, totalling 3 fits\n"
     ]
    },
    {
     "name": "stderr",
     "output_type": "stream",
     "text": [
      "c:\\Users\\88690\\anaconda3\\lib\\site-packages\\xgboost\\sklearn.py:1395: UserWarning: `use_label_encoder` is deprecated in 1.7.0.\n",
      "  warnings.warn(\"`use_label_encoder` is deprecated in 1.7.0.\")\n",
      "c:\\Users\\88690\\anaconda3\\lib\\site-packages\\xgboost\\sklearn.py:1395: UserWarning: `use_label_encoder` is deprecated in 1.7.0.\n",
      "  warnings.warn(\"`use_label_encoder` is deprecated in 1.7.0.\")\n"
     ]
    },
    {
     "name": "stdout",
     "output_type": "stream",
     "text": [
      "### BEST PARAMS ###\n"
     ]
    },
    {
     "data": {
      "text/plain": [
       "XGBClassifier(base_score=None, booster=None, callbacks=None,\n",
       "              colsample_bylevel=None, colsample_bynode=None,\n",
       "              colsample_bytree=None, early_stopping_rounds=None,\n",
       "              enable_categorical=False, eval_metric='auc', feature_types=None,\n",
       "              gamma=2.0, gpu_id=None, grow_policy=None, importance_type=None,\n",
       "              interaction_constraints=None, learning_rate=0.1, max_bin=None,\n",
       "              max_cat_threshold=None, max_cat_to_onehot=None,\n",
       "              max_delta_step=None, max_depth=5, max_leaves=None,\n",
       "              min_child_weight=None, missing=nan, monotone_constraints=None,\n",
       "              n_estimators=300, n_jobs=None, num_parallel_tree=None,\n",
       "              predictor=None, random_state=None, ...)"
      ]
     },
     "metadata": {},
     "output_type": "display_data"
    },
    {
     "name": "stdout",
     "output_type": "stream",
     "text": [
      "### METRICS ###\n"
     ]
    },
    {
     "data": {
      "text/plain": [
       "{'model': 'xgb',\n",
       " 'train_auc': 0.911770113551799,\n",
       " 'test_auc': 0.8700543950546498,\n",
       " 'precision': 0.7370672097759674,\n",
       " 'specificity': 0.9005469532393499,\n",
       " 'recall': 0.60437541750167,\n",
       " 'f_score': 0.6641585612038906}"
      ]
     },
     "metadata": {},
     "output_type": "display_data"
    },
    {
     "name": "stdout",
     "output_type": "stream",
     "text": [
      "True Negatives: 11690\n",
      "False Positives: 1291\n",
      "False Negatives: 2369\n",
      "True Positives: 3619\n",
      "Accuracy: 0.796\n",
      "Precision: 0.722\n",
      "Recall: 0.579\n",
      "ROC-AUC: 0.867\n"
     ]
    },
    {
     "data": {
      "text/plain": [
       "\"\\nxgb_gs_v2.fit(X, y)\\nprint(' ')\\nevaluate_model(xgb_gs_v2)\\n\""
      ]
     },
     "execution_count": 25,
     "metadata": {},
     "output_type": "execute_result"
    }
   ],
   "source": [
    "train = pd.read_pickle('./feature/feat_v2.pkl')\n",
    "X = train.drop(columns=['is_popular'])\n",
    "y = train['is_popular']\n",
    "X_train, X_test, y_train, y_test = train_test_split(X, y, test_size=0.3, random_state=42)\n",
    "X_graph.append(X_test)\n",
    "y_graph.append(y_test)\n",
    "feature_names = X_train.columns\n",
    "\n",
    "xgb = run_model('xgb')\n",
    "xgb_params = { \n",
    "              'xgb__learning_rate' : [0.1, 0.2, 0.3], \n",
    "              'xgb__max_depth' : [3, 5], \n",
    "              'xgb__n_estimators' : [100, 200, 300], \n",
    "              'xgb__reg_alpha' : [0.1, 1.0, 1.8, 2.0], \n",
    "              'xgb__reg_lambda' : [0.1, 1.0, 2.0, 2.4, 3.0], \n",
    "              'xgb__gamma' : [1.0, 2.0, 2.5, 3.0], \n",
    "            }\n",
    "xgb_v2_param = { \n",
    "              'xgb__learning_rate' : [0.1], \n",
    "              'xgb__max_depth' : [5], \n",
    "              'xgb__n_estimators' : [300], \n",
    "              'xgb__reg_alpha' : [1.0], \n",
    "              'xgb__reg_lambda' : [3.0], \n",
    "              'xgb__gamma' : [2.0], \n",
    "            }\n",
    "xgb_gs_v2 = run_model('xgb', mod_params=xgb_v2_param, grid_search=True)\n",
    "#xgb_gs[1].save_model('./model/xgb_v2.json')\n",
    "test = pd.read_pickle('./feature/feat_test_v2.pkl')\n",
    "test = test._get_numeric_data()\n",
    "final_actual = test['is_popular']\n",
    "test = test.drop(columns=['is_popular'])\n",
    "\n",
    "evaluate_model(xgb_gs_v2)\n",
    "\"\"\"\n",
    "xgb_gs_v2.fit(X, y)\n",
    "print(' ')\n",
    "evaluate_model(xgb_gs_v2)\n",
    "\"\"\""
   ]
  },
  {
   "attachments": {},
   "cell_type": "markdown",
   "metadata": {},
   "source": [
    "- Modified Version1<br/>\n",
    "Choose the first 40 feature with the higher correlation with is_popular"
   ]
  },
  {
   "cell_type": "code",
   "execution_count": 26,
   "metadata": {},
   "outputs": [
    {
     "name": "stdout",
     "output_type": "stream",
     "text": [
      "### METRICS ###\n"
     ]
    },
    {
     "data": {
      "text/plain": [
       "{'model': 'xgb',\n",
       " 'train_auc': 0.9750533631900492,\n",
       " 'test_auc': 0.8394286871918404,\n",
       " 'precision': 0.7098214285714286,\n",
       " 'specificity': 0.9081488459726802,\n",
       " 'recall': 0.5335570469798657,\n",
       " 'f_score': 0.6091954022988506}"
      ]
     },
     "metadata": {},
     "output_type": "display_data"
    },
    {
     "name": "stdout",
     "output_type": "stream",
     "text": [
      "True Negatives: 3856\n",
      "False Positives: 390\n",
      "False Negatives: 834\n",
      "True Positives: 954\n",
      "Fitting 3 folds for each of 1 candidates, totalling 3 fits\n"
     ]
    },
    {
     "name": "stderr",
     "output_type": "stream",
     "text": [
      "c:\\Users\\88690\\anaconda3\\lib\\site-packages\\xgboost\\sklearn.py:1395: UserWarning: `use_label_encoder` is deprecated in 1.7.0.\n",
      "  warnings.warn(\"`use_label_encoder` is deprecated in 1.7.0.\")\n",
      "c:\\Users\\88690\\anaconda3\\lib\\site-packages\\xgboost\\sklearn.py:1395: UserWarning: `use_label_encoder` is deprecated in 1.7.0.\n",
      "  warnings.warn(\"`use_label_encoder` is deprecated in 1.7.0.\")\n"
     ]
    },
    {
     "name": "stdout",
     "output_type": "stream",
     "text": [
      "### BEST PARAMS ###\n"
     ]
    },
    {
     "data": {
      "text/plain": [
       "XGBClassifier(base_score=None, booster=None, callbacks=None,\n",
       "              colsample_bylevel=None, colsample_bynode=None,\n",
       "              colsample_bytree=None, early_stopping_rounds=None,\n",
       "              enable_categorical=False, eval_metric='auc', feature_types=None,\n",
       "              gamma=1.0, gpu_id=None, grow_policy=None, importance_type=None,\n",
       "              interaction_constraints=None, learning_rate=0.1, max_bin=None,\n",
       "              max_cat_threshold=None, max_cat_to_onehot=None,\n",
       "              max_delta_step=None, max_depth=5, max_leaves=None,\n",
       "              min_child_weight=None, missing=nan, monotone_constraints=None,\n",
       "              n_estimators=100, n_jobs=None, num_parallel_tree=None,\n",
       "              predictor=None, random_state=None, ...)"
      ]
     },
     "metadata": {},
     "output_type": "display_data"
    },
    {
     "name": "stdout",
     "output_type": "stream",
     "text": [
      "### METRICS ###\n"
     ]
    },
    {
     "data": {
      "text/plain": [
       "{'model': 'xgb',\n",
       " 'train_auc': 0.8957814876576966,\n",
       " 'test_auc': 0.8495945256016716,\n",
       " 'precision': 0.7450826121164438,\n",
       " 'specificity': 0.9236928874234573,\n",
       " 'recall': 0.5296420581655481,\n",
       " 'f_score': 0.6191565871199739}"
      ]
     },
     "metadata": {},
     "output_type": "display_data"
    },
    {
     "name": "stdout",
     "output_type": "stream",
     "text": [
      "True Negatives: 3922\n",
      "False Positives: 324\n",
      "False Negatives: 841\n",
      "True Positives: 947\n",
      "Accuracy: 0.675\n",
      "Precision: 0.899\n",
      "Recall: 0.393\n",
      "ROC-AUC: 0.823\n"
     ]
    },
    {
     "data": {
      "text/plain": [
       "\"\\nxgb_gs_mod_v1.fit(X, y)\\nprint(' ')\\nevaluate_model(xgb_gs_mod_v1)\\n\""
      ]
     },
     "execution_count": 26,
     "metadata": {},
     "output_type": "execute_result"
    }
   ],
   "source": [
    "train = pd.read_pickle('./feature/feat_modified_v1.pkl')\n",
    "X = train.drop(columns=['is_popular','n_comment','group_by_subsection_name','feature_subsection_name'])\n",
    "y = train['is_popular']\n",
    "X_train, X_test, y_train, y_test = train_test_split(X, y, test_size=0.3, random_state=42)\n",
    "X_graph.append(X_test)\n",
    "y_graph.append(y_test)\n",
    "feature_names = X_train.columns\n",
    "\n",
    "xgb_mod_v1 = run_model('xgb')\n",
    "xgb_mod_v1_param = { \n",
    "              'xgb__learning_rate' : [0.1], \n",
    "              'xgb__max_depth' : [5],\n",
    "              'xgb__n_estimators' : [100], \n",
    "              'xgb__reg_alpha' : [1.8], \n",
    "              'xgb__reg_lambda' : [3.0], \n",
    "              'xgb__gamma' : [1.0],\n",
    "            }\n",
    "xgb_gs_mod_v1 = run_model('xgb', mod_params=xgb_mod_v1_param, grid_search=True)\n",
    "test = pd.read_pickle('./feature/feat_test_modified_v1.pkl')\n",
    "test = test._get_numeric_data()\n",
    "\n",
    "final_actual = test['is_popular']\n",
    "test = test.drop(columns=['is_popular'])\n",
    "test = test.drop(columns=['feature_subsection_name'])\n",
    "test = test.drop(columns=['n_comment'])\n",
    "test = test.drop(columns=['group_by_subsection_name'])\n",
    "\n",
    "evaluate_model(xgb_gs_mod_v1)\n",
    "\"\"\"\n",
    "xgb_gs_mod_v1.fit(X, y)\n",
    "print(' ')\n",
    "evaluate_model(xgb_gs_mod_v1)\n",
    "\"\"\"\n"
   ]
  },
  {
   "attachments": {},
   "cell_type": "markdown",
   "metadata": {},
   "source": [
    "- Modified Version1.03</br>\n",
    "The dataset has 30% is_popular data, as same as the unmodified dataset."
   ]
  },
  {
   "cell_type": "code",
   "execution_count": 27,
   "metadata": {},
   "outputs": [
    {
     "name": "stdout",
     "output_type": "stream",
     "text": [
      "### METRICS ###\n"
     ]
    },
    {
     "data": {
      "text/plain": [
       "{'model': 'xgb',\n",
       " 'train_auc': 0.9812659580551263,\n",
       " 'test_auc': 0.8361775683601674,\n",
       " 'precision': 0.7004437869822485,\n",
       " 'specificity': 0.9046161092793217,\n",
       " 'recall': 0.5296420581655481,\n",
       " 'f_score': 0.6031847133757963}"
      ]
     },
     "metadata": {},
     "output_type": "display_data"
    },
    {
     "name": "stdout",
     "output_type": "stream",
     "text": [
      "True Negatives: 3841\n",
      "False Positives: 405\n",
      "False Negatives: 841\n",
      "True Positives: 947\n",
      "Fitting 3 folds for each of 1 candidates, totalling 3 fits\n"
     ]
    },
    {
     "name": "stderr",
     "output_type": "stream",
     "text": [
      "c:\\Users\\88690\\anaconda3\\lib\\site-packages\\xgboost\\sklearn.py:1395: UserWarning: `use_label_encoder` is deprecated in 1.7.0.\n",
      "  warnings.warn(\"`use_label_encoder` is deprecated in 1.7.0.\")\n",
      "c:\\Users\\88690\\anaconda3\\lib\\site-packages\\xgboost\\sklearn.py:1395: UserWarning: `use_label_encoder` is deprecated in 1.7.0.\n",
      "  warnings.warn(\"`use_label_encoder` is deprecated in 1.7.0.\")\n"
     ]
    },
    {
     "name": "stdout",
     "output_type": "stream",
     "text": [
      "### BEST PARAMS ###\n"
     ]
    },
    {
     "data": {
      "text/plain": [
       "XGBClassifier(base_score=None, booster=None, callbacks=None,\n",
       "              colsample_bylevel=None, colsample_bynode=None,\n",
       "              colsample_bytree=None, early_stopping_rounds=None,\n",
       "              enable_categorical=False, eval_metric='auc', feature_types=None,\n",
       "              gamma=3.0, gpu_id=None, grow_policy=None, importance_type=None,\n",
       "              interaction_constraints=None, learning_rate=0.1, max_bin=None,\n",
       "              max_cat_threshold=None, max_cat_to_onehot=None,\n",
       "              max_delta_step=None, max_depth=5, max_leaves=None,\n",
       "              min_child_weight=None, missing=nan, monotone_constraints=None,\n",
       "              n_estimators=200, n_jobs=None, num_parallel_tree=None,\n",
       "              predictor=None, random_state=None, ...)"
      ]
     },
     "metadata": {},
     "output_type": "display_data"
    },
    {
     "name": "stdout",
     "output_type": "stream",
     "text": [
      "### METRICS ###\n"
     ]
    },
    {
     "data": {
      "text/plain": [
       "{'model': 'xgb',\n",
       " 'train_auc': 0.9078018478405325,\n",
       " 'test_auc': 0.8514977512721541,\n",
       " 'precision': 0.7408844065166796,\n",
       " 'specificity': 0.9213377296278851,\n",
       " 'recall': 0.5341163310961968,\n",
       " 'f_score': 0.620734481637959}"
      ]
     },
     "metadata": {},
     "output_type": "display_data"
    },
    {
     "name": "stdout",
     "output_type": "stream",
     "text": [
      "True Negatives: 3912\n",
      "False Positives: 334\n",
      "False Negatives: 833\n",
      "True Positives: 955\n",
      "Accuracy: 0.680\n",
      "Precision: 0.900\n",
      "Recall: 0.405\n",
      "ROC-AUC: 0.827\n"
     ]
    },
    {
     "data": {
      "text/plain": [
       "\"\\nxgb_gs_mod_v1_03.fit(X, y)\\nprint(' ')\\nevaluate_model(xgb_gs_mod_v1_03)\\n\""
      ]
     },
     "execution_count": 27,
     "metadata": {},
     "output_type": "execute_result"
    }
   ],
   "source": [
    "train = pd.read_pickle('./feature/feat_modified_v1_0.3.pkl')\n",
    "X = train.drop(columns=['is_popular','n_comment','group_by_subsection_name','feature_subsection_name'])\n",
    "y = train['is_popular']\n",
    "X_train, X_test, y_train, y_test = train_test_split(X, y, test_size=0.3, random_state=42)\n",
    "X_graph.append(X_test)\n",
    "y_graph.append(y_test)\n",
    "feature_names = X_train.columns\n",
    "\n",
    "xgb_mod_v1_03 = run_model('xgb')\n",
    "xgb_mod_v1_03_param = { \n",
    "              'xgb__learning_rate' : [0.1], \n",
    "              'xgb__max_depth' : [5],\n",
    "              'xgb__n_estimators' : [200], \n",
    "              'xgb__reg_alpha' : [1.8], \n",
    "              'xgb__reg_lambda' : [0.1], \n",
    "              'xgb__gamma' : [3.0],\n",
    "            }\n",
    "xgb_gs_mod_v1_03 = run_model('xgb', mod_params=xgb_mod_v1_03_param, grid_search=True)\n",
    "\n",
    "test = pd.read_pickle('./feature/feat_test_modified_v1_0.3.pkl')\n",
    "test = test._get_numeric_data()\n",
    "\n",
    "final_actual = test['is_popular']\n",
    "test = test.drop(columns=['is_popular'])\n",
    "test = test.drop(columns=['feature_subsection_name'])\n",
    "test = test.drop(columns=['n_comment'])\n",
    "test = test.drop(columns=['group_by_subsection_name'])\n",
    "\n",
    "evaluate_model(xgb_gs_mod_v1_03)\n",
    "\"\"\"\n",
    "xgb_gs_mod_v1_03.fit(X, y)\n",
    "print(' ')\n",
    "evaluate_model(xgb_gs_mod_v1_03)\n",
    "\"\"\"\n"
   ]
  },
  {
   "attachments": {},
   "cell_type": "markdown",
   "metadata": {},
   "source": [
    "- Modified Version2"
   ]
  },
  {
   "cell_type": "code",
   "execution_count": 28,
   "metadata": {},
   "outputs": [
    {
     "name": "stdout",
     "output_type": "stream",
     "text": [
      "### METRICS ###\n"
     ]
    },
    {
     "data": {
      "text/plain": [
       "{'model': 'xgb',\n",
       " 'train_auc': 0.9745069257540302,\n",
       " 'test_auc': 0.833544544487334,\n",
       " 'precision': 0.7451388888888889,\n",
       " 'specificity': 0.7616883116883116,\n",
       " 'recall': 0.7264725795531483,\n",
       " 'f_score': 0.7356873500171409}"
      ]
     },
     "metadata": {},
     "output_type": "display_data"
    },
    {
     "name": "stdout",
     "output_type": "stream",
     "text": [
      "True Negatives: 2346\n",
      "False Positives: 734\n",
      "False Negatives: 808\n",
      "True Positives: 2146\n",
      "Fitting 3 folds for each of 1 candidates, totalling 3 fits\n"
     ]
    },
    {
     "name": "stderr",
     "output_type": "stream",
     "text": [
      "c:\\Users\\88690\\anaconda3\\lib\\site-packages\\xgboost\\sklearn.py:1395: UserWarning: `use_label_encoder` is deprecated in 1.7.0.\n",
      "  warnings.warn(\"`use_label_encoder` is deprecated in 1.7.0.\")\n",
      "c:\\Users\\88690\\anaconda3\\lib\\site-packages\\xgboost\\sklearn.py:1395: UserWarning: `use_label_encoder` is deprecated in 1.7.0.\n",
      "  warnings.warn(\"`use_label_encoder` is deprecated in 1.7.0.\")\n"
     ]
    },
    {
     "name": "stdout",
     "output_type": "stream",
     "text": [
      "### BEST PARAMS ###\n"
     ]
    },
    {
     "data": {
      "text/plain": [
       "XGBClassifier(base_score=None, booster=None, callbacks=None,\n",
       "              colsample_bylevel=None, colsample_bynode=None,\n",
       "              colsample_bytree=None, early_stopping_rounds=None,\n",
       "              enable_categorical=False, eval_metric='auc', feature_types=None,\n",
       "              gamma=2.0, gpu_id=None, grow_policy=None, importance_type=None,\n",
       "              interaction_constraints=None, learning_rate=0.1, max_bin=None,\n",
       "              max_cat_threshold=None, max_cat_to_onehot=None,\n",
       "              max_delta_step=None, max_depth=5, max_leaves=None,\n",
       "              min_child_weight=None, missing=nan, monotone_constraints=None,\n",
       "              n_estimators=300, n_jobs=None, num_parallel_tree=None,\n",
       "              predictor=None, random_state=None, ...)"
      ]
     },
     "metadata": {},
     "output_type": "display_data"
    },
    {
     "name": "stdout",
     "output_type": "stream",
     "text": [
      "### METRICS ###\n"
     ]
    },
    {
     "data": {
      "text/plain": [
       "{'model': 'xgb',\n",
       " 'train_auc': 0.9291171290587124,\n",
       " 'test_auc': 0.8419028458001037,\n",
       " 'precision': 0.7605683836589698,\n",
       " 'specificity': 0.7811688311688312,\n",
       " 'recall': 0.7247799593771158,\n",
       " 'f_score': 0.7422430230542556}"
      ]
     },
     "metadata": {},
     "output_type": "display_data"
    },
    {
     "name": "stdout",
     "output_type": "stream",
     "text": [
      "True Negatives: 2406\n",
      "False Positives: 674\n",
      "False Negatives: 813\n",
      "True Positives: 2141\n",
      "Accuracy: 0.757\n",
      "Precision: 0.769\n",
      "Recall: 0.734\n",
      "ROC-AUC: 0.846\n"
     ]
    },
    {
     "data": {
      "text/plain": [
       "\"\\nxgb_gs_mod_v2.fit(X, y)\\nprint(' ')\\nevaluate_model(xgb_gs_mod_v2)\\n\""
      ]
     },
     "execution_count": 28,
     "metadata": {},
     "output_type": "execute_result"
    }
   ],
   "source": [
    "train = pd.read_pickle('./feature/feat_modified_v2.pkl')\n",
    "X = train.drop(columns=['is_popular'])\n",
    "y = train['is_popular']\n",
    "X_train, X_test, y_train, y_test = train_test_split(X, y, test_size=0.3, random_state=42)\n",
    "X_graph.append(X_test)\n",
    "y_graph.append(y_test)\n",
    "feature_names = X_train.columns\n",
    "\n",
    "xgb_mod_v2 = run_model('xgb')\n",
    "xgb_params = { \n",
    "              'xgb__learning_rate' : [0.1], \n",
    "              'xgb__max_depth' : [5], \n",
    "              'xgb__n_estimators' : [300], \n",
    "              'xgb__reg_alpha' : [1.0], \n",
    "              'xgb__reg_lambda' : [3.0], \n",
    "              'xgb__gamma' : [2.0], \n",
    "            }\n",
    "xgb_gs_mod_v2 = run_model('xgb', mod_params=xgb_params, grid_search=True)\n",
    "xgb_gs_mod_v2[1].save_model('./model/xgb_modified_v2.json')\n",
    "\n",
    "test = pd.read_pickle('./feature/feat_test_modified_v2.pkl')\n",
    "test = test._get_numeric_data()\n",
    "\n",
    "final_actual = test['is_popular']\n",
    "test = test.drop(columns=['is_popular'])\n",
    "\n",
    "evaluate_model(xgb_gs_mod_v2)\n",
    "\"\"\"\n",
    "xgb_gs_mod_v2.fit(X, y)\n",
    "print(' ')\n",
    "evaluate_model(xgb_gs_mod_v2)\n",
    "\"\"\"\n"
   ]
  },
  {
   "cell_type": "code",
   "execution_count": 29,
   "metadata": {},
   "outputs": [
    {
     "data": {
      "text/plain": [
       "\"\\nxgb_params = { \\n              'xgb__learning_rate' : [0.1, 0.2, 0.3], \\n              'xgb__max_depth' : [3, 5], \\n              'xgb__n_estimators' : [100, 200, 300], \\n              'xgb__reg_alpha' : [0.1, 1.0, 1.8, 2.0], \\n              'xgb__reg_lambda' : [0.1, 1.0, 2.0, 2.4, 3.0], \\n              'xgb__gamma' : [1.0, 2.0, 2.5, 3.0], \\n            }\\nxgb_gs = run_model('xgb', mod_params=xgb_params, grid_search=True)\\nxgb_gs[1].save_model('./model/xgb.json')\""
      ]
     },
     "execution_count": 29,
     "metadata": {},
     "output_type": "execute_result"
    }
   ],
   "source": [
    "\"\"\"\n",
    "xgb_params = { \n",
    "              'xgb__learning_rate' : [0.1, 0.2, 0.3], \n",
    "              'xgb__max_depth' : [3, 5], \n",
    "              'xgb__n_estimators' : [100, 200, 300], \n",
    "              'xgb__reg_alpha' : [0.1, 1.0, 1.8, 2.0], \n",
    "              'xgb__reg_lambda' : [0.1, 1.0, 2.0, 2.4, 3.0], \n",
    "              'xgb__gamma' : [1.0, 2.0, 2.5, 3.0], \n",
    "            }\n",
    "xgb_gs = run_model('xgb', mod_params=xgb_params, grid_search=True)\n",
    "xgb_gs[1].save_model('./model/xgb.json')\"\"\""
   ]
  },
  {
   "cell_type": "code",
   "execution_count": 30,
   "metadata": {},
   "outputs": [
    {
     "data": {
      "text/html": [
       "<div>\n",
       "<style scoped>\n",
       "    .dataframe tbody tr th:only-of-type {\n",
       "        vertical-align: middle;\n",
       "    }\n",
       "\n",
       "    .dataframe tbody tr th {\n",
       "        vertical-align: top;\n",
       "    }\n",
       "\n",
       "    .dataframe thead th {\n",
       "        text-align: right;\n",
       "    }\n",
       "</style>\n",
       "<table border=\"1\" class=\"dataframe\">\n",
       "  <thead>\n",
       "    <tr style=\"text-align: right;\">\n",
       "      <th></th>\n",
       "      <th>model</th>\n",
       "      <th>train_auc</th>\n",
       "      <th>test_auc</th>\n",
       "      <th>precision</th>\n",
       "      <th>specificity</th>\n",
       "      <th>recall</th>\n",
       "      <th>f_score</th>\n",
       "    </tr>\n",
       "  </thead>\n",
       "  <tbody>\n",
       "    <tr>\n",
       "      <th>0</th>\n",
       "      <td>rf</td>\n",
       "      <td>1.000000</td>\n",
       "      <td>0.886143</td>\n",
       "      <td>0.757903</td>\n",
       "      <td>0.908854</td>\n",
       "      <td>0.624958</td>\n",
       "      <td>0.685040</td>\n",
       "    </tr>\n",
       "    <tr>\n",
       "      <th>1</th>\n",
       "      <td>xgb</td>\n",
       "      <td>0.944539</td>\n",
       "      <td>0.881929</td>\n",
       "      <td>0.726846</td>\n",
       "      <td>0.888351</td>\n",
       "      <td>0.650690</td>\n",
       "      <td>0.686663</td>\n",
       "    </tr>\n",
       "    <tr>\n",
       "      <th>2</th>\n",
       "      <td>rf</td>\n",
       "      <td>1.000000</td>\n",
       "      <td>0.869377</td>\n",
       "      <td>0.756781</td>\n",
       "      <td>0.915030</td>\n",
       "      <td>0.573146</td>\n",
       "      <td>0.652285</td>\n",
       "    </tr>\n",
       "    <tr>\n",
       "      <th>3</th>\n",
       "      <td>xgb</td>\n",
       "      <td>0.938948</td>\n",
       "      <td>0.867005</td>\n",
       "      <td>0.725321</td>\n",
       "      <td>0.894538</td>\n",
       "      <td>0.603707</td>\n",
       "      <td>0.658950</td>\n",
       "    </tr>\n",
       "    <tr>\n",
       "      <th>4</th>\n",
       "      <td>rf</td>\n",
       "      <td>0.999897</td>\n",
       "      <td>0.847301</td>\n",
       "      <td>0.734694</td>\n",
       "      <td>0.917334</td>\n",
       "      <td>0.543624</td>\n",
       "      <td>0.624879</td>\n",
       "    </tr>\n",
       "    <tr>\n",
       "      <th>5</th>\n",
       "      <td>rf</td>\n",
       "      <td>0.999914</td>\n",
       "      <td>0.845944</td>\n",
       "      <td>0.737567</td>\n",
       "      <td>0.919218</td>\n",
       "      <td>0.539150</td>\n",
       "      <td>0.622940</td>\n",
       "    </tr>\n",
       "    <tr>\n",
       "      <th>6</th>\n",
       "      <td>rf</td>\n",
       "      <td>1.000000</td>\n",
       "      <td>0.842965</td>\n",
       "      <td>0.776059</td>\n",
       "      <td>0.802597</td>\n",
       "      <td>0.713270</td>\n",
       "      <td>0.743341</td>\n",
       "    </tr>\n",
       "    <tr>\n",
       "      <th>7</th>\n",
       "      <td>xgb</td>\n",
       "      <td>0.975053</td>\n",
       "      <td>0.839429</td>\n",
       "      <td>0.709821</td>\n",
       "      <td>0.908149</td>\n",
       "      <td>0.533557</td>\n",
       "      <td>0.609195</td>\n",
       "    </tr>\n",
       "    <tr>\n",
       "      <th>8</th>\n",
       "      <td>xgb</td>\n",
       "      <td>0.981266</td>\n",
       "      <td>0.836178</td>\n",
       "      <td>0.700444</td>\n",
       "      <td>0.904616</td>\n",
       "      <td>0.529642</td>\n",
       "      <td>0.603185</td>\n",
       "    </tr>\n",
       "    <tr>\n",
       "      <th>9</th>\n",
       "      <td>xgb</td>\n",
       "      <td>0.974507</td>\n",
       "      <td>0.833545</td>\n",
       "      <td>0.745139</td>\n",
       "      <td>0.761688</td>\n",
       "      <td>0.726473</td>\n",
       "      <td>0.735687</td>\n",
       "    </tr>\n",
       "  </tbody>\n",
       "</table>\n",
       "</div>"
      ],
      "text/plain": [
       "  model  train_auc  test_auc  precision  specificity    recall   f_score\n",
       "0    rf   1.000000  0.886143   0.757903     0.908854  0.624958  0.685040\n",
       "1   xgb   0.944539  0.881929   0.726846     0.888351  0.650690  0.686663\n",
       "2    rf   1.000000  0.869377   0.756781     0.915030  0.573146  0.652285\n",
       "3   xgb   0.938948  0.867005   0.725321     0.894538  0.603707  0.658950\n",
       "4    rf   0.999897  0.847301   0.734694     0.917334  0.543624  0.624879\n",
       "5    rf   0.999914  0.845944   0.737567     0.919218  0.539150  0.622940\n",
       "6    rf   1.000000  0.842965   0.776059     0.802597  0.713270  0.743341\n",
       "7   xgb   0.975053  0.839429   0.709821     0.908149  0.533557  0.609195\n",
       "8   xgb   0.981266  0.836178   0.700444     0.904616  0.529642  0.603185\n",
       "9   xgb   0.974507  0.833545   0.745139     0.761688  0.726473  0.735687"
      ]
     },
     "execution_count": 30,
     "metadata": {},
     "output_type": "execute_result"
    }
   ],
   "source": [
    "pd.DataFrame(init_list).sort_values(by='test_auc', ascending=False).reset_index(drop=True)"
   ]
  },
  {
   "cell_type": "code",
   "execution_count": 31,
   "metadata": {},
   "outputs": [
    {
     "data": {
      "text/html": [
       "<div>\n",
       "<style scoped>\n",
       "    .dataframe tbody tr th:only-of-type {\n",
       "        vertical-align: middle;\n",
       "    }\n",
       "\n",
       "    .dataframe tbody tr th {\n",
       "        vertical-align: top;\n",
       "    }\n",
       "\n",
       "    .dataframe thead th {\n",
       "        text-align: right;\n",
       "    }\n",
       "</style>\n",
       "<table border=\"1\" class=\"dataframe\">\n",
       "  <thead>\n",
       "    <tr style=\"text-align: right;\">\n",
       "      <th></th>\n",
       "      <th>model</th>\n",
       "      <th>train_auc</th>\n",
       "      <th>test_auc</th>\n",
       "      <th>precision</th>\n",
       "      <th>specificity</th>\n",
       "      <th>recall</th>\n",
       "      <th>f_score</th>\n",
       "    </tr>\n",
       "  </thead>\n",
       "  <tbody>\n",
       "    <tr>\n",
       "      <th>0</th>\n",
       "      <td>rf</td>\n",
       "      <td>0.994526</td>\n",
       "      <td>0.889330</td>\n",
       "      <td>0.766764</td>\n",
       "      <td>0.914536</td>\n",
       "      <td>0.615372</td>\n",
       "      <td>0.682777</td>\n",
       "    </tr>\n",
       "    <tr>\n",
       "      <th>5</th>\n",
       "      <td>xgb</td>\n",
       "      <td>0.922508</td>\n",
       "      <td>0.884741</td>\n",
       "      <td>0.734814</td>\n",
       "      <td>0.892728</td>\n",
       "      <td>0.651026</td>\n",
       "      <td>0.690387</td>\n",
       "    </tr>\n",
       "    <tr>\n",
       "      <th>1</th>\n",
       "      <td>rf</td>\n",
       "      <td>0.999212</td>\n",
       "      <td>0.871493</td>\n",
       "      <td>0.764600</td>\n",
       "      <td>0.919575</td>\n",
       "      <td>0.566299</td>\n",
       "      <td>0.650676</td>\n",
       "    </tr>\n",
       "    <tr>\n",
       "      <th>6</th>\n",
       "      <td>xgb</td>\n",
       "      <td>0.911770</td>\n",
       "      <td>0.870054</td>\n",
       "      <td>0.737067</td>\n",
       "      <td>0.900547</td>\n",
       "      <td>0.604375</td>\n",
       "      <td>0.664159</td>\n",
       "    </tr>\n",
       "    <tr>\n",
       "      <th>3</th>\n",
       "      <td>rf</td>\n",
       "      <td>0.964810</td>\n",
       "      <td>0.853704</td>\n",
       "      <td>0.745233</td>\n",
       "      <td>0.921338</td>\n",
       "      <td>0.546421</td>\n",
       "      <td>0.630526</td>\n",
       "    </tr>\n",
       "    <tr>\n",
       "      <th>8</th>\n",
       "      <td>xgb</td>\n",
       "      <td>0.907802</td>\n",
       "      <td>0.851498</td>\n",
       "      <td>0.740884</td>\n",
       "      <td>0.921338</td>\n",
       "      <td>0.534116</td>\n",
       "      <td>0.620734</td>\n",
       "    </tr>\n",
       "    <tr>\n",
       "      <th>2</th>\n",
       "      <td>rf</td>\n",
       "      <td>0.942708</td>\n",
       "      <td>0.851270</td>\n",
       "      <td>0.750586</td>\n",
       "      <td>0.924870</td>\n",
       "      <td>0.536913</td>\n",
       "      <td>0.626019</td>\n",
       "    </tr>\n",
       "    <tr>\n",
       "      <th>7</th>\n",
       "      <td>xgb</td>\n",
       "      <td>0.895781</td>\n",
       "      <td>0.849595</td>\n",
       "      <td>0.745083</td>\n",
       "      <td>0.923693</td>\n",
       "      <td>0.529642</td>\n",
       "      <td>0.619157</td>\n",
       "    </tr>\n",
       "    <tr>\n",
       "      <th>4</th>\n",
       "      <td>rf</td>\n",
       "      <td>0.982929</td>\n",
       "      <td>0.846519</td>\n",
       "      <td>0.780909</td>\n",
       "      <td>0.810714</td>\n",
       "      <td>0.703453</td>\n",
       "      <td>0.740160</td>\n",
       "    </tr>\n",
       "    <tr>\n",
       "      <th>9</th>\n",
       "      <td>xgb</td>\n",
       "      <td>0.929117</td>\n",
       "      <td>0.841903</td>\n",
       "      <td>0.760568</td>\n",
       "      <td>0.781169</td>\n",
       "      <td>0.724780</td>\n",
       "      <td>0.742243</td>\n",
       "    </tr>\n",
       "  </tbody>\n",
       "</table>\n",
       "</div>"
      ],
      "text/plain": [
       "  model  train_auc  test_auc  precision  specificity    recall   f_score\n",
       "0    rf   0.994526  0.889330   0.766764     0.914536  0.615372  0.682777\n",
       "5   xgb   0.922508  0.884741   0.734814     0.892728  0.651026  0.690387\n",
       "1    rf   0.999212  0.871493   0.764600     0.919575  0.566299  0.650676\n",
       "6   xgb   0.911770  0.870054   0.737067     0.900547  0.604375  0.664159\n",
       "3    rf   0.964810  0.853704   0.745233     0.921338  0.546421  0.630526\n",
       "8   xgb   0.907802  0.851498   0.740884     0.921338  0.534116  0.620734\n",
       "2    rf   0.942708  0.851270   0.750586     0.924870  0.536913  0.626019\n",
       "7   xgb   0.895781  0.849595   0.745083     0.923693  0.529642  0.619157\n",
       "4    rf   0.982929  0.846519   0.780909     0.810714  0.703453  0.740160\n",
       "9   xgb   0.929117  0.841903   0.760568     0.781169  0.724780  0.742243"
      ]
     },
     "execution_count": 31,
     "metadata": {},
     "output_type": "execute_result"
    }
   ],
   "source": [
    "gs_df = pd.DataFrame(gs_list)\n",
    "gs_df.sort_values(by='test_auc', ascending=False)"
   ]
  },
  {
   "cell_type": "code",
   "execution_count": 32,
   "metadata": {},
   "outputs": [],
   "source": [
    "gs_dict = {\n",
    "    rf_gs_v1: 'RandomForest Unmodified V1',\n",
    "    rf_gs_v2: 'RandomForest Unmodified V2',\n",
    "    rf_gs_mod_v1: 'RandomForest Modified V1',\n",
    "    rf_gs_mod_v1_03: 'RandomForest Modified V1-0.3',\n",
    "    rf_gs_mod_v2: 'RandomForest Modified V2',\n",
    "    xgb_gs_v1: 'XGBoostClassfier Unmodified V1',\n",
    "    xgb_gs_v2: 'XGBoostClassfier Unmodified V2',\n",
    "    xgb_gs_mod_v1: 'XGBoostClassfier Modified V1',\n",
    "    xgb_gs_mod_v1_03: 'XGBoostClassfier Modified V1-0.3',\n",
    "    xgb_gs_mod_v2: 'XGBoostClassfier Modified V2',\n",
    "}"
   ]
  },
  {
   "cell_type": "code",
   "execution_count": 33,
   "metadata": {},
   "outputs": [],
   "source": [
    "def roc_curve_plotter(model_dict, plot_top=False):\n",
    "    fig, ax = plt.subplots(1, 1, figsize=(12,10))\n",
    "    axes = {}\n",
    "    for i, m in enumerate(model_dict.keys()):\n",
    "        axes[f'ax{i}'] = sklearn.metrics.RocCurveDisplay.from_estimator(m, X_graph[i], y_graph[i], ax=ax, name=model_dict[m])\n",
    "    if plot_top:\n",
    "        for i, a in enumerate(axes):\n",
    "            if i != 0:\n",
    "                axes[a].line_.set_color('gray')\n",
    "                axes[a].line_.set_alpha(0.25)\n",
    "                \n",
    "    plt.plot([0, 1], [0, 1], color='black', lw=2, linestyle='--', label='Random Guess')\n",
    "    plt.title('ROC-AUC Curve', fontsize=22)\n",
    "    plt.xlabel('False Positive Rate', fontsize=12)\n",
    "    plt.ylabel('True Positive Rate', fontsize=12)\n",
    "    plt.legend(fontsize=12)"
   ]
  },
  {
   "cell_type": "code",
   "execution_count": 34,
   "metadata": {},
   "outputs": [
    {
     "data": {
      "image/png": "[encoded data removed]",
      "text/plain": [
       "<Figure size 1200x1000 with 1 Axes>"
      ]
     },
     "metadata": {},
     "output_type": "display_data"
    }
   ],
   "source": [
    "roc_curve_plotter(gs_dict, False)"
   ]
  }
 ],
 "metadata": {
  "kernelspec": {
   "display_name": "Python 3",
   "language": "python",
   "name": "python3"
  },
  "language_info": {
   "codemirror_mode": {
    "name": "ipython",
    "version": 3
   },
   "file_extension": ".py",
   "mimetype": "text/x-python",
   "name": "python",
   "nbconvert_exporter": "python",
   "pygments_lexer": "ipython3",
   "version": "3.9.13"
  },
  "orig_nbformat": 4
 },
 "nbformat": 4,
 "nbformat_minor": 2
}
