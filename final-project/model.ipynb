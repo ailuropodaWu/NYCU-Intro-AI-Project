{
 "cells": [
  {
   "cell_type": "code",
   "execution_count": 1,
   "metadata": {},
   "outputs": [],
   "source": [
    "import pandas as pd\n",
    "import numpy as np\n",
    "import matplotlib.pyplot as plt\n",
    "import seaborn as sns\n",
    "import pickle\n",
    "import joblib\n",
    "import sklearn.metrics\n",
    "from sklearn.preprocessing import StandardScaler\n",
    "from sklearn.model_selection import train_test_split, GridSearchCV, cross_val_score\n",
    "from sklearn.pipeline import Pipeline\n",
    "from sklearn.linear_model import LogisticRegression\n",
    "from sklearn.metrics import (confusion_matrix, classification_report,  roc_auc_score, \n",
    "accuracy_score, precision_score, recall_score, f1_score, auc, precision_recall_curve, average_precision_score)\n",
    "from sklearn.ensemble import (RandomForestClassifier)\n",
    "from sklearn.svm import SVC\n",
    "import xgboost\n",
    "from xgboost import XGBClassifier"
   ]
  },
  {
   "cell_type": "code",
   "execution_count": 2,
   "metadata": {},
   "outputs": [],
   "source": [
    "pd.set_option('display.max_rows', 400)\n",
    "pd.set_option('max_colwidth', 120)\n",
    "pd.set_option('display.max_columns', None)"
   ]
  },
  {
   "cell_type": "code",
   "execution_count": 3,
   "metadata": {},
   "outputs": [
    {
     "name": "stderr",
     "output_type": "stream",
     "text": [
      "c:\\Users\\88690\\anaconda3\\lib\\site-packages\\xgboost\\sklearn.py:1395: UserWarning: `use_label_encoder` is deprecated in 1.7.0.\n",
      "  warnings.warn(\"`use_label_encoder` is deprecated in 1.7.0.\")\n"
     ]
    }
   ],
   "source": [
    "models = {'rf': RandomForestClassifier(random_state=42),\n",
    "          'xgb': XGBClassifier(seed=42, use_label_encoder=False, eval_metric='auc'),\n",
    "          'xgb_v1': XGBClassifier(seed=42, use_label_encoder=False, eval_metric='auc'),\n",
    "          'xgb_v1_03': XGBClassifier(seed=42, use_label_encoder=False, eval_metric='auc')}"
   ]
  },
  {
   "cell_type": "code",
   "execution_count": 4,
   "metadata": {},
   "outputs": [],
   "source": [
    "class CustomTransformer():\n",
    "    def __init__(self, func):\n",
    "        self.func = func\n",
    "\n",
    "    def transform(self, input_df, **transform_params):\n",
    "        return self.func(input_df)\n",
    "\n",
    "    def fit(self, X, y=None, **fit_params):\n",
    "        return self\n",
    "\n",
    "# This function takes a dataframe as input and returns a scaled version\n",
    "def scale_df(input_df):\n",
    "    ss = StandardScaler()\n",
    "    feature_names = input_df.columns\n",
    "    input_df = ss.fit_transform(input_df)\n",
    "    input_df = pd.DataFrame(input_df, columns=feature_names)\n",
    "    return input_df"
   ]
  },
  {
   "cell_type": "code",
   "execution_count": 5,
   "metadata": {},
   "outputs": [],
   "source": [
    "init_list = []\n",
    "gs_list = []\n",
    "\n",
    "# Function to run model -- input scaler and model\n",
    "def run_model(mod, mod_params={}, grid_search=False):\n",
    "    \n",
    "    # Initial dictionary to hold model results\n",
    "    results = {}\n",
    "    \n",
    "    pipe = Pipeline([\n",
    "            ('ss', CustomTransformer(scale_df)),\n",
    "            (mod, models[mod])\n",
    "            ])\n",
    "    if grid_search:\n",
    "        # Instantiate list to store gridsearch results\n",
    "        gs = GridSearchCV(pipe, param_grid=mod_params, cv=3, verbose=1, scoring='roc_auc', n_jobs=-1)\n",
    "        gs.fit(X_train, y_train)\n",
    "        pipe = gs.best_estimator_\n",
    "        \n",
    "    else:\n",
    "        pipe.fit(X_train, y_train)\n",
    "    # Retrieve metrics\n",
    "    predictions = pipe.predict(X_test)\n",
    "    tn, fp, fn, tp = confusion_matrix(y_test, predictions).ravel()\n",
    "    y_test_pred_prob = pipe.predict_proba(X_test)[:,1]\n",
    "    y_train_pred_prob = pipe.predict_proba(X_train)[:,1]\n",
    "    \n",
    "    results['model'] = mod\n",
    "    results['train_auc'] = roc_auc_score(y_train, y_train_pred_prob)\n",
    "    results['test_auc'] = roc_auc_score(y_test, y_test_pred_prob)\n",
    "    results['precision'] = precision_score(y_test, predictions)\n",
    "    results['specificity'] = tn / (tn + fp)\n",
    "    results['recall'] = recall_score(y_test, predictions)\n",
    "    results['f_score'] = f1_score(y_test, predictions)\n",
    "    \n",
    "    if grid_search:\n",
    "        gs_list.append(results)\n",
    "        print('### BEST PARAMS ###')\n",
    "        display(pipe[1])\n",
    "        \n",
    "    else:\n",
    "        init_list.append(results)\n",
    "    \n",
    "    print('### METRICS ###')\n",
    "    display(results)\n",
    "    \n",
    "    print(f\"True Negatives: {tn}\")\n",
    "    print(f\"False Positives: {fp}\")\n",
    "    print(f\"False Negatives: {fn}\")\n",
    "    print(f\"True Positives: {tp}\")\n",
    "    \n",
    "    return pipe"
   ]
  },
  {
   "cell_type": "code",
   "execution_count": 6,
   "metadata": {},
   "outputs": [],
   "source": [
    "def evaluate_model(model):\n",
    "    final_proba = model.predict_proba(test)\n",
    "    final_proba = final_proba[:, 1]\n",
    "    final_preds = model.predict(test)\n",
    "    print(f'Accuracy:', f'{accuracy_score(final_actual, final_preds):.3f}')\n",
    "    print(f'Precision:', f'{precision_score(final_actual, final_preds):.3f}')\n",
    "    print(f'Recall:', f'{recall_score(final_actual, final_preds):.3f}')\n",
    "    print(f'ROC-AUC:', f'{roc_auc_score(final_actual, final_proba):.3f}')"
   ]
  },
  {
   "cell_type": "code",
   "execution_count": 7,
   "metadata": {},
   "outputs": [
    {
     "data": {
      "text/plain": [
       "'rf_params = {\\'rf__n_estimators\\': [100, 200, 300, 400, 500],\\n             \\'rf__max_depth\\': [10, 20, 30, 40, 50, 60],\\n             \\'rf__min_samples_leaf\\': [i for i in range(2, 18)],\\n            }\\nrf_gs =  run_model(\\'rf\\', mod_params=rf_params, grid_search=True)\\n#joblib.dump(rf_gs[1], \"./model/rf_modified.joblib\")'"
      ]
     },
     "execution_count": 7,
     "metadata": {},
     "output_type": "execute_result"
    }
   ],
   "source": [
    "\"\"\"rf_params = {'rf__n_estimators': [100, 200, 300, 400, 500],\n",
    "             'rf__max_depth': [10, 20, 30, 40, 50, 60],\n",
    "             'rf__min_samples_leaf': [i for i in range(2, 18)],\n",
    "            }\n",
    "rf_gs =  run_model('rf', mod_params=rf_params, grid_search=True)\n",
    "#joblib.dump(rf_gs[1], \"./model/rf_modified.joblib\")\"\"\""
   ]
  },
  {
   "attachments": {},
   "cell_type": "markdown",
   "metadata": {},
   "source": [
    "# Random Forest Model\n"
   ]
  },
  {
   "attachments": {},
   "cell_type": "markdown",
   "metadata": {},
   "source": [
    "- UNModified Version1<br/>\n",
    "Choose the first 40 feature with the higher correlation with is_popular"
   ]
  },
  {
   "cell_type": "code",
   "execution_count": 8,
   "metadata": {},
   "outputs": [],
   "source": [
    "X_graph = []\n",
    "y_graph = []"
   ]
  },
  {
   "cell_type": "code",
   "execution_count": 9,
   "metadata": {},
   "outputs": [
    {
     "name": "stdout",
     "output_type": "stream",
     "text": [
      "### METRICS ###\n"
     ]
    },
    {
     "data": {
      "text/plain": [
       "{'model': 'rf',\n",
       " 'train_auc': 0.9999999648146146,\n",
       " 'test_auc': 0.8861427964945664,\n",
       " 'precision': 0.757903324495207,\n",
       " 'specificity': 0.9088535667664901,\n",
       " 'recall': 0.6249579549276825,\n",
       " 'f_score': 0.6850400958613697}"
      ]
     },
     "metadata": {},
     "output_type": "display_data"
    },
    {
     "name": "stdout",
     "output_type": "stream",
     "text": [
      "True Negatives: 11836\n",
      "False Positives: 1187\n",
      "False Negatives: 2230\n",
      "True Positives: 3716\n",
      "Fitting 3 folds for each of 1 candidates, totalling 3 fits\n",
      "### BEST PARAMS ###\n"
     ]
    },
    {
     "data": {
      "text/plain": [
       "RandomForestClassifier(max_depth=20, min_samples_leaf=2, n_estimators=300,\n",
       "                       random_state=42)"
      ]
     },
     "metadata": {},
     "output_type": "display_data"
    },
    {
     "name": "stdout",
     "output_type": "stream",
     "text": [
      "### METRICS ###\n"
     ]
    },
    {
     "data": {
      "text/plain": [
       "{'model': 'rf',\n",
       " 'train_auc': 0.9945258882383992,\n",
       " 'test_auc': 0.8893295178891113,\n",
       " 'precision': 0.7667644593461861,\n",
       " 'specificity': 0.9145358212393457,\n",
       " 'recall': 0.6153716784392869,\n",
       " 'f_score': 0.6827766374323568}"
      ]
     },
     "metadata": {},
     "output_type": "display_data"
    },
    {
     "name": "stdout",
     "output_type": "stream",
     "text": [
      "True Negatives: 11910\n",
      "False Positives: 1113\n",
      "False Negatives: 2287\n",
      "True Positives: 3659\n",
      "Accuracy: 0.806\n",
      "Precision: 0.761\n",
      "Recall: 0.566\n",
      "ROC-AUC: 0.879\n",
      " \n",
      "Accuracy: 0.810\n",
      "Precision: 0.772\n",
      "Recall: 0.568\n",
      "ROC-AUC: 0.882\n"
     ]
    }
   ],
   "source": [
    "train = pd.read_pickle('./feature/feat_v1.pkl')\n",
    "X = train.drop(columns=['is_popular','n_comment','group_by_subsection_name','feature_subsection_name'])\n",
    "y = train['is_popular']\n",
    "X_train, X_test, y_train, y_test = train_test_split(X, y, test_size=0.3, random_state=42)\n",
    "X_graph.append(X_test)\n",
    "y_graph.append(y_test)\n",
    "feature_names = X_train.columns\n",
    "\n",
    "rf_v1 = run_model('rf')\n",
    "rf_v1_param = { \n",
    "              'rf__n_estimators': [300],\n",
    "             'rf__max_depth': [20],\n",
    "             'rf__min_samples_leaf': [2],\n",
    "            }\n",
    "rf_gs_v1 = run_model('rf', mod_params=rf_v1_param, grid_search=True)\n",
    "test = pd.read_pickle('./feature/feat_test_v1.pkl')\n",
    "test = test._get_numeric_data()\n",
    "\n",
    "final_actual = test['is_popular']\n",
    "test = test.drop(columns=['is_popular'])\n",
    "test = test.drop(columns=['feature_subsection_name'])\n",
    "test = test.drop(columns=['n_comment'])\n",
    "test = test.drop(columns=['group_by_subsection_name'])\n",
    "\n",
    "evaluate_model(rf_gs_v1)\n",
    "rf_gs_v1.fit(X, y)\n",
    "print(' ')\n",
    "evaluate_model(rf_gs_v1)"
   ]
  },
  {
   "attachments": {},
   "cell_type": "markdown",
   "metadata": {},
   "source": [
    "- wrong predict analysis<br/>"
   ]
  },
  {
   "cell_type": "code",
   "execution_count": 10,
   "metadata": {},
   "outputs": [
    {
     "data": {
      "text/html": [
       "<div>\n",
       "<style scoped>\n",
       "    .dataframe tbody tr th:only-of-type {\n",
       "        vertical-align: middle;\n",
       "    }\n",
       "\n",
       "    .dataframe tbody tr th {\n",
       "        vertical-align: top;\n",
       "    }\n",
       "\n",
       "    .dataframe thead th {\n",
       "        text-align: right;\n",
       "    }\n",
       "</style>\n",
       "<table border=\"1\" class=\"dataframe\">\n",
       "  <thead>\n",
       "    <tr style=\"text-align: right;\">\n",
       "      <th></th>\n",
       "      <th>actual</th>\n",
       "      <th>predicted</th>\n",
       "      <th>proba</th>\n",
       "      <th>news_desk</th>\n",
       "      <th>section_name</th>\n",
       "      <th>subsection_name</th>\n",
       "      <th>headline</th>\n",
       "      <th>abstract</th>\n",
       "      <th>keywords</th>\n",
       "    </tr>\n",
       "  </thead>\n",
       "  <tbody>\n",
       "    <tr>\n",
       "      <th>397</th>\n",
       "      <td>0.0</td>\n",
       "      <td>1.0</td>\n",
       "      <td>0.934727</td>\n",
       "      <td>Well</td>\n",
       "      <td>Well</td>\n",
       "      <td>Live</td>\n",
       "      <td>Why Are We So Afraid of Fevers?</td>\n",
       "      <td>Under most circumstances, fever is beneficial, reducing the severity of illness and shortening its length.</td>\n",
       "      <td>[Fever, Temperature, Seizures (Medical), Immune System, Infections, College of Physicians of Philadelphia]</td>\n",
       "    </tr>\n",
       "    <tr>\n",
       "      <th>476</th>\n",
       "      <td>0.0</td>\n",
       "      <td>1.0</td>\n",
       "      <td>0.882287</td>\n",
       "      <td>RealEstate</td>\n",
       "      <td>Real Estate</td>\n",
       "      <td>NaN</td>\n",
       "      <td>The ‘Posh Portals’ of New York City</td>\n",
       "      <td>A new book looks at how grand entrances have helped define some of the city’s most exclusive apartment houses.</td>\n",
       "      <td>[Real Estate and Housing (Residential), Historic Buildings and Sites, Stern, Robert AM, Architects LLP, Dakota (Manh...</td>\n",
       "    </tr>\n",
       "    <tr>\n",
       "      <th>18</th>\n",
       "      <td>0.0</td>\n",
       "      <td>1.0</td>\n",
       "      <td>0.876293</td>\n",
       "      <td>RealEstate</td>\n",
       "      <td>Real Estate</td>\n",
       "      <td>NaN</td>\n",
       "      <td>Top Sales Show How Pandemic Continues to Influence the Market</td>\n",
       "      <td>Single-family houses and penthouses remained in demand in December as buyers sought out homes with more personal space.</td>\n",
       "      <td>[Real Estate and Housing (Residential), High Net Worth Individuals, Coronavirus (2019-nCoV), One57 (Manhattan, NY, A...</td>\n",
       "    </tr>\n",
       "    <tr>\n",
       "      <th>401</th>\n",
       "      <td>0.0</td>\n",
       "      <td>1.0</td>\n",
       "      <td>0.872928</td>\n",
       "      <td>Travel</td>\n",
       "      <td>Travel</td>\n",
       "      <td>NaN</td>\n",
       "      <td>A Long, Lonesome Look at America</td>\n",
       "      <td>Alone on a 10,000-mile road trip across the United States, a Times journalist found an America cloaked in solitude —...</td>\n",
       "      <td>[Road Trips, Forests and Forestry, Quarantine (Life and Culture), United States]</td>\n",
       "    </tr>\n",
       "    <tr>\n",
       "      <th>109</th>\n",
       "      <td>0.0</td>\n",
       "      <td>1.0</td>\n",
       "      <td>0.859896</td>\n",
       "      <td>OpEd</td>\n",
       "      <td>Opinion</td>\n",
       "      <td>NaN</td>\n",
       "      <td>To Defend Democracy, Investigate Trump</td>\n",
       "      <td>There needs to be a cost to trying to overthrow an election.</td>\n",
       "      <td>[Trump, Donald J, Presidential Election of 2020, Voting and Voters, Georgia, Voter Fraud (Election Fraud), Corruptio...</td>\n",
       "    </tr>\n",
       "    <tr>\n",
       "      <th>469</th>\n",
       "      <td>0.0</td>\n",
       "      <td>1.0</td>\n",
       "      <td>0.842519</td>\n",
       "      <td>Learning</td>\n",
       "      <td>The Learning Network</td>\n",
       "      <td>NaN</td>\n",
       "      <td>Teaching With the ‘My Ten’ Column</td>\n",
       "      <td>In this Times feature, celebrities share 10 cultural items they can’t live without. In this lesson, we invite studen...</td>\n",
       "      <td>[]</td>\n",
       "    </tr>\n",
       "    <tr>\n",
       "      <th>106</th>\n",
       "      <td>0.0</td>\n",
       "      <td>1.0</td>\n",
       "      <td>0.838159</td>\n",
       "      <td>OpEd</td>\n",
       "      <td>Opinion</td>\n",
       "      <td>NaN</td>\n",
       "      <td>How the Republican Party Went Feral</td>\n",
       "      <td>Democracy is now threatened by malevolent tribalism.</td>\n",
       "      <td>[United States Politics and Government, Frauds and Swindling, Republican Party, Trump, Donald J, Loeffler, Kelly L, ...</td>\n",
       "    </tr>\n",
       "    <tr>\n",
       "      <th>399</th>\n",
       "      <td>0.0</td>\n",
       "      <td>1.0</td>\n",
       "      <td>0.813793</td>\n",
       "      <td>RealEstate</td>\n",
       "      <td>Real Estate</td>\n",
       "      <td>NaN</td>\n",
       "      <td>Shopping for Kettles</td>\n",
       "      <td>It’s not just for boiling water — so choose something with a little style.</td>\n",
       "      <td>[Design, Tableware, Kitchens, Tea, Home Appliances]</td>\n",
       "    </tr>\n",
       "    <tr>\n",
       "      <th>486</th>\n",
       "      <td>0.0</td>\n",
       "      <td>1.0</td>\n",
       "      <td>0.810590</td>\n",
       "      <td>Dining</td>\n",
       "      <td>Food</td>\n",
       "      <td>NaN</td>\n",
       "      <td>At New York Restaurants, It’s the Season of the Yurt</td>\n",
       "      <td>Single-table huts, cabins and bubbles have sprung up across the city. A safer or more pleasant way to eat outdoors? ...</td>\n",
       "      <td>[Restaurants, Tents, Quarantine (Life and Culture), New York City]</td>\n",
       "    </tr>\n",
       "    <tr>\n",
       "      <th>117</th>\n",
       "      <td>0.0</td>\n",
       "      <td>1.0</td>\n",
       "      <td>0.808919</td>\n",
       "      <td>RealEstate</td>\n",
       "      <td>Real Estate</td>\n",
       "      <td>NaN</td>\n",
       "      <td>New York Real Estate Begins Its Recovery</td>\n",
       "      <td>Real estate sales picked up in the final months of 2020, but not enough to make up for the shutdown in the early mon...</td>\n",
       "      <td>[Real Estate and Housing (Residential), Quarantine (Life and Culture), Manhattan (NYC)]</td>\n",
       "    </tr>\n",
       "  </tbody>\n",
       "</table>\n",
       "</div>"
      ],
      "text/plain": [
       "     actual  predicted     proba   news_desk          section_name  \\\n",
       "397     0.0        1.0  0.934727        Well                  Well   \n",
       "476     0.0        1.0  0.882287  RealEstate           Real Estate   \n",
       "18      0.0        1.0  0.876293  RealEstate           Real Estate   \n",
       "401     0.0        1.0  0.872928      Travel                Travel   \n",
       "109     0.0        1.0  0.859896        OpEd               Opinion   \n",
       "469     0.0        1.0  0.842519    Learning  The Learning Network   \n",
       "106     0.0        1.0  0.838159        OpEd               Opinion   \n",
       "399     0.0        1.0  0.813793  RealEstate           Real Estate   \n",
       "486     0.0        1.0  0.810590      Dining                  Food   \n",
       "117     0.0        1.0  0.808919  RealEstate           Real Estate   \n",
       "\n",
       "    subsection_name  \\\n",
       "397            Live   \n",
       "476             NaN   \n",
       "18              NaN   \n",
       "401             NaN   \n",
       "109             NaN   \n",
       "469             NaN   \n",
       "106             NaN   \n",
       "399             NaN   \n",
       "486             NaN   \n",
       "117             NaN   \n",
       "\n",
       "                                                          headline  \\\n",
       "397                                Why Are We So Afraid of Fevers?   \n",
       "476                            The ‘Posh Portals’ of New York City   \n",
       "18   Top Sales Show How Pandemic Continues to Influence the Market   \n",
       "401                               A Long, Lonesome Look at America   \n",
       "109                         To Defend Democracy, Investigate Trump   \n",
       "469                              Teaching With the ‘My Ten’ Column   \n",
       "106                            How the Republican Party Went Feral   \n",
       "399                                           Shopping for Kettles   \n",
       "486           At New York Restaurants, It’s the Season of the Yurt   \n",
       "117                       New York Real Estate Begins Its Recovery   \n",
       "\n",
       "                                                                                                                    abstract  \\\n",
       "397               Under most circumstances, fever is beneficial, reducing the severity of illness and shortening its length.   \n",
       "476           A new book looks at how grand entrances have helped define some of the city’s most exclusive apartment houses.   \n",
       "18   Single-family houses and penthouses remained in demand in December as buyers sought out homes with more personal space.   \n",
       "401  Alone on a 10,000-mile road trip across the United States, a Times journalist found an America cloaked in solitude —...   \n",
       "109                                                             There needs to be a cost to trying to overthrow an election.   \n",
       "469  In this Times feature, celebrities share 10 cultural items they can’t live without. In this lesson, we invite studen...   \n",
       "106                                                                     Democracy is now threatened by malevolent tribalism.   \n",
       "399                                               It’s not just for boiling water — so choose something with a little style.   \n",
       "486  Single-table huts, cabins and bubbles have sprung up across the city. A safer or more pleasant way to eat outdoors? ...   \n",
       "117  Real estate sales picked up in the final months of 2020, but not enough to make up for the shutdown in the early mon...   \n",
       "\n",
       "                                                                                                                    keywords  \n",
       "397               [Fever, Temperature, Seizures (Medical), Immune System, Infections, College of Physicians of Philadelphia]  \n",
       "476  [Real Estate and Housing (Residential), Historic Buildings and Sites, Stern, Robert AM, Architects LLP, Dakota (Manh...  \n",
       "18   [Real Estate and Housing (Residential), High Net Worth Individuals, Coronavirus (2019-nCoV), One57 (Manhattan, NY, A...  \n",
       "401                                         [Road Trips, Forests and Forestry, Quarantine (Life and Culture), United States]  \n",
       "109  [Trump, Donald J, Presidential Election of 2020, Voting and Voters, Georgia, Voter Fraud (Election Fraud), Corruptio...  \n",
       "469                                                                                                                       []  \n",
       "106  [United States Politics and Government, Frauds and Swindling, Republican Party, Trump, Donald J, Loeffler, Kelly L, ...  \n",
       "399                                                                      [Design, Tableware, Kitchens, Tea, Home Appliances]  \n",
       "486                                                       [Restaurants, Tents, Quarantine (Life and Culture), New York City]  \n",
       "117                                  [Real Estate and Housing (Residential), Quarantine (Life and Culture), Manhattan (NYC)]  "
      ]
     },
     "execution_count": 10,
     "metadata": {},
     "output_type": "execute_result"
    }
   ],
   "source": [
    "final_proba = rf_gs_v1.predict_proba(test)\n",
    "final_proba = final_proba[:, 1]\n",
    "final_preds = rf_gs_v1.predict(test)\n",
    "predictions = pd.DataFrame(data=[final_actual, final_preds, final_proba]).T\n",
    "predictions.columns = ['actual', 'predicted', 'proba']\n",
    "predictions\n",
    "wrong_predictions = predictions[predictions['actual'] != predictions['predicted']]\n",
    "init_test = pd.read_pickle('./dataset/test.pkl').reset_index(drop=True)\n",
    "wrong_predictions = pd.merge(wrong_predictions, init_test, left_index=True, right_index=True)\n",
    "wrong_predictions = wrong_predictions[['actual', 'predicted', 'proba', 'news_desk', 'section_name', 'subsection_name',\n",
    "                                       'headline', 'abstract', 'keywords']]\n",
    "# 1 = false positives, 0 = false negatives\n",
    "wrong_predictions['actual'].value_counts()\n",
    "wrong_predictions[wrong_predictions['proba'] > 0.80].head(10).sort_values(by='proba', ascending=False)\n"
   ]
  },
  {
   "cell_type": "code",
   "execution_count": 11,
   "metadata": {},
   "outputs": [
    {
     "data": {
      "text/html": [
       "<div>\n",
       "<style scoped>\n",
       "    .dataframe tbody tr th:only-of-type {\n",
       "        vertical-align: middle;\n",
       "    }\n",
       "\n",
       "    .dataframe tbody tr th {\n",
       "        vertical-align: top;\n",
       "    }\n",
       "\n",
       "    .dataframe thead th {\n",
       "        text-align: right;\n",
       "    }\n",
       "</style>\n",
       "<table border=\"1\" class=\"dataframe\">\n",
       "  <thead>\n",
       "    <tr style=\"text-align: right;\">\n",
       "      <th></th>\n",
       "      <th>actual</th>\n",
       "      <th>predicted</th>\n",
       "      <th>proba</th>\n",
       "      <th>news_desk</th>\n",
       "      <th>section_name</th>\n",
       "      <th>subsection_name</th>\n",
       "      <th>headline</th>\n",
       "      <th>abstract</th>\n",
       "      <th>keywords</th>\n",
       "    </tr>\n",
       "  </thead>\n",
       "  <tbody>\n",
       "    <tr>\n",
       "      <th>111</th>\n",
       "      <td>1.0</td>\n",
       "      <td>0.0</td>\n",
       "      <td>0.005000</td>\n",
       "      <td>Summary</td>\n",
       "      <td>Today’s Paper</td>\n",
       "      <td>NaN</td>\n",
       "      <td>Quotation of the Day: Campaigns Chase Next Power Base: Georgia’s Young</td>\n",
       "      <td>Quotation of the Day for Tuesday, January 5, 2021.</td>\n",
       "      <td>[]</td>\n",
       "    </tr>\n",
       "    <tr>\n",
       "      <th>129</th>\n",
       "      <td>1.0</td>\n",
       "      <td>0.0</td>\n",
       "      <td>0.010804</td>\n",
       "      <td>NYTNow</td>\n",
       "      <td>Briefing</td>\n",
       "      <td>NaN</td>\n",
       "      <td>Georgia Votes</td>\n",
       "      <td>And what else you need to know today.</td>\n",
       "      <td>[]</td>\n",
       "    </tr>\n",
       "    <tr>\n",
       "      <th>61</th>\n",
       "      <td>1.0</td>\n",
       "      <td>0.0</td>\n",
       "      <td>0.193583</td>\n",
       "      <td>Business</td>\n",
       "      <td>Business Day</td>\n",
       "      <td>Media</td>\n",
       "      <td>They Seem to Think the Next Four Years Will Be Normal</td>\n",
       "      <td>A Beltway school of journalism wants to get back to just-the-facts-ma’am reporting. But how do you cover this Republ...</td>\n",
       "      <td>[News and News Media, United States Politics and Government, Presidential Election of 2020, Newsletters, Start-ups, ...</td>\n",
       "    </tr>\n",
       "    <tr>\n",
       "      <th>99</th>\n",
       "      <td>1.0</td>\n",
       "      <td>0.0</td>\n",
       "      <td>0.216211</td>\n",
       "      <td>Culture</td>\n",
       "      <td>Movies</td>\n",
       "      <td>NaN</td>\n",
       "      <td>Listen to Rudolph: A New Year Is Both a Comfort and a Fiction</td>\n",
       "      <td>A 1976 TV movie that imagined years as people is a helpful reminder that a new page on the calendar is an arbitrary ...</td>\n",
       "      <td>[New Year, Movies, Rudolph's Shiny New Year (Movie), Rankin-Bass Productions, Television, Two Thousand Twenty]</td>\n",
       "    </tr>\n",
       "    <tr>\n",
       "      <th>38</th>\n",
       "      <td>1.0</td>\n",
       "      <td>0.0</td>\n",
       "      <td>0.232003</td>\n",
       "      <td>OpEd</td>\n",
       "      <td>Opinion</td>\n",
       "      <td>NaN</td>\n",
       "      <td>Do Children Really Need to Learn to Code?</td>\n",
       "      <td>In India, parents are being aggressively sold the idea that their children must start coding at 4 or 5 or be future ...</td>\n",
       "      <td>[Quarantine (Life and Culture), E-Learning, Children and Childhood, Education (K-12), Parenting, India, Computers an...</td>\n",
       "    </tr>\n",
       "    <tr>\n",
       "      <th>112</th>\n",
       "      <td>1.0</td>\n",
       "      <td>0.0</td>\n",
       "      <td>0.282269</td>\n",
       "      <td>Dining</td>\n",
       "      <td>Food</td>\n",
       "      <td>NaN</td>\n",
       "      <td>Spanish Seafood, Grilled and Tinned</td>\n",
       "      <td>The chef Abel Álvarez’s Conservas Braseadas Güeyumar seafood line features grilled cockles, razor clams and tuna nec...</td>\n",
       "      <td>[Seafood, Cooking and Cookbooks]</td>\n",
       "    </tr>\n",
       "    <tr>\n",
       "      <th>121</th>\n",
       "      <td>1.0</td>\n",
       "      <td>0.0</td>\n",
       "      <td>0.309820</td>\n",
       "      <td>BookReview</td>\n",
       "      <td>Books</td>\n",
       "      <td>Book Review</td>\n",
       "      <td>Hate Working Out? Blame Evolution</td>\n",
       "      <td>Daniel Lieberman’s “Exercised” looks at evolutionary biology to explain what might be the most appropriate workout r...</td>\n",
       "      <td>[Books and Literature, Exercise, Lieberman, Daniel E, Exercised: Why Something We Never Evolved to Do Is Healthy and...</td>\n",
       "    </tr>\n",
       "    <tr>\n",
       "      <th>80</th>\n",
       "      <td>1.0</td>\n",
       "      <td>0.0</td>\n",
       "      <td>0.321227</td>\n",
       "      <td>The Upshot</td>\n",
       "      <td>The Upshot</td>\n",
       "      <td>NaN</td>\n",
       "      <td>Election Day Voting in 2020 Took Longer in America’s Poorest Neighborhoods</td>\n",
       "      <td>An analysis of voting times based on anonymous smartphone location data.</td>\n",
       "      <td>[Voting and Voters, United States Politics and Government, Presidential Election of 2020, Research, Minorities]</td>\n",
       "    </tr>\n",
       "    <tr>\n",
       "      <th>123</th>\n",
       "      <td>1.0</td>\n",
       "      <td>0.0</td>\n",
       "      <td>0.364809</td>\n",
       "      <td>Styles</td>\n",
       "      <td>Style</td>\n",
       "      <td>NaN</td>\n",
       "      <td>Paring Back Your Beauty Routine? Try Water, With a Boost</td>\n",
       "      <td>Hydration is trending. It’s the latest lucrative frontier of the wellness boom.</td>\n",
       "      <td>[Skin, Water, Lemons, Content Type: Service]</td>\n",
       "    </tr>\n",
       "    <tr>\n",
       "      <th>62</th>\n",
       "      <td>1.0</td>\n",
       "      <td>0.0</td>\n",
       "      <td>0.380507</td>\n",
       "      <td>OpEd</td>\n",
       "      <td>Opinion</td>\n",
       "      <td>NaN</td>\n",
       "      <td>The Holocaust Stole My Youth. Covid-19 Is Stealing My Last Years.</td>\n",
       "      <td>A Holocaust survivor reflects on what it means to survive the pandemic.</td>\n",
       "      <td>[Holocaust and the Nazi Era, Coronavirus (2019-nCoV), Content Type: Personal Profile, Jews and Judaism, Elderly, Gra...</td>\n",
       "    </tr>\n",
       "  </tbody>\n",
       "</table>\n",
       "</div>"
      ],
      "text/plain": [
       "     actual  predicted     proba   news_desk   section_name subsection_name  \\\n",
       "111     1.0        0.0  0.005000     Summary  Today’s Paper             NaN   \n",
       "129     1.0        0.0  0.010804      NYTNow       Briefing             NaN   \n",
       "61      1.0        0.0  0.193583    Business   Business Day           Media   \n",
       "99      1.0        0.0  0.216211     Culture         Movies             NaN   \n",
       "38      1.0        0.0  0.232003        OpEd        Opinion             NaN   \n",
       "112     1.0        0.0  0.282269      Dining           Food             NaN   \n",
       "121     1.0        0.0  0.309820  BookReview          Books     Book Review   \n",
       "80      1.0        0.0  0.321227  The Upshot     The Upshot             NaN   \n",
       "123     1.0        0.0  0.364809      Styles          Style             NaN   \n",
       "62      1.0        0.0  0.380507        OpEd        Opinion             NaN   \n",
       "\n",
       "                                                                       headline  \\\n",
       "111      Quotation of the Day: Campaigns Chase Next Power Base: Georgia’s Young   \n",
       "129                                                               Georgia Votes   \n",
       "61                        They Seem to Think the Next Four Years Will Be Normal   \n",
       "99                Listen to Rudolph: A New Year Is Both a Comfort and a Fiction   \n",
       "38                                    Do Children Really Need to Learn to Code?   \n",
       "112                                         Spanish Seafood, Grilled and Tinned   \n",
       "121                                           Hate Working Out? Blame Evolution   \n",
       "80   Election Day Voting in 2020 Took Longer in America’s Poorest Neighborhoods   \n",
       "123                    Paring Back Your Beauty Routine? Try Water, With a Boost   \n",
       "62            The Holocaust Stole My Youth. Covid-19 Is Stealing My Last Years.   \n",
       "\n",
       "                                                                                                                    abstract  \\\n",
       "111                                                                       Quotation of the Day for Tuesday, January 5, 2021.   \n",
       "129                                                                                    And what else you need to know today.   \n",
       "61   A Beltway school of journalism wants to get back to just-the-facts-ma’am reporting. But how do you cover this Republ...   \n",
       "99   A 1976 TV movie that imagined years as people is a helpful reminder that a new page on the calendar is an arbitrary ...   \n",
       "38   In India, parents are being aggressively sold the idea that their children must start coding at 4 or 5 or be future ...   \n",
       "112  The chef Abel Álvarez’s Conservas Braseadas Güeyumar seafood line features grilled cockles, razor clams and tuna nec...   \n",
       "121  Daniel Lieberman’s “Exercised” looks at evolutionary biology to explain what might be the most appropriate workout r...   \n",
       "80                                                  An analysis of voting times based on anonymous smartphone location data.   \n",
       "123                                          Hydration is trending. It’s the latest lucrative frontier of the wellness boom.   \n",
       "62                                                   A Holocaust survivor reflects on what it means to survive the pandemic.   \n",
       "\n",
       "                                                                                                                    keywords  \n",
       "111                                                                                                                       []  \n",
       "129                                                                                                                       []  \n",
       "61   [News and News Media, United States Politics and Government, Presidential Election of 2020, Newsletters, Start-ups, ...  \n",
       "99            [New Year, Movies, Rudolph's Shiny New Year (Movie), Rankin-Bass Productions, Television, Two Thousand Twenty]  \n",
       "38   [Quarantine (Life and Culture), E-Learning, Children and Childhood, Education (K-12), Parenting, India, Computers an...  \n",
       "112                                                                                         [Seafood, Cooking and Cookbooks]  \n",
       "121  [Books and Literature, Exercise, Lieberman, Daniel E, Exercised: Why Something We Never Evolved to Do Is Healthy and...  \n",
       "80           [Voting and Voters, United States Politics and Government, Presidential Election of 2020, Research, Minorities]  \n",
       "123                                                                             [Skin, Water, Lemons, Content Type: Service]  \n",
       "62   [Holocaust and the Nazi Era, Coronavirus (2019-nCoV), Content Type: Personal Profile, Jews and Judaism, Elderly, Gra...  "
      ]
     },
     "execution_count": 11,
     "metadata": {},
     "output_type": "execute_result"
    }
   ],
   "source": [
    "wrong_predictions[wrong_predictions['proba'] < 0.4].head(10).sort_values(by='proba')"
   ]
  },
  {
   "attachments": {},
   "cell_type": "markdown",
   "metadata": {},
   "source": [
    "- true predict analysis<br/>"
   ]
  },
  {
   "cell_type": "code",
   "execution_count": 12,
   "metadata": {},
   "outputs": [
    {
     "data": {
      "text/html": [
       "<div>\n",
       "<style scoped>\n",
       "    .dataframe tbody tr th:only-of-type {\n",
       "        vertical-align: middle;\n",
       "    }\n",
       "\n",
       "    .dataframe tbody tr th {\n",
       "        vertical-align: top;\n",
       "    }\n",
       "\n",
       "    .dataframe thead th {\n",
       "        text-align: right;\n",
       "    }\n",
       "</style>\n",
       "<table border=\"1\" class=\"dataframe\">\n",
       "  <thead>\n",
       "    <tr style=\"text-align: right;\">\n",
       "      <th></th>\n",
       "      <th>actual</th>\n",
       "      <th>predicted</th>\n",
       "      <th>proba</th>\n",
       "      <th>news_desk</th>\n",
       "      <th>section_name</th>\n",
       "      <th>subsection_name</th>\n",
       "      <th>headline</th>\n",
       "      <th>abstract</th>\n",
       "      <th>keywords</th>\n",
       "    </tr>\n",
       "  </thead>\n",
       "  <tbody>\n",
       "    <tr>\n",
       "      <th>22974</th>\n",
       "      <td>0.0</td>\n",
       "      <td>1.0</td>\n",
       "      <td>0.999899</td>\n",
       "      <td>Games</td>\n",
       "      <td>Crosswords &amp; Games</td>\n",
       "      <td>NaN</td>\n",
       "      <td>Write on Stone</td>\n",
       "      <td>Go on a journey with Michael Schlossberg’s Monday puzzle.</td>\n",
       "      <td>[Crossword Puzzles, Schlossberg, Michael (Crossword Constructor)]</td>\n",
       "    </tr>\n",
       "    <tr>\n",
       "      <th>28761</th>\n",
       "      <td>1.0</td>\n",
       "      <td>1.0</td>\n",
       "      <td>0.999846</td>\n",
       "      <td>Games</td>\n",
       "      <td>Crosswords &amp; Games</td>\n",
       "      <td>NaN</td>\n",
       "      <td>Snap, Crackle and Pop</td>\n",
       "      <td>Joe Rodini’s debut puzzle takes solvers on a tour.</td>\n",
       "      <td>[Crossword Puzzles]</td>\n",
       "    </tr>\n",
       "    <tr>\n",
       "      <th>4122</th>\n",
       "      <td>0.0</td>\n",
       "      <td>1.0</td>\n",
       "      <td>0.999696</td>\n",
       "      <td>Games</td>\n",
       "      <td>Crosswords &amp; Games</td>\n",
       "      <td>NaN</td>\n",
       "      <td>Climber in Academia</td>\n",
       "      <td>Alex Rosen and Brad Wilber bring out the entertainers, one by one.</td>\n",
       "      <td>[Crossword Puzzles]</td>\n",
       "    </tr>\n",
       "    <tr>\n",
       "      <th>26995</th>\n",
       "      <td>0.0</td>\n",
       "      <td>1.0</td>\n",
       "      <td>0.999270</td>\n",
       "      <td>Games</td>\n",
       "      <td>Crosswords &amp; Games</td>\n",
       "      <td>NaN</td>\n",
       "      <td>Parenthetical Comment</td>\n",
       "      <td>Michael Lieberman’s puzzle goes above and beyond-a.</td>\n",
       "      <td>[Crossword Puzzles, Lieberman, Michael (Crossword Constructor)]</td>\n",
       "    </tr>\n",
       "    <tr>\n",
       "      <th>23521</th>\n",
       "      <td>0.0</td>\n",
       "      <td>1.0</td>\n",
       "      <td>0.998875</td>\n",
       "      <td>Games</td>\n",
       "      <td>Crosswords &amp; Games</td>\n",
       "      <td>NaN</td>\n",
       "      <td>Diary of a Spelling Bee Fanatic</td>\n",
       "      <td>Entries for the week of June 13, 2022.</td>\n",
       "      <td>[Spelling Bee (Game)]</td>\n",
       "    </tr>\n",
       "  </tbody>\n",
       "</table>\n",
       "</div>"
      ],
      "text/plain": [
       "       actual  predicted     proba news_desk        section_name  \\\n",
       "22974     0.0        1.0  0.999899     Games  Crosswords & Games   \n",
       "28761     1.0        1.0  0.999846     Games  Crosswords & Games   \n",
       "4122      0.0        1.0  0.999696     Games  Crosswords & Games   \n",
       "26995     0.0        1.0  0.999270     Games  Crosswords & Games   \n",
       "23521     0.0        1.0  0.998875     Games  Crosswords & Games   \n",
       "\n",
       "      subsection_name                         headline  \\\n",
       "22974             NaN                   Write on Stone   \n",
       "28761             NaN            Snap, Crackle and Pop   \n",
       "4122              NaN              Climber in Academia   \n",
       "26995             NaN            Parenthetical Comment   \n",
       "23521             NaN  Diary of a Spelling Bee Fanatic   \n",
       "\n",
       "                                                                 abstract  \\\n",
       "22974           Go on a journey with Michael Schlossberg’s Monday puzzle.   \n",
       "28761                  Joe Rodini’s debut puzzle takes solvers on a tour.   \n",
       "4122   Alex Rosen and Brad Wilber bring out the entertainers, one by one.   \n",
       "26995                 Michael Lieberman’s puzzle goes above and beyond-a.   \n",
       "23521                              Entries for the week of June 13, 2022.   \n",
       "\n",
       "                                                                keywords  \n",
       "22974  [Crossword Puzzles, Schlossberg, Michael (Crossword Constructor)]  \n",
       "28761                                                [Crossword Puzzles]  \n",
       "4122                                                 [Crossword Puzzles]  \n",
       "26995    [Crossword Puzzles, Lieberman, Michael (Crossword Constructor)]  \n",
       "23521                                              [Spelling Bee (Game)]  "
      ]
     },
     "execution_count": 12,
     "metadata": {},
     "output_type": "execute_result"
    }
   ],
   "source": [
    "predictions = pd.merge(predictions, init_test, left_index=True, right_index=True)\n",
    "predictions = predictions[['actual', 'predicted', 'proba', 'news_desk', 'section_name', 'subsection_name',\n",
    "                                       'headline', 'abstract', 'keywords']]\n",
    "predictions.sort_values(by='proba', ascending=False).head(5)"
   ]
  },
  {
   "cell_type": "code",
   "execution_count": 13,
   "metadata": {},
   "outputs": [
    {
     "data": {
      "text/html": [
       "<div>\n",
       "<style scoped>\n",
       "    .dataframe tbody tr th:only-of-type {\n",
       "        vertical-align: middle;\n",
       "    }\n",
       "\n",
       "    .dataframe tbody tr th {\n",
       "        vertical-align: top;\n",
       "    }\n",
       "\n",
       "    .dataframe thead th {\n",
       "        text-align: right;\n",
       "    }\n",
       "</style>\n",
       "<table border=\"1\" class=\"dataframe\">\n",
       "  <thead>\n",
       "    <tr style=\"text-align: right;\">\n",
       "      <th></th>\n",
       "      <th>actual</th>\n",
       "      <th>predicted</th>\n",
       "      <th>proba</th>\n",
       "      <th>news_desk</th>\n",
       "      <th>section_name</th>\n",
       "      <th>subsection_name</th>\n",
       "      <th>headline</th>\n",
       "      <th>abstract</th>\n",
       "      <th>keywords</th>\n",
       "    </tr>\n",
       "  </thead>\n",
       "  <tbody>\n",
       "    <tr>\n",
       "      <th>18207</th>\n",
       "      <td>0.0</td>\n",
       "      <td>0.0</td>\n",
       "      <td>0.0</td>\n",
       "      <td>Letters</td>\n",
       "      <td>Opinion</td>\n",
       "      <td>Letters</td>\n",
       "      <td>How Should Biden Deal With Russia on Ukraine?</td>\n",
       "      <td>Readers differ on how President Biden is handling the Ukraine crisis. Also: The Canadian truckers’ protest; Liz Chen...</td>\n",
       "      <td>[Biden, Joseph R Jr, Putin, Vladimir V, Russia, Ukraine, United States Politics and Government, United States Defens...</td>\n",
       "    </tr>\n",
       "    <tr>\n",
       "      <th>14253</th>\n",
       "      <td>0.0</td>\n",
       "      <td>0.0</td>\n",
       "      <td>0.0</td>\n",
       "      <td>NYTNow</td>\n",
       "      <td>Briefing</td>\n",
       "      <td>NaN</td>\n",
       "      <td>Inflation, Kyle Rittenhouse, ‘Chicago’: Your Wednesday Evening Briefing</td>\n",
       "      <td>Here’s what you need to know at the end of the day.</td>\n",
       "      <td>[]</td>\n",
       "    </tr>\n",
       "    <tr>\n",
       "      <th>14261</th>\n",
       "      <td>1.0</td>\n",
       "      <td>0.0</td>\n",
       "      <td>0.0</td>\n",
       "      <td>NYTNow</td>\n",
       "      <td>Briefing</td>\n",
       "      <td>NaN</td>\n",
       "      <td>Your Thursday Briefing</td>\n",
       "      <td>Crisis at the E.U. border.</td>\n",
       "      <td>[]</td>\n",
       "    </tr>\n",
       "    <tr>\n",
       "      <th>22975</th>\n",
       "      <td>0.0</td>\n",
       "      <td>0.0</td>\n",
       "      <td>0.0</td>\n",
       "      <td>NYTNow</td>\n",
       "      <td>Briefing</td>\n",
       "      <td>NaN</td>\n",
       "      <td>Your Monday Briefing</td>\n",
       "      <td>Britain’s Jubilee celebrations.</td>\n",
       "      <td>[]</td>\n",
       "    </tr>\n",
       "    <tr>\n",
       "      <th>24808</th>\n",
       "      <td>0.0</td>\n",
       "      <td>0.0</td>\n",
       "      <td>0.0</td>\n",
       "      <td>Corrections</td>\n",
       "      <td>Corrections</td>\n",
       "      <td>NaN</td>\n",
       "      <td>Corrections: July 19, 2022</td>\n",
       "      <td>Corrections that appeared in print on Tuesday, July 19, 2022.</td>\n",
       "      <td>[]</td>\n",
       "    </tr>\n",
       "  </tbody>\n",
       "</table>\n",
       "</div>"
      ],
      "text/plain": [
       "       actual  predicted  proba    news_desk section_name subsection_name  \\\n",
       "18207     0.0        0.0    0.0      Letters      Opinion         Letters   \n",
       "14253     0.0        0.0    0.0       NYTNow     Briefing             NaN   \n",
       "14261     1.0        0.0    0.0       NYTNow     Briefing             NaN   \n",
       "22975     0.0        0.0    0.0       NYTNow     Briefing             NaN   \n",
       "24808     0.0        0.0    0.0  Corrections  Corrections             NaN   \n",
       "\n",
       "                                                                      headline  \\\n",
       "18207                            How Should Biden Deal With Russia on Ukraine?   \n",
       "14253  Inflation, Kyle Rittenhouse, ‘Chicago’: Your Wednesday Evening Briefing   \n",
       "14261                                                   Your Thursday Briefing   \n",
       "22975                                                     Your Monday Briefing   \n",
       "24808                                               Corrections: July 19, 2022   \n",
       "\n",
       "                                                                                                                      abstract  \\\n",
       "18207  Readers differ on how President Biden is handling the Ukraine crisis. Also: The Canadian truckers’ protest; Liz Chen...   \n",
       "14253                                                                      Here’s what you need to know at the end of the day.   \n",
       "14261                                                                                               Crisis at the E.U. border.   \n",
       "22975                                                                                          Britain’s Jubilee celebrations.   \n",
       "24808                                                            Corrections that appeared in print on Tuesday, July 19, 2022.   \n",
       "\n",
       "                                                                                                                      keywords  \n",
       "18207  [Biden, Joseph R Jr, Putin, Vladimir V, Russia, Ukraine, United States Politics and Government, United States Defens...  \n",
       "14253                                                                                                                       []  \n",
       "14261                                                                                                                       []  \n",
       "22975                                                                                                                       []  \n",
       "24808                                                                                                                       []  "
      ]
     },
     "execution_count": 13,
     "metadata": {},
     "output_type": "execute_result"
    }
   ],
   "source": [
    "predictions.sort_values(by='proba', ascending=False).tail(5)"
   ]
  },
  {
   "attachments": {},
   "cell_type": "markdown",
   "metadata": {},
   "source": [
    "- feature importance<br/>"
   ]
  },
  {
   "cell_type": "code",
   "execution_count": 14,
   "metadata": {},
   "outputs": [
    {
     "data": {
      "text/plain": [
       "<AxesSubplot:>"
      ]
     },
     "execution_count": 14,
     "metadata": {},
     "output_type": "execute_result"
    },
    {
     "data": {
      "image/png": "[encoded data removed]",
      "text/plain": [
       "<Figure size 1000x1200 with 1 Axes>"
      ]
     },
     "metadata": {},
     "output_type": "display_data"
    }
   ],
   "source": [
    "plt.figure(figsize=(10,12))\n",
    "rf_feature_imp = pd.Series(rf_gs_v1[1][1].feature_importances_, index=X.columns).sort_values(ascending=False)\n",
    "rf_feature_imp.sort_values().plot(kind = 'barh')"
   ]
  },
  {
   "attachments": {},
   "cell_type": "markdown",
   "metadata": {},
   "source": [
    "- UNModified Version2<br/>\n",
    "The dataset has 30% is_popular data, as same as the modified dataset."
   ]
  },
  {
   "cell_type": "code",
   "execution_count": 15,
   "metadata": {},
   "outputs": [
    {
     "name": "stdout",
     "output_type": "stream",
     "text": [
      "### METRICS ###\n"
     ]
    },
    {
     "data": {
      "text/plain": [
       "{'model': 'rf',\n",
       " 'train_auc': 1.0,\n",
       " 'test_auc': 0.86937673076168,\n",
       " 'precision': 0.7567805953693495,\n",
       " 'specificity': 0.9150296587319929,\n",
       " 'recall': 0.5731462925851704,\n",
       " 'f_score': 0.6522854699230257}"
      ]
     },
     "metadata": {},
     "output_type": "display_data"
    },
    {
     "name": "stdout",
     "output_type": "stream",
     "text": [
      "True Negatives: 11878\n",
      "False Positives: 1103\n",
      "False Negatives: 2556\n",
      "True Positives: 3432\n",
      "Fitting 3 folds for each of 1 candidates, totalling 3 fits\n",
      "### BEST PARAMS ###\n"
     ]
    },
    {
     "data": {
      "text/plain": [
       "RandomForestClassifier(max_depth=25, min_samples_leaf=2, n_estimators=300,\n",
       "                       random_state=42)"
      ]
     },
     "metadata": {},
     "output_type": "display_data"
    },
    {
     "name": "stdout",
     "output_type": "stream",
     "text": [
      "### METRICS ###\n"
     ]
    },
    {
     "data": {
      "text/plain": [
       "{'model': 'rf',\n",
       " 'train_auc': 0.9992118437351512,\n",
       " 'test_auc': 0.8714927801318169,\n",
       " 'precision': 0.7645997745208568,\n",
       " 'specificity': 0.9195747631153224,\n",
       " 'recall': 0.5662992651970608,\n",
       " 'f_score': 0.6506763887556366}"
      ]
     },
     "metadata": {},
     "output_type": "display_data"
    },
    {
     "name": "stdout",
     "output_type": "stream",
     "text": [
      "True Negatives: 11937\n",
      "False Positives: 1044\n",
      "False Negatives: 2597\n",
      "True Positives: 3391\n",
      "Accuracy: 0.796\n",
      "Precision: 0.754\n",
      "Recall: 0.530\n",
      "ROC-AUC: 0.864\n",
      " \n",
      "Accuracy: 0.797\n",
      "Precision: 0.757\n",
      "Recall: 0.532\n",
      "ROC-AUC: 0.866\n"
     ]
    }
   ],
   "source": [
    "train = pd.read_pickle('./feature/feat_v2.pkl')\n",
    "X = train.drop(columns=['is_popular'])\n",
    "y = train['is_popular']\n",
    "X_train, X_test, y_train, y_test = train_test_split(X, y, test_size=0.3, random_state=42)\n",
    "X_graph.append(X_test)\n",
    "y_graph.append(y_test)\n",
    "feature_names = X_train.columns\n",
    "\n",
    "rf_v2 = run_model('rf')\n",
    "rf_v2_param = { \n",
    "              'rf__n_estimators': [300],\n",
    "             'rf__max_depth': [25],\n",
    "             'rf__min_samples_leaf': [2],\n",
    "            }\n",
    "rf_gs_v2 = run_model('rf', mod_params=rf_v2_param, grid_search=True)\n",
    "test = pd.read_pickle('./feature/feat_test_v2.pkl')\n",
    "test = test._get_numeric_data()\n",
    "\n",
    "final_actual = test['is_popular']\n",
    "test = test.drop(columns=['is_popular'])\n",
    "\n",
    "evaluate_model(rf_gs_v2)\n",
    "rf_gs_v2.fit(X, y)\n",
    "print(' ')\n",
    "evaluate_model(rf_gs_v2)"
   ]
  },
  {
   "attachments": {},
   "cell_type": "markdown",
   "metadata": {},
   "source": [
    "- Modified Version1<br/>\n",
    "Choose the first 40 feature with the higher correlation with is_popular"
   ]
  },
  {
   "cell_type": "code",
   "execution_count": 16,
   "metadata": {},
   "outputs": [
    {
     "name": "stdout",
     "output_type": "stream",
     "text": [
      "### METRICS ###\n"
     ]
    },
    {
     "data": {
      "text/plain": [
       "{'model': 'rf',\n",
       " 'train_auc': 0.9999143583927594,\n",
       " 'test_auc': 0.8459441627387693,\n",
       " 'precision': 0.7375669472073451,\n",
       " 'specificity': 0.91921808761187,\n",
       " 'recall': 0.5391498881431768,\n",
       " 'f_score': 0.6229402261712439}"
      ]
     },
     "metadata": {},
     "output_type": "display_data"
    },
    {
     "name": "stdout",
     "output_type": "stream",
     "text": [
      "True Negatives: 3903\n",
      "False Positives: 343\n",
      "False Negatives: 824\n",
      "True Positives: 964\n",
      "Fitting 3 folds for each of 1 candidates, totalling 3 fits\n",
      "### BEST PARAMS ###\n"
     ]
    },
    {
     "data": {
      "text/plain": [
       "RandomForestClassifier(max_depth=15, min_samples_leaf=7, n_estimators=300,\n",
       "                       random_state=42)"
      ]
     },
     "metadata": {},
     "output_type": "display_data"
    },
    {
     "name": "stdout",
     "output_type": "stream",
     "text": [
      "### METRICS ###\n"
     ]
    },
    {
     "data": {
      "text/plain": [
       "{'model': 'rf',\n",
       " 'train_auc': 0.9427084962223582,\n",
       " 'test_auc': 0.8512702704269105,\n",
       " 'precision': 0.7505863956215794,\n",
       " 'specificity': 0.9248704663212435,\n",
       " 'recall': 0.5369127516778524,\n",
       " 'f_score': 0.6260189109879362}"
      ]
     },
     "metadata": {},
     "output_type": "display_data"
    },
    {
     "name": "stdout",
     "output_type": "stream",
     "text": [
      "True Negatives: 3927\n",
      "False Positives: 319\n",
      "False Negatives: 828\n",
      "True Positives: 960\n",
      "Accuracy: 0.675\n",
      "Precision: 0.889\n",
      "Recall: 0.400\n",
      "ROC-AUC: 0.827\n",
      " \n",
      "Accuracy: 0.676\n",
      "Precision: 0.897\n",
      "Recall: 0.396\n",
      "ROC-AUC: 0.827\n"
     ]
    }
   ],
   "source": [
    "train = pd.read_pickle('./feature/feat_modified_v1.pkl')\n",
    "X = train.drop(columns=['is_popular','n_comment','group_by_subsection_name','feature_subsection_name'])\n",
    "y = train['is_popular']\n",
    "X_train, X_test, y_train, y_test = train_test_split(X, y, test_size=0.3, random_state=42)\n",
    "X_graph.append(X_test)\n",
    "y_graph.append(y_test)\n",
    "feature_names = X_train.columns\n",
    "\n",
    "rf_mod_v1 = run_model('rf')\n",
    "rf_mod_v1_param = { \n",
    "              'rf__n_estimators': [300],\n",
    "             'rf__max_depth': [15],\n",
    "             'rf__min_samples_leaf': [7],\n",
    "            }\n",
    "rf_gs_mod_v1 = run_model('rf', mod_params=rf_mod_v1_param, grid_search=True)\n",
    "test = pd.read_pickle('./feature/feat_test_modified_v1.pkl')\n",
    "test = test._get_numeric_data()\n",
    "\n",
    "final_actual = test['is_popular']\n",
    "test = test.drop(columns=['is_popular'])\n",
    "test = test.drop(columns=['feature_subsection_name'])\n",
    "test = test.drop(columns=['n_comment'])\n",
    "test = test.drop(columns=['group_by_subsection_name'])\n",
    "\n",
    "evaluate_model(rf_gs_mod_v1)\n",
    "rf_gs_mod_v1.fit(X, y)\n",
    "print(' ')\n",
    "evaluate_model(rf_gs_mod_v1)"
   ]
  },
  {
   "attachments": {},
   "cell_type": "markdown",
   "metadata": {},
   "source": [
    "- Modified Version1.03<br/>"
   ]
  },
  {
   "cell_type": "code",
   "execution_count": 17,
   "metadata": {},
   "outputs": [
    {
     "name": "stdout",
     "output_type": "stream",
     "text": [
      "### METRICS ###\n"
     ]
    },
    {
     "data": {
      "text/plain": [
       "{'model': 'rf',\n",
       " 'train_auc': 0.9998967887426946,\n",
       " 'test_auc': 0.8473006835753296,\n",
       " 'precision': 0.7346938775510204,\n",
       " 'specificity': 0.9173339613754121,\n",
       " 'recall': 0.5436241610738255,\n",
       " 'f_score': 0.6248794599807136}"
      ]
     },
     "metadata": {},
     "output_type": "display_data"
    },
    {
     "name": "stdout",
     "output_type": "stream",
     "text": [
      "True Negatives: 3895\n",
      "False Positives: 351\n",
      "False Negatives: 816\n",
      "True Positives: 972\n",
      "Fitting 3 folds for each of 1 candidates, totalling 3 fits\n",
      "### BEST PARAMS ###\n"
     ]
    },
    {
     "data": {
      "text/plain": [
       "RandomForestClassifier(max_depth=20, min_samples_leaf=6, n_estimators=300,\n",
       "                       random_state=42)"
      ]
     },
     "metadata": {},
     "output_type": "display_data"
    },
    {
     "name": "stdout",
     "output_type": "stream",
     "text": [
      "### METRICS ###\n"
     ]
    },
    {
     "data": {
      "text/plain": [
       "{'model': 'rf',\n",
       " 'train_auc': 0.9648102452744619,\n",
       " 'test_auc': 0.8537037359019832,\n",
       " 'precision': 0.7452326468344775,\n",
       " 'specificity': 0.9213377296278851,\n",
       " 'recall': 0.546420581655481,\n",
       " 'f_score': 0.6305259761213294}"
      ]
     },
     "metadata": {},
     "output_type": "display_data"
    },
    {
     "name": "stdout",
     "output_type": "stream",
     "text": [
      "True Negatives: 3912\n",
      "False Positives: 334\n",
      "False Negatives: 811\n",
      "True Positives: 977\n",
      "Accuracy: 0.678\n",
      "Precision: 0.886\n",
      "Recall: 0.408\n",
      "ROC-AUC: 0.827\n",
      " \n",
      "Accuracy: 0.676\n",
      "Precision: 0.892\n",
      "Recall: 0.398\n",
      "ROC-AUC: 0.827\n"
     ]
    }
   ],
   "source": [
    "train = pd.read_pickle('./feature/feat_modified_v1_0.3.pkl')\n",
    "X = train.drop(columns=['is_popular','n_comment','group_by_subsection_name','feature_subsection_name'])\n",
    "y = train['is_popular']\n",
    "X_train, X_test, y_train, y_test = train_test_split(X, y, test_size=0.3, random_state=42)\n",
    "X_graph.append(X_test)\n",
    "y_graph.append(y_test)\n",
    "feature_names = X_train.columns\n",
    "\n",
    "rf_mod_v1_03 = run_model('rf')\n",
    "rf_mod_v1_03_param = { \n",
    "              'rf__n_estimators': [300],\n",
    "             'rf__max_depth': [20],\n",
    "             'rf__min_samples_leaf': [6],\n",
    "            }\n",
    "rf_gs_mod_v1_03 = run_model('rf', mod_params=rf_mod_v1_03_param, grid_search=True)\n",
    "test = pd.read_pickle('./feature/feat_test_modified_v1_0.3.pkl')\n",
    "test = test._get_numeric_data()\n",
    "\n",
    "final_actual = test['is_popular']\n",
    "test = test.drop(columns=['is_popular'])\n",
    "test = test.drop(columns=['feature_subsection_name'])\n",
    "test = test.drop(columns=['n_comment'])\n",
    "test = test.drop(columns=['group_by_subsection_name'])\n",
    "\n",
    "evaluate_model(rf_gs_mod_v1_03)\n",
    "rf_gs_mod_v1_03.fit(X, y)\n",
    "print(' ')\n",
    "evaluate_model(rf_gs_mod_v1_03)"
   ]
  },
  {
   "attachments": {},
   "cell_type": "markdown",
   "metadata": {},
   "source": [
    "- Modified Version2<br/>"
   ]
  },
  {
   "cell_type": "code",
   "execution_count": 18,
   "metadata": {},
   "outputs": [
    {
     "name": "stdout",
     "output_type": "stream",
     "text": [
      "### METRICS ###\n"
     ]
    },
    {
     "data": {
      "text/plain": [
       "{'model': 'rf',\n",
       " 'train_auc': 0.9999998284473005,\n",
       " 'test_auc': 0.8429653496469678,\n",
       " 'precision': 0.7760589318600368,\n",
       " 'specificity': 0.8025974025974026,\n",
       " 'recall': 0.7132701421800948,\n",
       " 'f_score': 0.743340977244664}"
      ]
     },
     "metadata": {},
     "output_type": "display_data"
    },
    {
     "name": "stdout",
     "output_type": "stream",
     "text": [
      "True Negatives: 2472\n",
      "False Positives: 608\n",
      "False Negatives: 847\n",
      "True Positives: 2107\n",
      "Fitting 3 folds for each of 1 candidates, totalling 3 fits\n",
      "### BEST PARAMS ###\n"
     ]
    },
    {
     "data": {
      "text/plain": [
       "RandomForestClassifier(max_depth=15, n_estimators=300, random_state=42)"
      ]
     },
     "metadata": {},
     "output_type": "display_data"
    },
    {
     "name": "stdout",
     "output_type": "stream",
     "text": [
      "### METRICS ###\n"
     ]
    },
    {
     "data": {
      "text/plain": [
       "{'model': 'rf',\n",
       " 'train_auc': 0.982928881698207,\n",
       " 'test_auc': 0.8465188078678262,\n",
       " 'precision': 0.7809094325441563,\n",
       " 'specificity': 0.8107142857142857,\n",
       " 'recall': 0.7034529451591063,\n",
       " 'f_score': 0.7401602849510239}"
      ]
     },
     "metadata": {},
     "output_type": "display_data"
    },
    {
     "name": "stdout",
     "output_type": "stream",
     "text": [
      "True Negatives: 2497\n",
      "False Positives: 583\n",
      "False Negatives: 876\n",
      "True Positives: 2078\n",
      "Accuracy: 0.755\n",
      "Precision: 0.785\n",
      "Recall: 0.701\n",
      "ROC-AUC: 0.846\n",
      " \n",
      "Accuracy: 0.759\n",
      "Precision: 0.783\n",
      "Recall: 0.715\n",
      "ROC-AUC: 0.848\n"
     ]
    }
   ],
   "source": [
    "train = pd.read_pickle('./feature/feat_modified_v2.pkl')\n",
    "X = train.drop(columns=['is_popular'])\n",
    "y = train['is_popular']\n",
    "X_train, X_test, y_train, y_test = train_test_split(X, y, test_size=0.3, random_state=42)\n",
    "X_graph.append(X_test)\n",
    "y_graph.append(y_test)\n",
    "feature_names = X_train.columns\n",
    "\n",
    "rf_mod_v2 = run_model('rf')\n",
    "rf_mod_v2_param = { \n",
    "              'rf__n_estimators': [300],\n",
    "             'rf__max_depth': [15],\n",
    "             'rf__min_samples_leaf': [1],\n",
    "            }\n",
    "rf_gs_mod_v2 = run_model('rf', mod_params=rf_mod_v2_param, grid_search=True)\n",
    "test = pd.read_pickle('./feature/feat_test_modified_v2.pkl')\n",
    "test = test._get_numeric_data()\n",
    "\n",
    "final_actual = test['is_popular']\n",
    "test = test.drop(columns=['is_popular'])\n",
    "\n",
    "evaluate_model(rf_gs_mod_v2)\n",
    "rf_gs_mod_v2.fit(X, y)\n",
    "print(' ')\n",
    "evaluate_model(rf_gs_mod_v2)"
   ]
  },
  {
   "attachments": {},
   "cell_type": "markdown",
   "metadata": {},
   "source": [
    "# XGBoost Model"
   ]
  },
  {
   "attachments": {},
   "cell_type": "markdown",
   "metadata": {},
   "source": [
    "- Unmodified Version1"
   ]
  },
  {
   "cell_type": "code",
   "execution_count": 19,
   "metadata": {},
   "outputs": [
    {
     "name": "stdout",
     "output_type": "stream",
     "text": [
      "### METRICS ###\n"
     ]
    },
    {
     "data": {
      "text/plain": [
       "{'model': 'xgb',\n",
       " 'train_auc': 0.9445394233524427,\n",
       " 'test_auc': 0.8819288813429236,\n",
       " 'precision': 0.7268457636671051,\n",
       " 'specificity': 0.8883513783306458,\n",
       " 'recall': 0.6506895391860074,\n",
       " 'f_score': 0.6866625255124679}"
      ]
     },
     "metadata": {},
     "output_type": "display_data"
    },
    {
     "name": "stdout",
     "output_type": "stream",
     "text": [
      "True Negatives: 11569\n",
      "False Positives: 1454\n",
      "False Negatives: 2077\n",
      "True Positives: 3869\n",
      "Fitting 3 folds for each of 1 candidates, totalling 3 fits\n"
     ]
    },
    {
     "name": "stderr",
     "output_type": "stream",
     "text": [
      "c:\\Users\\88690\\anaconda3\\lib\\site-packages\\xgboost\\sklearn.py:1395: UserWarning: `use_label_encoder` is deprecated in 1.7.0.\n",
      "  warnings.warn(\"`use_label_encoder` is deprecated in 1.7.0.\")\n",
      "c:\\Users\\88690\\anaconda3\\lib\\site-packages\\xgboost\\sklearn.py:1395: UserWarning: `use_label_encoder` is deprecated in 1.7.0.\n",
      "  warnings.warn(\"`use_label_encoder` is deprecated in 1.7.0.\")\n"
     ]
    },
    {
     "name": "stdout",
     "output_type": "stream",
     "text": [
      "### BEST PARAMS ###\n"
     ]
    },
    {
     "data": {
      "text/plain": [
       "XGBClassifier(base_score=None, booster=None, callbacks=None,\n",
       "              colsample_bylevel=None, colsample_bynode=None,\n",
       "              colsample_bytree=None, early_stopping_rounds=None,\n",
       "              enable_categorical=False, eval_metric='auc', feature_types=None,\n",
       "              gamma=2.5, gpu_id=None, grow_policy=None, importance_type=None,\n",
       "              interaction_constraints=None, learning_rate=0.1, max_bin=None,\n",
       "              max_cat_threshold=None, max_cat_to_onehot=None,\n",
       "              max_delta_step=None, max_depth=5, max_leaves=None,\n",
       "              min_child_weight=None, missing=nan, monotone_constraints=None,\n",
       "              n_estimators=300, n_jobs=None, num_parallel_tree=None,\n",
       "              predictor=None, random_state=None, ...)"
      ]
     },
     "metadata": {},
     "output_type": "display_data"
    },
    {
     "name": "stdout",
     "output_type": "stream",
     "text": [
      "### METRICS ###\n"
     ]
    },
    {
     "data": {
      "text/plain": [
       "{'model': 'xgb',\n",
       " 'train_auc': 0.9225078726361484,\n",
       " 'test_auc': 0.8847406677502627,\n",
       " 'precision': 0.7348139711465452,\n",
       " 'specificity': 0.8927282500191968,\n",
       " 'recall': 0.6510258997645476,\n",
       " 'f_score': 0.6903870162297129}"
      ]
     },
     "metadata": {},
     "output_type": "display_data"
    },
    {
     "name": "stdout",
     "output_type": "stream",
     "text": [
      "True Negatives: 11626\n",
      "False Positives: 1397\n",
      "False Negatives: 2075\n",
      "True Positives: 3871\n",
      "Accuracy: 0.808\n",
      "Precision: 0.738\n",
      "Recall: 0.610\n",
      "ROC-AUC: 0.880\n",
      " \n",
      "Accuracy: 0.814\n",
      "Precision: 0.754\n",
      "Recall: 0.612\n",
      "ROC-AUC: 0.882\n"
     ]
    }
   ],
   "source": [
    "train = pd.read_pickle('./feature/feat_v1.pkl')\n",
    "X = train.drop(columns=['is_popular','n_comment','group_by_subsection_name','feature_subsection_name'])\n",
    "y = train['is_popular']\n",
    "X_train, X_test, y_train, y_test = train_test_split(X, y, test_size=0.3, random_state=42)\n",
    "X_graph.append(X_test)\n",
    "y_graph.append(y_test)\n",
    "feature_names = X_train.columns\n",
    "\n",
    "xgb = run_model('xgb')\n",
    "xgb_v1_param = { \n",
    "              'xgb__learning_rate' : [0.1], \n",
    "              'xgb__max_depth' : [5],\n",
    "              'xgb__n_estimators' : [300], \n",
    "              'xgb__reg_alpha' : [1.0], \n",
    "              'xgb__reg_lambda' : [1.0], \n",
    "              'xgb__gamma' : [2.5],\n",
    "            }\n",
    "xgb_gs_v1 = run_model('xgb', mod_params=xgb_v1_param, grid_search=True)\n",
    "test = pd.read_pickle('./feature/feat_test_v1.pkl')\n",
    "test = test._get_numeric_data()\n",
    "\n",
    "final_actual = test['is_popular']\n",
    "test = test.drop(columns=['is_popular'])\n",
    "test = test.drop(columns=['feature_subsection_name'])\n",
    "test = test.drop(columns=['n_comment'])\n",
    "test = test.drop(columns=['group_by_subsection_name'])\n",
    "\n",
    "evaluate_model(xgb_gs_v1)\n",
    "xgb_gs_v1.fit(X, y)\n",
    "print(' ')\n",
    "evaluate_model(xgb_gs_v1)"
   ]
  },
  {
   "attachments": {},
   "cell_type": "markdown",
   "metadata": {},
   "source": [
    "- Unmodified Version2"
   ]
  },
  {
   "cell_type": "code",
   "execution_count": 20,
   "metadata": {},
   "outputs": [
    {
     "name": "stdout",
     "output_type": "stream",
     "text": [
      "### METRICS ###\n"
     ]
    },
    {
     "data": {
      "text/plain": [
       "{'model': 'xgb',\n",
       " 'train_auc': 0.9389483633869015,\n",
       " 'test_auc': 0.8670054653641308,\n",
       " 'precision': 0.7253210272873194,\n",
       " 'specificity': 0.8945381711732532,\n",
       " 'recall': 0.6037074148296593,\n",
       " 'f_score': 0.6589500546846518}"
      ]
     },
     "metadata": {},
     "output_type": "display_data"
    },
    {
     "name": "stdout",
     "output_type": "stream",
     "text": [
      "True Negatives: 11612\n",
      "False Positives: 1369\n",
      "False Negatives: 2373\n",
      "True Positives: 3615\n",
      "Fitting 3 folds for each of 1 candidates, totalling 3 fits\n"
     ]
    },
    {
     "name": "stderr",
     "output_type": "stream",
     "text": [
      "c:\\Users\\88690\\anaconda3\\lib\\site-packages\\xgboost\\sklearn.py:1395: UserWarning: `use_label_encoder` is deprecated in 1.7.0.\n",
      "  warnings.warn(\"`use_label_encoder` is deprecated in 1.7.0.\")\n",
      "c:\\Users\\88690\\anaconda3\\lib\\site-packages\\xgboost\\sklearn.py:1395: UserWarning: `use_label_encoder` is deprecated in 1.7.0.\n",
      "  warnings.warn(\"`use_label_encoder` is deprecated in 1.7.0.\")\n"
     ]
    },
    {
     "name": "stdout",
     "output_type": "stream",
     "text": [
      "### BEST PARAMS ###\n"
     ]
    },
    {
     "data": {
      "text/plain": [
       "XGBClassifier(base_score=None, booster=None, callbacks=None,\n",
       "              colsample_bylevel=None, colsample_bynode=None,\n",
       "              colsample_bytree=None, early_stopping_rounds=None,\n",
       "              enable_categorical=False, eval_metric='auc', feature_types=None,\n",
       "              gamma=2.0, gpu_id=None, grow_policy=None, importance_type=None,\n",
       "              interaction_constraints=None, learning_rate=0.1, max_bin=None,\n",
       "              max_cat_threshold=None, max_cat_to_onehot=None,\n",
       "              max_delta_step=None, max_depth=5, max_leaves=None,\n",
       "              min_child_weight=None, missing=nan, monotone_constraints=None,\n",
       "              n_estimators=300, n_jobs=None, num_parallel_tree=None,\n",
       "              predictor=None, random_state=None, ...)"
      ]
     },
     "metadata": {},
     "output_type": "display_data"
    },
    {
     "name": "stdout",
     "output_type": "stream",
     "text": [
      "### METRICS ###\n"
     ]
    },
    {
     "data": {
      "text/plain": [
       "{'model': 'xgb',\n",
       " 'train_auc': 0.911770113551799,\n",
       " 'test_auc': 0.8700543950546498,\n",
       " 'precision': 0.7370672097759674,\n",
       " 'specificity': 0.9005469532393499,\n",
       " 'recall': 0.60437541750167,\n",
       " 'f_score': 0.6641585612038906}"
      ]
     },
     "metadata": {},
     "output_type": "display_data"
    },
    {
     "name": "stdout",
     "output_type": "stream",
     "text": [
      "True Negatives: 11690\n",
      "False Positives: 1291\n",
      "False Negatives: 2369\n",
      "True Positives: 3619\n",
      "Accuracy: 0.796\n",
      "Precision: 0.722\n",
      "Recall: 0.579\n",
      "ROC-AUC: 0.867\n",
      " \n",
      "Accuracy: 0.799\n",
      "Precision: 0.732\n",
      "Recall: 0.578\n",
      "ROC-AUC: 0.869\n"
     ]
    }
   ],
   "source": [
    "train = pd.read_pickle('./feature/feat_v2.pkl')\n",
    "X = train.drop(columns=['is_popular'])\n",
    "y = train['is_popular']\n",
    "X_train, X_test, y_train, y_test = train_test_split(X, y, test_size=0.3, random_state=42)\n",
    "X_graph.append(X_test)\n",
    "y_graph.append(y_test)\n",
    "feature_names = X_train.columns\n",
    "\n",
    "xgb = run_model('xgb')\n",
    "xgb_params = { \n",
    "              'xgb__learning_rate' : [0.1, 0.2, 0.3], \n",
    "              'xgb__max_depth' : [3, 5], \n",
    "              'xgb__n_estimators' : [100, 200, 300], \n",
    "              'xgb__reg_alpha' : [0.1, 1.0, 1.8, 2.0], \n",
    "              'xgb__reg_lambda' : [0.1, 1.0, 2.0, 2.4, 3.0], \n",
    "              'xgb__gamma' : [1.0, 2.0, 2.5, 3.0], \n",
    "            }\n",
    "xgb_v2_param = { \n",
    "              'xgb__learning_rate' : [0.1], \n",
    "              'xgb__max_depth' : [5], \n",
    "              'xgb__n_estimators' : [300], \n",
    "              'xgb__reg_alpha' : [1.0], \n",
    "              'xgb__reg_lambda' : [3.0], \n",
    "              'xgb__gamma' : [2.0], \n",
    "            }\n",
    "xgb_gs_v2 = run_model('xgb', mod_params=xgb_v2_param, grid_search=True)\n",
    "#xgb_gs[1].save_model('./model/xgb_v2.json')\n",
    "test = pd.read_pickle('./feature/feat_test_v2.pkl')\n",
    "test = test._get_numeric_data()\n",
    "final_actual = test['is_popular']\n",
    "test = test.drop(columns=['is_popular'])\n",
    "\n",
    "evaluate_model(xgb_gs_v2)\n",
    "xgb_gs_v2.fit(X, y)\n",
    "print(' ')\n",
    "evaluate_model(xgb_gs_v2)"
   ]
  },
  {
   "attachments": {},
   "cell_type": "markdown",
   "metadata": {},
   "source": [
    "- Modified Version1<br/>\n",
    "Choose the first 40 feature with the higher correlation with is_popular"
   ]
  },
  {
   "cell_type": "code",
   "execution_count": 21,
   "metadata": {},
   "outputs": [
    {
     "name": "stdout",
     "output_type": "stream",
     "text": [
      "### METRICS ###\n"
     ]
    },
    {
     "data": {
      "text/plain": [
       "{'model': 'xgb',\n",
       " 'train_auc': 0.9750533631900492,\n",
       " 'test_auc': 0.8394286871918404,\n",
       " 'precision': 0.7098214285714286,\n",
       " 'specificity': 0.9081488459726802,\n",
       " 'recall': 0.5335570469798657,\n",
       " 'f_score': 0.6091954022988506}"
      ]
     },
     "metadata": {},
     "output_type": "display_data"
    },
    {
     "name": "stdout",
     "output_type": "stream",
     "text": [
      "True Negatives: 3856\n",
      "False Positives: 390\n",
      "False Negatives: 834\n",
      "True Positives: 954\n",
      "Fitting 3 folds for each of 1 candidates, totalling 3 fits\n"
     ]
    },
    {
     "name": "stderr",
     "output_type": "stream",
     "text": [
      "c:\\Users\\88690\\anaconda3\\lib\\site-packages\\xgboost\\sklearn.py:1395: UserWarning: `use_label_encoder` is deprecated in 1.7.0.\n",
      "  warnings.warn(\"`use_label_encoder` is deprecated in 1.7.0.\")\n",
      "c:\\Users\\88690\\anaconda3\\lib\\site-packages\\xgboost\\sklearn.py:1395: UserWarning: `use_label_encoder` is deprecated in 1.7.0.\n",
      "  warnings.warn(\"`use_label_encoder` is deprecated in 1.7.0.\")\n"
     ]
    },
    {
     "name": "stdout",
     "output_type": "stream",
     "text": [
      "### BEST PARAMS ###\n"
     ]
    },
    {
     "data": {
      "text/plain": [
       "XGBClassifier(base_score=None, booster=None, callbacks=None,\n",
       "              colsample_bylevel=None, colsample_bynode=None,\n",
       "              colsample_bytree=None, early_stopping_rounds=None,\n",
       "              enable_categorical=False, eval_metric='auc', feature_types=None,\n",
       "              gamma=1.0, gpu_id=None, grow_policy=None, importance_type=None,\n",
       "              interaction_constraints=None, learning_rate=0.1, max_bin=None,\n",
       "              max_cat_threshold=None, max_cat_to_onehot=None,\n",
       "              max_delta_step=None, max_depth=5, max_leaves=None,\n",
       "              min_child_weight=None, missing=nan, monotone_constraints=None,\n",
       "              n_estimators=100, n_jobs=None, num_parallel_tree=None,\n",
       "              predictor=None, random_state=None, ...)"
      ]
     },
     "metadata": {},
     "output_type": "display_data"
    },
    {
     "name": "stdout",
     "output_type": "stream",
     "text": [
      "### METRICS ###\n"
     ]
    },
    {
     "data": {
      "text/plain": [
       "{'model': 'xgb',\n",
       " 'train_auc': 0.8957814876576966,\n",
       " 'test_auc': 0.8495945256016716,\n",
       " 'precision': 0.7450826121164438,\n",
       " 'specificity': 0.9236928874234573,\n",
       " 'recall': 0.5296420581655481,\n",
       " 'f_score': 0.6191565871199739}"
      ]
     },
     "metadata": {},
     "output_type": "display_data"
    },
    {
     "name": "stdout",
     "output_type": "stream",
     "text": [
      "True Negatives: 3922\n",
      "False Positives: 324\n",
      "False Negatives: 841\n",
      "True Positives: 947\n",
      "Accuracy: 0.675\n",
      "Precision: 0.899\n",
      "Recall: 0.393\n",
      "ROC-AUC: 0.823\n",
      " \n",
      "Accuracy: 0.679\n",
      "Precision: 0.898\n",
      "Recall: 0.403\n",
      "ROC-AUC: 0.826\n"
     ]
    }
   ],
   "source": [
    "train = pd.read_pickle('./feature/feat_modified_v1.pkl')\n",
    "X = train.drop(columns=['is_popular','n_comment','group_by_subsection_name','feature_subsection_name'])\n",
    "y = train['is_popular']\n",
    "X_train, X_test, y_train, y_test = train_test_split(X, y, test_size=0.3, random_state=42)\n",
    "X_graph.append(X_test)\n",
    "y_graph.append(y_test)\n",
    "feature_names = X_train.columns\n",
    "\n",
    "xgb_mod_v1 = run_model('xgb')\n",
    "xgb_mod_v1_param = { \n",
    "              'xgb__learning_rate' : [0.1], \n",
    "              'xgb__max_depth' : [5],\n",
    "              'xgb__n_estimators' : [100], \n",
    "              'xgb__reg_alpha' : [1.8], \n",
    "              'xgb__reg_lambda' : [3.0], \n",
    "              'xgb__gamma' : [1.0],\n",
    "            }\n",
    "xgb_gs_mod_v1 = run_model('xgb', mod_params=xgb_mod_v1_param, grid_search=True)\n",
    "test = pd.read_pickle('./feature/feat_test_modified_v1.pkl')\n",
    "test = test._get_numeric_data()\n",
    "\n",
    "final_actual = test['is_popular']\n",
    "test = test.drop(columns=['is_popular'])\n",
    "test = test.drop(columns=['feature_subsection_name'])\n",
    "test = test.drop(columns=['n_comment'])\n",
    "test = test.drop(columns=['group_by_subsection_name'])\n",
    "\n",
    "evaluate_model(xgb_gs_mod_v1)\n",
    "xgb_gs_mod_v1.fit(X, y)\n",
    "print(' ')\n",
    "evaluate_model(xgb_gs_mod_v1)\n"
   ]
  },
  {
   "attachments": {},
   "cell_type": "markdown",
   "metadata": {},
   "source": [
    "- Modified Version1.03</br>\n",
    "The dataset has 30% is_popular data, as same as the unmodified dataset."
   ]
  },
  {
   "cell_type": "code",
   "execution_count": 22,
   "metadata": {},
   "outputs": [
    {
     "name": "stdout",
     "output_type": "stream",
     "text": [
      "### METRICS ###\n"
     ]
    },
    {
     "data": {
      "text/plain": [
       "{'model': 'xgb',\n",
       " 'train_auc': 0.9812659580551263,\n",
       " 'test_auc': 0.8361775683601674,\n",
       " 'precision': 0.7004437869822485,\n",
       " 'specificity': 0.9046161092793217,\n",
       " 'recall': 0.5296420581655481,\n",
       " 'f_score': 0.6031847133757963}"
      ]
     },
     "metadata": {},
     "output_type": "display_data"
    },
    {
     "name": "stdout",
     "output_type": "stream",
     "text": [
      "True Negatives: 3841\n",
      "False Positives: 405\n",
      "False Negatives: 841\n",
      "True Positives: 947\n",
      "Fitting 3 folds for each of 1 candidates, totalling 3 fits\n"
     ]
    },
    {
     "name": "stderr",
     "output_type": "stream",
     "text": [
      "c:\\Users\\88690\\anaconda3\\lib\\site-packages\\xgboost\\sklearn.py:1395: UserWarning: `use_label_encoder` is deprecated in 1.7.0.\n",
      "  warnings.warn(\"`use_label_encoder` is deprecated in 1.7.0.\")\n",
      "c:\\Users\\88690\\anaconda3\\lib\\site-packages\\xgboost\\sklearn.py:1395: UserWarning: `use_label_encoder` is deprecated in 1.7.0.\n",
      "  warnings.warn(\"`use_label_encoder` is deprecated in 1.7.0.\")\n"
     ]
    },
    {
     "name": "stdout",
     "output_type": "stream",
     "text": [
      "### BEST PARAMS ###\n"
     ]
    },
    {
     "data": {
      "text/plain": [
       "XGBClassifier(base_score=None, booster=None, callbacks=None,\n",
       "              colsample_bylevel=None, colsample_bynode=None,\n",
       "              colsample_bytree=None, early_stopping_rounds=None,\n",
       "              enable_categorical=False, eval_metric='auc', feature_types=None,\n",
       "              gamma=3.0, gpu_id=None, grow_policy=None, importance_type=None,\n",
       "              interaction_constraints=None, learning_rate=0.1, max_bin=None,\n",
       "              max_cat_threshold=None, max_cat_to_onehot=None,\n",
       "              max_delta_step=None, max_depth=5, max_leaves=None,\n",
       "              min_child_weight=None, missing=nan, monotone_constraints=None,\n",
       "              n_estimators=200, n_jobs=None, num_parallel_tree=None,\n",
       "              predictor=None, random_state=None, ...)"
      ]
     },
     "metadata": {},
     "output_type": "display_data"
    },
    {
     "name": "stdout",
     "output_type": "stream",
     "text": [
      "### METRICS ###\n"
     ]
    },
    {
     "data": {
      "text/plain": [
       "{'model': 'xgb',\n",
       " 'train_auc': 0.9078018478405325,\n",
       " 'test_auc': 0.8514977512721541,\n",
       " 'precision': 0.7408844065166796,\n",
       " 'specificity': 0.9213377296278851,\n",
       " 'recall': 0.5341163310961968,\n",
       " 'f_score': 0.620734481637959}"
      ]
     },
     "metadata": {},
     "output_type": "display_data"
    },
    {
     "name": "stdout",
     "output_type": "stream",
     "text": [
      "True Negatives: 3912\n",
      "False Positives: 334\n",
      "False Negatives: 833\n",
      "True Positives: 955\n",
      "Accuracy: 0.680\n",
      "Precision: 0.900\n",
      "Recall: 0.405\n",
      "ROC-AUC: 0.827\n",
      " \n",
      "Accuracy: 0.682\n",
      "Precision: 0.902\n",
      "Recall: 0.406\n",
      "ROC-AUC: 0.826\n"
     ]
    }
   ],
   "source": [
    "train = pd.read_pickle('./feature/feat_modified_v1_0.3.pkl')\n",
    "X = train.drop(columns=['is_popular','n_comment','group_by_subsection_name','feature_subsection_name'])\n",
    "y = train['is_popular']\n",
    "X_train, X_test, y_train, y_test = train_test_split(X, y, test_size=0.3, random_state=42)\n",
    "X_graph.append(X_test)\n",
    "y_graph.append(y_test)\n",
    "feature_names = X_train.columns\n",
    "\n",
    "xgb_mod_v1_03 = run_model('xgb')\n",
    "xgb_mod_v1_03_param = { \n",
    "              'xgb__learning_rate' : [0.1], \n",
    "              'xgb__max_depth' : [5],\n",
    "              'xgb__n_estimators' : [200], \n",
    "              'xgb__reg_alpha' : [1.8], \n",
    "              'xgb__reg_lambda' : [0.1], \n",
    "              'xgb__gamma' : [3.0],\n",
    "            }\n",
    "xgb_gs_mod_v1_03 = run_model('xgb', mod_params=xgb_mod_v1_03_param, grid_search=True)\n",
    "\n",
    "test = pd.read_pickle('./feature/feat_test_modified_v1_0.3.pkl')\n",
    "test = test._get_numeric_data()\n",
    "\n",
    "final_actual = test['is_popular']\n",
    "test = test.drop(columns=['is_popular'])\n",
    "test = test.drop(columns=['feature_subsection_name'])\n",
    "test = test.drop(columns=['n_comment'])\n",
    "test = test.drop(columns=['group_by_subsection_name'])\n",
    "\n",
    "evaluate_model(xgb_gs_mod_v1_03)\n",
    "xgb_gs_mod_v1_03.fit(X, y)\n",
    "print(' ')\n",
    "evaluate_model(xgb_gs_mod_v1_03)\n"
   ]
  },
  {
   "attachments": {},
   "cell_type": "markdown",
   "metadata": {},
   "source": [
    "- Modified Version2"
   ]
  },
  {
   "cell_type": "code",
   "execution_count": 23,
   "metadata": {},
   "outputs": [
    {
     "name": "stdout",
     "output_type": "stream",
     "text": [
      "### METRICS ###\n"
     ]
    },
    {
     "data": {
      "text/plain": [
       "{'model': 'xgb',\n",
       " 'train_auc': 0.9745069257540302,\n",
       " 'test_auc': 0.833544544487334,\n",
       " 'precision': 0.7451388888888889,\n",
       " 'specificity': 0.7616883116883116,\n",
       " 'recall': 0.7264725795531483,\n",
       " 'f_score': 0.7356873500171409}"
      ]
     },
     "metadata": {},
     "output_type": "display_data"
    },
    {
     "name": "stdout",
     "output_type": "stream",
     "text": [
      "True Negatives: 2346\n",
      "False Positives: 734\n",
      "False Negatives: 808\n",
      "True Positives: 2146\n",
      "Fitting 3 folds for each of 1 candidates, totalling 3 fits\n"
     ]
    },
    {
     "name": "stderr",
     "output_type": "stream",
     "text": [
      "c:\\Users\\88690\\anaconda3\\lib\\site-packages\\xgboost\\sklearn.py:1395: UserWarning: `use_label_encoder` is deprecated in 1.7.0.\n",
      "  warnings.warn(\"`use_label_encoder` is deprecated in 1.7.0.\")\n",
      "c:\\Users\\88690\\anaconda3\\lib\\site-packages\\xgboost\\sklearn.py:1395: UserWarning: `use_label_encoder` is deprecated in 1.7.0.\n",
      "  warnings.warn(\"`use_label_encoder` is deprecated in 1.7.0.\")\n"
     ]
    },
    {
     "name": "stdout",
     "output_type": "stream",
     "text": [
      "### BEST PARAMS ###\n"
     ]
    },
    {
     "data": {
      "text/plain": [
       "XGBClassifier(base_score=None, booster=None, callbacks=None,\n",
       "              colsample_bylevel=None, colsample_bynode=None,\n",
       "              colsample_bytree=None, early_stopping_rounds=None,\n",
       "              enable_categorical=False, eval_metric='auc', feature_types=None,\n",
       "              gamma=2.0, gpu_id=None, grow_policy=None, importance_type=None,\n",
       "              interaction_constraints=None, learning_rate=0.1, max_bin=None,\n",
       "              max_cat_threshold=None, max_cat_to_onehot=None,\n",
       "              max_delta_step=None, max_depth=5, max_leaves=None,\n",
       "              min_child_weight=None, missing=nan, monotone_constraints=None,\n",
       "              n_estimators=300, n_jobs=None, num_parallel_tree=None,\n",
       "              predictor=None, random_state=None, ...)"
      ]
     },
     "metadata": {},
     "output_type": "display_data"
    },
    {
     "name": "stdout",
     "output_type": "stream",
     "text": [
      "### METRICS ###\n"
     ]
    },
    {
     "data": {
      "text/plain": [
       "{'model': 'xgb',\n",
       " 'train_auc': 0.9291171290587124,\n",
       " 'test_auc': 0.8419028458001037,\n",
       " 'precision': 0.7605683836589698,\n",
       " 'specificity': 0.7811688311688312,\n",
       " 'recall': 0.7247799593771158,\n",
       " 'f_score': 0.7422430230542556}"
      ]
     },
     "metadata": {},
     "output_type": "display_data"
    },
    {
     "name": "stdout",
     "output_type": "stream",
     "text": [
      "True Negatives: 2406\n",
      "False Positives: 674\n",
      "False Negatives: 813\n",
      "True Positives: 2141\n",
      "Accuracy: 0.757\n",
      "Precision: 0.769\n",
      "Recall: 0.734\n",
      "ROC-AUC: 0.846\n",
      " \n",
      "Accuracy: 0.758\n",
      "Precision: 0.771\n",
      "Recall: 0.735\n",
      "ROC-AUC: 0.849\n"
     ]
    }
   ],
   "source": [
    "train = pd.read_pickle('./feature/feat_modified_v2.pkl')\n",
    "X = train.drop(columns=['is_popular'])\n",
    "y = train['is_popular']\n",
    "X_train, X_test, y_train, y_test = train_test_split(X, y, test_size=0.3, random_state=42)\n",
    "X_graph.append(X_test)\n",
    "y_graph.append(y_test)\n",
    "feature_names = X_train.columns\n",
    "\n",
    "xgb_mod_v2 = run_model('xgb')\n",
    "xgb_params = { \n",
    "              'xgb__learning_rate' : [0.1], \n",
    "              'xgb__max_depth' : [5], \n",
    "              'xgb__n_estimators' : [300], \n",
    "              'xgb__reg_alpha' : [1.0], \n",
    "              'xgb__reg_lambda' : [3.0], \n",
    "              'xgb__gamma' : [2.0], \n",
    "            }\n",
    "xgb_gs_mod_v2 = run_model('xgb', mod_params=xgb_params, grid_search=True)\n",
    "xgb_gs_mod_v2[1].save_model('./model/xgb_modified_v2.json')\n",
    "\n",
    "test = pd.read_pickle('./feature/feat_test_modified_v2.pkl')\n",
    "test = test._get_numeric_data()\n",
    "\n",
    "final_actual = test['is_popular']\n",
    "test = test.drop(columns=['is_popular'])\n",
    "\n",
    "evaluate_model(xgb_gs_mod_v2)\n",
    "xgb_gs_mod_v2.fit(X, y)\n",
    "print(' ')\n",
    "evaluate_model(xgb_gs_mod_v2)\n"
   ]
  },
  {
   "cell_type": "code",
   "execution_count": 24,
   "metadata": {},
   "outputs": [
    {
     "data": {
      "text/plain": [
       "\"\\nxgb_params = { \\n              'xgb__learning_rate' : [0.1, 0.2, 0.3], \\n              'xgb__max_depth' : [3, 5], \\n              'xgb__n_estimators' : [100, 200, 300], \\n              'xgb__reg_alpha' : [0.1, 1.0, 1.8, 2.0], \\n              'xgb__reg_lambda' : [0.1, 1.0, 2.0, 2.4, 3.0], \\n              'xgb__gamma' : [1.0, 2.0, 2.5, 3.0], \\n            }\\nxgb_gs = run_model('xgb', mod_params=xgb_params, grid_search=True)\\nxgb_gs[1].save_model('./model/xgb.json')\""
      ]
     },
     "execution_count": 24,
     "metadata": {},
     "output_type": "execute_result"
    }
   ],
   "source": [
    "\"\"\"\n",
    "xgb_params = { \n",
    "              'xgb__learning_rate' : [0.1, 0.2, 0.3], \n",
    "              'xgb__max_depth' : [3, 5], \n",
    "              'xgb__n_estimators' : [100, 200, 300], \n",
    "              'xgb__reg_alpha' : [0.1, 1.0, 1.8, 2.0], \n",
    "              'xgb__reg_lambda' : [0.1, 1.0, 2.0, 2.4, 3.0], \n",
    "              'xgb__gamma' : [1.0, 2.0, 2.5, 3.0], \n",
    "            }\n",
    "xgb_gs = run_model('xgb', mod_params=xgb_params, grid_search=True)\n",
    "xgb_gs[1].save_model('./model/xgb.json')\"\"\""
   ]
  },
  {
   "cell_type": "code",
   "execution_count": 25,
   "metadata": {},
   "outputs": [
    {
     "data": {
      "text/html": [
       "<div>\n",
       "<style scoped>\n",
       "    .dataframe tbody tr th:only-of-type {\n",
       "        vertical-align: middle;\n",
       "    }\n",
       "\n",
       "    .dataframe tbody tr th {\n",
       "        vertical-align: top;\n",
       "    }\n",
       "\n",
       "    .dataframe thead th {\n",
       "        text-align: right;\n",
       "    }\n",
       "</style>\n",
       "<table border=\"1\" class=\"dataframe\">\n",
       "  <thead>\n",
       "    <tr style=\"text-align: right;\">\n",
       "      <th></th>\n",
       "      <th>model</th>\n",
       "      <th>train_auc</th>\n",
       "      <th>test_auc</th>\n",
       "      <th>precision</th>\n",
       "      <th>specificity</th>\n",
       "      <th>recall</th>\n",
       "      <th>f_score</th>\n",
       "    </tr>\n",
       "  </thead>\n",
       "  <tbody>\n",
       "    <tr>\n",
       "      <th>0</th>\n",
       "      <td>rf</td>\n",
       "      <td>1.000000</td>\n",
       "      <td>0.886143</td>\n",
       "      <td>0.757903</td>\n",
       "      <td>0.908854</td>\n",
       "      <td>0.624958</td>\n",
       "      <td>0.685040</td>\n",
       "    </tr>\n",
       "    <tr>\n",
       "      <th>1</th>\n",
       "      <td>xgb</td>\n",
       "      <td>0.944539</td>\n",
       "      <td>0.881929</td>\n",
       "      <td>0.726846</td>\n",
       "      <td>0.888351</td>\n",
       "      <td>0.650690</td>\n",
       "      <td>0.686663</td>\n",
       "    </tr>\n",
       "    <tr>\n",
       "      <th>2</th>\n",
       "      <td>rf</td>\n",
       "      <td>1.000000</td>\n",
       "      <td>0.869377</td>\n",
       "      <td>0.756781</td>\n",
       "      <td>0.915030</td>\n",
       "      <td>0.573146</td>\n",
       "      <td>0.652285</td>\n",
       "    </tr>\n",
       "    <tr>\n",
       "      <th>3</th>\n",
       "      <td>xgb</td>\n",
       "      <td>0.938948</td>\n",
       "      <td>0.867005</td>\n",
       "      <td>0.725321</td>\n",
       "      <td>0.894538</td>\n",
       "      <td>0.603707</td>\n",
       "      <td>0.658950</td>\n",
       "    </tr>\n",
       "    <tr>\n",
       "      <th>4</th>\n",
       "      <td>rf</td>\n",
       "      <td>0.999897</td>\n",
       "      <td>0.847301</td>\n",
       "      <td>0.734694</td>\n",
       "      <td>0.917334</td>\n",
       "      <td>0.543624</td>\n",
       "      <td>0.624879</td>\n",
       "    </tr>\n",
       "    <tr>\n",
       "      <th>5</th>\n",
       "      <td>rf</td>\n",
       "      <td>0.999914</td>\n",
       "      <td>0.845944</td>\n",
       "      <td>0.737567</td>\n",
       "      <td>0.919218</td>\n",
       "      <td>0.539150</td>\n",
       "      <td>0.622940</td>\n",
       "    </tr>\n",
       "    <tr>\n",
       "      <th>6</th>\n",
       "      <td>rf</td>\n",
       "      <td>1.000000</td>\n",
       "      <td>0.842965</td>\n",
       "      <td>0.776059</td>\n",
       "      <td>0.802597</td>\n",
       "      <td>0.713270</td>\n",
       "      <td>0.743341</td>\n",
       "    </tr>\n",
       "    <tr>\n",
       "      <th>7</th>\n",
       "      <td>xgb</td>\n",
       "      <td>0.975053</td>\n",
       "      <td>0.839429</td>\n",
       "      <td>0.709821</td>\n",
       "      <td>0.908149</td>\n",
       "      <td>0.533557</td>\n",
       "      <td>0.609195</td>\n",
       "    </tr>\n",
       "    <tr>\n",
       "      <th>8</th>\n",
       "      <td>xgb</td>\n",
       "      <td>0.981266</td>\n",
       "      <td>0.836178</td>\n",
       "      <td>0.700444</td>\n",
       "      <td>0.904616</td>\n",
       "      <td>0.529642</td>\n",
       "      <td>0.603185</td>\n",
       "    </tr>\n",
       "    <tr>\n",
       "      <th>9</th>\n",
       "      <td>xgb</td>\n",
       "      <td>0.974507</td>\n",
       "      <td>0.833545</td>\n",
       "      <td>0.745139</td>\n",
       "      <td>0.761688</td>\n",
       "      <td>0.726473</td>\n",
       "      <td>0.735687</td>\n",
       "    </tr>\n",
       "  </tbody>\n",
       "</table>\n",
       "</div>"
      ],
      "text/plain": [
       "  model  train_auc  test_auc  precision  specificity    recall   f_score\n",
       "0    rf   1.000000  0.886143   0.757903     0.908854  0.624958  0.685040\n",
       "1   xgb   0.944539  0.881929   0.726846     0.888351  0.650690  0.686663\n",
       "2    rf   1.000000  0.869377   0.756781     0.915030  0.573146  0.652285\n",
       "3   xgb   0.938948  0.867005   0.725321     0.894538  0.603707  0.658950\n",
       "4    rf   0.999897  0.847301   0.734694     0.917334  0.543624  0.624879\n",
       "5    rf   0.999914  0.845944   0.737567     0.919218  0.539150  0.622940\n",
       "6    rf   1.000000  0.842965   0.776059     0.802597  0.713270  0.743341\n",
       "7   xgb   0.975053  0.839429   0.709821     0.908149  0.533557  0.609195\n",
       "8   xgb   0.981266  0.836178   0.700444     0.904616  0.529642  0.603185\n",
       "9   xgb   0.974507  0.833545   0.745139     0.761688  0.726473  0.735687"
      ]
     },
     "execution_count": 25,
     "metadata": {},
     "output_type": "execute_result"
    }
   ],
   "source": [
    "pd.DataFrame(init_list).sort_values(by='test_auc', ascending=False).reset_index(drop=True)"
   ]
  },
  {
   "cell_type": "code",
   "execution_count": 26,
   "metadata": {},
   "outputs": [
    {
     "data": {
      "text/html": [
       "<div>\n",
       "<style scoped>\n",
       "    .dataframe tbody tr th:only-of-type {\n",
       "        vertical-align: middle;\n",
       "    }\n",
       "\n",
       "    .dataframe tbody tr th {\n",
       "        vertical-align: top;\n",
       "    }\n",
       "\n",
       "    .dataframe thead th {\n",
       "        text-align: right;\n",
       "    }\n",
       "</style>\n",
       "<table border=\"1\" class=\"dataframe\">\n",
       "  <thead>\n",
       "    <tr style=\"text-align: right;\">\n",
       "      <th></th>\n",
       "      <th>model</th>\n",
       "      <th>train_auc</th>\n",
       "      <th>test_auc</th>\n",
       "      <th>precision</th>\n",
       "      <th>specificity</th>\n",
       "      <th>recall</th>\n",
       "      <th>f_score</th>\n",
       "    </tr>\n",
       "  </thead>\n",
       "  <tbody>\n",
       "    <tr>\n",
       "      <th>0</th>\n",
       "      <td>rf</td>\n",
       "      <td>0.994526</td>\n",
       "      <td>0.889330</td>\n",
       "      <td>0.766764</td>\n",
       "      <td>0.914536</td>\n",
       "      <td>0.615372</td>\n",
       "      <td>0.682777</td>\n",
       "    </tr>\n",
       "    <tr>\n",
       "      <th>5</th>\n",
       "      <td>xgb</td>\n",
       "      <td>0.922508</td>\n",
       "      <td>0.884741</td>\n",
       "      <td>0.734814</td>\n",
       "      <td>0.892728</td>\n",
       "      <td>0.651026</td>\n",
       "      <td>0.690387</td>\n",
       "    </tr>\n",
       "    <tr>\n",
       "      <th>1</th>\n",
       "      <td>rf</td>\n",
       "      <td>0.999212</td>\n",
       "      <td>0.871493</td>\n",
       "      <td>0.764600</td>\n",
       "      <td>0.919575</td>\n",
       "      <td>0.566299</td>\n",
       "      <td>0.650676</td>\n",
       "    </tr>\n",
       "    <tr>\n",
       "      <th>6</th>\n",
       "      <td>xgb</td>\n",
       "      <td>0.911770</td>\n",
       "      <td>0.870054</td>\n",
       "      <td>0.737067</td>\n",
       "      <td>0.900547</td>\n",
       "      <td>0.604375</td>\n",
       "      <td>0.664159</td>\n",
       "    </tr>\n",
       "    <tr>\n",
       "      <th>3</th>\n",
       "      <td>rf</td>\n",
       "      <td>0.964810</td>\n",
       "      <td>0.853704</td>\n",
       "      <td>0.745233</td>\n",
       "      <td>0.921338</td>\n",
       "      <td>0.546421</td>\n",
       "      <td>0.630526</td>\n",
       "    </tr>\n",
       "    <tr>\n",
       "      <th>8</th>\n",
       "      <td>xgb</td>\n",
       "      <td>0.907802</td>\n",
       "      <td>0.851498</td>\n",
       "      <td>0.740884</td>\n",
       "      <td>0.921338</td>\n",
       "      <td>0.534116</td>\n",
       "      <td>0.620734</td>\n",
       "    </tr>\n",
       "    <tr>\n",
       "      <th>2</th>\n",
       "      <td>rf</td>\n",
       "      <td>0.942708</td>\n",
       "      <td>0.851270</td>\n",
       "      <td>0.750586</td>\n",
       "      <td>0.924870</td>\n",
       "      <td>0.536913</td>\n",
       "      <td>0.626019</td>\n",
       "    </tr>\n",
       "    <tr>\n",
       "      <th>7</th>\n",
       "      <td>xgb</td>\n",
       "      <td>0.895781</td>\n",
       "      <td>0.849595</td>\n",
       "      <td>0.745083</td>\n",
       "      <td>0.923693</td>\n",
       "      <td>0.529642</td>\n",
       "      <td>0.619157</td>\n",
       "    </tr>\n",
       "    <tr>\n",
       "      <th>4</th>\n",
       "      <td>rf</td>\n",
       "      <td>0.982929</td>\n",
       "      <td>0.846519</td>\n",
       "      <td>0.780909</td>\n",
       "      <td>0.810714</td>\n",
       "      <td>0.703453</td>\n",
       "      <td>0.740160</td>\n",
       "    </tr>\n",
       "    <tr>\n",
       "      <th>9</th>\n",
       "      <td>xgb</td>\n",
       "      <td>0.929117</td>\n",
       "      <td>0.841903</td>\n",
       "      <td>0.760568</td>\n",
       "      <td>0.781169</td>\n",
       "      <td>0.724780</td>\n",
       "      <td>0.742243</td>\n",
       "    </tr>\n",
       "  </tbody>\n",
       "</table>\n",
       "</div>"
      ],
      "text/plain": [
       "  model  train_auc  test_auc  precision  specificity    recall   f_score\n",
       "0    rf   0.994526  0.889330   0.766764     0.914536  0.615372  0.682777\n",
       "5   xgb   0.922508  0.884741   0.734814     0.892728  0.651026  0.690387\n",
       "1    rf   0.999212  0.871493   0.764600     0.919575  0.566299  0.650676\n",
       "6   xgb   0.911770  0.870054   0.737067     0.900547  0.604375  0.664159\n",
       "3    rf   0.964810  0.853704   0.745233     0.921338  0.546421  0.630526\n",
       "8   xgb   0.907802  0.851498   0.740884     0.921338  0.534116  0.620734\n",
       "2    rf   0.942708  0.851270   0.750586     0.924870  0.536913  0.626019\n",
       "7   xgb   0.895781  0.849595   0.745083     0.923693  0.529642  0.619157\n",
       "4    rf   0.982929  0.846519   0.780909     0.810714  0.703453  0.740160\n",
       "9   xgb   0.929117  0.841903   0.760568     0.781169  0.724780  0.742243"
      ]
     },
     "execution_count": 26,
     "metadata": {},
     "output_type": "execute_result"
    }
   ],
   "source": [
    "gs_df = pd.DataFrame(gs_list)\n",
    "gs_df.sort_values(by='test_auc', ascending=False)"
   ]
  },
  {
   "cell_type": "code",
   "execution_count": 27,
   "metadata": {},
   "outputs": [],
   "source": [
    "gs_dict = {\n",
    "    rf_gs_v1: 'RandomForest Unmodified V1',\n",
    "    rf_gs_v2: 'RandomForest Unmodified V2',\n",
    "    rf_gs_mod_v1: 'RandomForest Modified V1',\n",
    "    rf_gs_mod_v1_03: 'RandomForest Modified V1-0.3',\n",
    "    rf_gs_mod_v2: 'RandomForest Modified V2',\n",
    "    xgb_gs_v1: 'XGBoostClassfier Unmodified V1',\n",
    "    xgb_gs_v2: 'XGBoostClassfier Unmodified V2',\n",
    "    xgb_gs_mod_v1: 'XGBoostClassfier Modified V1',\n",
    "    xgb_gs_mod_v1_03: 'XGBoostClassfier Modified V1-0.3',\n",
    "    xgb_gs_mod_v2: 'XGBoostClassfier Modified V2',\n",
    "}"
   ]
  },
  {
   "cell_type": "code",
   "execution_count": 28,
   "metadata": {},
   "outputs": [],
   "source": [
    "def roc_curve_plotter(model_dict, plot_top=False):\n",
    "    fig, ax = plt.subplots(1, 1, figsize=(12,10))\n",
    "    axes = {}\n",
    "    for i, m in enumerate(model_dict.keys()):\n",
    "        axes[f'ax{i}'] = sklearn.metrics.RocCurveDisplay.from_estimator(m, X_graph[i], y_graph[i], ax=ax, name=model_dict[m])\n",
    "    if plot_top:\n",
    "        for i, a in enumerate(axes):\n",
    "            if i != 0:\n",
    "                axes[a].line_.set_color('gray')\n",
    "                axes[a].line_.set_alpha(0.25)\n",
    "                \n",
    "    plt.plot([0, 1], [0, 1], color='black', lw=2, linestyle='--', label='Random Guess')\n",
    "    plt.title('ROC-AUC Curve', fontsize=22)\n",
    "    plt.xlabel('False Positive Rate', fontsize=12)\n",
    "    plt.ylabel('True Positive Rate', fontsize=12)\n",
    "    plt.legend(fontsize=12)"
   ]
  },
  {
   "cell_type": "code",
   "execution_count": 29,
   "metadata": {},
   "outputs": [
    {
     "data": {
      "image/png": "[encoded data removed]",
      "text/plain": [
       "<Figure size 1200x1000 with 1 Axes>"
      ]
     },
     "metadata": {},
     "output_type": "display_data"
    }
   ],
   "source": [
    "roc_curve_plotter(gs_dict, True)"
   ]
  }
 ],
 "metadata": {
  "kernelspec": {
   "display_name": "Python 3",
   "language": "python",
   "name": "python3"
  },
  "language_info": {
   "codemirror_mode": {
    "name": "ipython",
    "version": 3
   },
   "file_extension": ".py",
   "mimetype": "text/x-python",
   "name": "python",
   "nbconvert_exporter": "python",
   "pygments_lexer": "ipython3",
   "version": "3.11.3"
  },
  "orig_nbformat": 4
 },
 "nbformat": 4,
 "nbformat_minor": 2
}
